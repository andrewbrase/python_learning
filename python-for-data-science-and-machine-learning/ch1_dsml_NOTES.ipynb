{
 "cells": [
  {
   "cell_type": "code",
   "execution_count": null,
   "metadata": {},
   "outputs": [],
   "source": [
    "# Learn how to use NumPy, Pandas, Seaborn , Matplotlib , Plotly , Scikit-Learn , Machine Learning, Tensorflow , and more"
   ]
  },
  {
   "cell_type": "code",
   "execution_count": null,
   "metadata": {},
   "outputs": [],
   "source": [
    "#ch1"
   ]
  },
  {
   "cell_type": "code",
   "execution_count": 9,
   "metadata": {},
   "outputs": [
    {
     "data": {
      "text/plain": [
       "4"
      ]
     },
     "execution_count": 9,
     "metadata": {},
     "output_type": "execute_result"
    }
   ],
   "source": [
    "#python crash course\n",
    "\n",
    "#data types\n",
    "\n",
    "#numbers\n",
    "\n",
    "#strings\n",
    "\n",
    "#printing\n",
    "# num = 7\n",
    "# name = 'andrew'\n",
    "# print('my number is {one} and my name is {two}, more info {one}'.format(one=num,two=name))\n",
    "# my number is 7 and my name is andrew, more info 7\n",
    "\n",
    "#lists\n",
    "\n",
    "#dictionaries\n",
    "# d = {'k1':{'innerkey':[1,2,3]}}\n",
    "# d['k1']['innerkey'][1]\n",
    "# 2\n",
    "\n",
    "#booleans\n",
    "\n",
    "#tuples - items cannot be reassigned like in a list\n",
    "\n",
    "#sets - only unique elements {1,1,1,2,2,2,3,3,3}\n",
    "# {1,2,3}\n",
    "# .add() - like append but for sets\n",
    "\n",
    "#comparison operators - 1 > 2 false\n",
    "\n",
    "#if,elif,else statements\n",
    "\n",
    "#for loops\n",
    "\n",
    "#while loops\n",
    "\n",
    "#range() - for x in range(0,5):\n",
    "# list(range(10))\n",
    "# [0,1,2,3,4,5,6,7,8,9]\n",
    "\n",
    "#list comprehensions - create a new list based on the values of an existing list\n",
    "# x=[1,2,3,4]\n",
    "# [num**2 for num in x]\n",
    "# [1, 4, 9, 16]\n",
    "\n",
    "# x=[1,2,3,4]\n",
    "# out = [num**2 for num in x]\n",
    "# out\n",
    "# [1, 4, 9, 16]\n",
    "\n",
    "#functions\n",
    "# def square(num):\n",
    "#     \"\"\"\n",
    "#     THIS IS A DOCSTRING\n",
    "#     CAN GO MULTIPLE LINES.\n",
    "#     THIS FUNCTION SQUARES A NUMBER\n",
    "#     \"\"\"\n",
    "#     return num **2\n",
    "\n",
    "# square(2)\n",
    "# 4\n",
    "\n",
    "#lambda expressions\n",
    "\n",
    "#map and filter\n",
    "\n",
    "#methods\n"
   ]
  }
 ],
 "metadata": {
  "kernelspec": {
   "display_name": "Python 3.10.5 64-bit (windows store)",
   "language": "python",
   "name": "python3"
  },
  "language_info": {
   "codemirror_mode": {
    "name": "ipython",
    "version": 3
   },
   "file_extension": ".py",
   "mimetype": "text/x-python",
   "name": "python",
   "nbconvert_exporter": "python",
   "pygments_lexer": "ipython3",
   "version": "3.10.5"
  },
  "orig_nbformat": 4,
  "vscode": {
   "interpreter": {
    "hash": "dd239d5c88ed0fbbea2f22807422df04200bb900720e85b0ada3495c01ab65a0"
   }
  }
 },
 "nbformat": 4,
 "nbformat_minor": 2
}
