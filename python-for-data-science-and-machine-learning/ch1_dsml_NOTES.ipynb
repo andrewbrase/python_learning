{
 "cells": [
  {
   "cell_type": "code",
   "execution_count": null,
   "metadata": {},
   "outputs": [],
   "source": [
    "# Learn how to use NumPy, Pandas, Seaborn , Matplotlib , Plotly , Scikit-Learn , Machine Learning, Tensorflow , and more"
   ]
  },
  {
   "cell_type": "code",
   "execution_count": null,
   "metadata": {},
   "outputs": [],
   "source": [
    "#ch1"
   ]
  },
  {
   "cell_type": "code",
   "execution_count": 32,
   "metadata": {},
   "outputs": [
    {
     "name": "stdout",
     "output_type": "stream",
     "text": [
      "1\n",
      "3\n",
      "5\n"
     ]
    }
   ],
   "source": [
    "#python crash course\n",
    "\n",
    "#data types\n",
    "\n",
    "#numbers\n",
    "\n",
    "#strings\n",
    "\n",
    "#printing\n",
    "# num = 7\n",
    "# name = 'andrew'\n",
    "# print('my number is {one} and my name is {two}, more info {one}'.format(one=num,two=name))\n",
    "# my number is 7 and my name is andrew, more info 7\n",
    "\n",
    "#lists\n",
    "\n",
    "#dictionaries\n",
    "# d = {'k1':{'innerkey':[1,2,3]}}\n",
    "# d['k1']['innerkey'][1]\n",
    "# 2\n",
    "\n",
    "#booleans\n",
    "\n",
    "#tuples - items cannot be reassigned like in a list\n",
    "\n",
    "#sets - only unique elements {1,1,1,2,2,2,3,3,3}\n",
    "# {1,2,3}\n",
    "# .add() - like append but for sets\n",
    "\n",
    "#comparison operators - 1 > 2 false\n",
    "\n",
    "#if,elif,else statements\n",
    "\n",
    "#for loops\n",
    "\n",
    "#while loops\n",
    "\n",
    "#range() - for x in range(0,5):\n",
    "# list(range(10))\n",
    "# [0,1,2,3,4,5,6,7,8,9]\n",
    "\n",
    "#list comprehensions - create a new list based on the values of an existing list\n",
    "# x=[1,2,3,4]\n",
    "# [num**2 for num in x]\n",
    "# [1, 4, 9, 16]\n",
    "\n",
    "# x=[1,2,3,4]\n",
    "# out = [num**2 for num in x]\n",
    "# out\n",
    "# [1, 4, 9, 16]\n",
    "\n",
    "#functions\n",
    "# def square(num):\n",
    "#     \"\"\"\n",
    "#     THIS IS A DOCSTRING\n",
    "#     CAN GO MULTIPLE LINES.\n",
    "#     THIS FUNCTION SQUARES A NUMBER\n",
    "#     \"\"\"\n",
    "#     return num **2\n",
    "\n",
    "# square(2)\n",
    "# 4\n",
    "\n",
    "#map and filter\n",
    "\n",
    "# seq = [1,2,3,4,5]\n",
    "# def times2(var):\n",
    "#     return var*2\n",
    "# times2(5)\n",
    "# 10\n",
    "\n",
    "# if you wanted to take every single element from seq and apply the times2 function,\n",
    "# you could use a loop and append to a new list but instead you can use map\n",
    "\n",
    "# seq = [1,2,3,4,5]\n",
    "# def times2(var):\n",
    "#     return var*2\n",
    "# newlist = list(map(times2,seq))\n",
    "# newlist\n",
    "# [2, 4, 6, 8, 10]\n",
    "\n",
    "\n",
    "#instead of completely defining a whole function - using map might be a one time deal - this is where lambda comes into play\n",
    "#lambda expressions\n",
    "\n",
    "# def times2(var):\n",
    "#     return var*2\n",
    "\n",
    "# this can be written on one line\n",
    "# def times2(var):return var*2\n",
    "# a lambda will try to replicate this structure but remove words not needed\n",
    "# def and return are given values\n",
    "# t = lambda var:var*2\n",
    "# t(6)\n",
    "# 12\n",
    "\n",
    "# you can use this with map\n",
    "\n",
    "# seq2=[1,2,3,4,5]\n",
    "# list(map(lambda num:num*2,seq2))\n",
    "# [2, 4, 6, 8, 10]\n",
    "\n",
    "# filter will filter out elements from a sequence\n",
    "#function that returns boolean values are needed\n",
    "# seq2=[1,2,3,4,5]\n",
    "# list(filter(lambda num:num%2==0,seq2))\n",
    "# returns even numbers in seq\n",
    "# [2, 4]\n",
    "\n",
    "#***Map will output the results of all items in a sequence being applied to that function/lambda expression\n",
    "#***Filter will return the results of the numbers in the sequence that have been applied to that lambda or function expression that checks for a boolean value\n",
    "\n",
    "#methods\n",
    "# s = 'hello my name is andrew'\n",
    "# s.split()\n",
    "# ['hello', 'my', 'name', 'is', 'andrew']\n",
    "\n",
    "# tweet = 'go sports #sports'\n",
    "# tweet.split('#')[1]\n",
    "# ['go sports ', 'sports']\n",
    "# 'sports'\n",
    "\n",
    "\n",
    "# useful methods for dictionaries\n",
    "# newdict = {'k1':1,'k2':2}\n",
    "\n",
    "# newdict.keys()\n",
    "# dict_keys(['k1', 'k2'])\n",
    "\n",
    "# newdict.items()\n",
    "# dict_items([('k1', 1), ('k2', 2)])\n",
    "\n",
    "# newdict.values()\n",
    "# dict_values([1, 2])\n",
    "\n",
    "\n",
    "#tuple unpacking\n",
    "# t1 = [(1,2),(3,4),(5,6)]\n",
    "# t1[0][0]\n",
    "# 1\n",
    "\n",
    "# for item in t1:\n",
    "#     print(item)\n",
    "# (1, 2)\n",
    "# (3, 4)\n",
    "# (5, 6)\n",
    "\n",
    "# for a,b in t1:\n",
    "#     print(a)\n",
    "# 1\n",
    "# 3\n",
    "# 5"
   ]
  },
  {
   "cell_type": "code",
   "execution_count": 10,
   "metadata": {},
   "outputs": [
    {
     "data": {
      "text/plain": [
       "5"
      ]
     },
     "execution_count": 10,
     "metadata": {},
     "output_type": "execute_result"
    }
   ],
   "source": [
    "#practice\n",
    "#Create a function that counts the number of times the word \"dog\" occurs in a string.\n",
    "\n",
    "def countdog(sent):\n",
    "    new = sent.split()\n",
    "    dogcount=0\n",
    "    for word in new:\n",
    "        if word == 'dog':\n",
    "            dogcount += 1\n",
    "    return dogcount\n",
    "\n",
    "countdog('dog dog dog cat dog dog')"
   ]
  },
  {
   "cell_type": "code",
   "execution_count": 11,
   "metadata": {},
   "outputs": [
    {
     "data": {
      "text/plain": [
       "['soup', 'salad']"
      ]
     },
     "execution_count": 11,
     "metadata": {},
     "output_type": "execute_result"
    }
   ],
   "source": [
    "# Use lambda expressions and the filter() function to filter out words from a list that don't start with the letter 's'\n",
    "\n",
    "seq = ['soup','dog','salad','cat','great']\n",
    "list(filter(lambda item:item[0]=='s',seq))"
   ]
  },
  {
   "cell_type": "code",
   "execution_count": null,
   "metadata": {},
   "outputs": [],
   "source": [
    "#NumPy section\n",
    "#data analysis library\n",
    "\n",
    "# NumPy is a linear algebra library for python, the reason it is important\n",
    "#  to data science is that almost all of the libraries in the PyData \n",
    "#  Ecosystem rely on numpy as one of their main building blocks\n",
    "\n",
    "# NumPy arrays are the main way we will use Numpy throughout the course. \n",
    "# Numpy arrays essentially come in two flavors: \n",
    "\n",
    "# vectors \n",
    "# and \n",
    "# matrices. \n",
    "\n",
    "# Vectors are strictly 1-d arrays and matrices are 2-d \n",
    "# (a matrix can still have only one row or colomn.)\n"
   ]
  },
  {
   "cell_type": "code",
   "execution_count": 14,
   "metadata": {},
   "outputs": [
    {
     "data": {
      "text/plain": [
       "array([1, 2, 3])"
      ]
     },
     "execution_count": 14,
     "metadata": {},
     "output_type": "execute_result"
    }
   ],
   "source": [
    "# numpy arrays\n",
    "# vectors and matrices\n",
    "\n",
    "import numpy as np\n",
    "\n",
    "my_list = [1,2,3]\n",
    "\n",
    "arr = np.array(my_list)\n",
    "\n",
    "arr"
   ]
  },
  {
   "cell_type": "code",
   "execution_count": 15,
   "metadata": {},
   "outputs": [
    {
     "data": {
      "text/plain": [
       "array([[1, 2, 3],\n",
       "       [4, 5, 6],\n",
       "       [7, 8, 9]])"
      ]
     },
     "execution_count": 15,
     "metadata": {},
     "output_type": "execute_result"
    }
   ],
   "source": [
    "#if you want matrix - 2d array list of lists\n",
    "my_mat = [[1,2,3],[4,5,6],[7,8,9]]\n",
    "np.array(my_mat)"
   ]
  },
  {
   "cell_type": "code",
   "execution_count": 18,
   "metadata": {},
   "outputs": [
    {
     "data": {
      "text/plain": [
       "array([ 0,  2,  4,  6,  8, 10])"
      ]
     },
     "execution_count": 18,
     "metadata": {},
     "output_type": "execute_result"
    }
   ],
   "source": [
    "#creating a numpy array\n",
    "#similar to pythons range function\n",
    "#from - to - step size\n",
    "np.arange(0,11,2)"
   ]
  },
  {
   "cell_type": "code",
   "execution_count": 20,
   "metadata": {},
   "outputs": [
    {
     "data": {
      "text/plain": [
       "array([0., 0., 0., 0., 0.])"
      ]
     },
     "execution_count": 20,
     "metadata": {},
     "output_type": "execute_result"
    }
   ],
   "source": [
    "np.zeros(5)\n",
    "#returns 1d vector"
   ]
  },
  {
   "cell_type": "code",
   "execution_count": 22,
   "metadata": {},
   "outputs": [
    {
     "data": {
      "text/plain": [
       "array([[0., 0., 0., 0., 0.],\n",
       "       [0., 0., 0., 0., 0.],\n",
       "       [0., 0., 0., 0., 0.],\n",
       "       [0., 0., 0., 0., 0.],\n",
       "       [0., 0., 0., 0., 0.]])"
      ]
     },
     "execution_count": 22,
     "metadata": {},
     "output_type": "execute_result"
    }
   ],
   "source": [
    "        #rows,columns\n",
    "np.zeros((5,5))\n",
    "# returns 2d matrix"
   ]
  },
  {
   "cell_type": "code",
   "execution_count": 23,
   "metadata": {},
   "outputs": [
    {
     "data": {
      "text/plain": [
       "array([[1., 1., 1., 1., 1., 1., 1., 1., 1.],\n",
       "       [1., 1., 1., 1., 1., 1., 1., 1., 1.],\n",
       "       [1., 1., 1., 1., 1., 1., 1., 1., 1.]])"
      ]
     },
     "execution_count": 23,
     "metadata": {},
     "output_type": "execute_result"
    }
   ],
   "source": [
    "np.ones((3,9))"
   ]
  },
  {
   "cell_type": "code",
   "execution_count": 24,
   "metadata": {},
   "outputs": [
    {
     "data": {
      "text/plain": [
       "array([0.        , 0.55555556, 1.11111111, 1.66666667, 2.22222222,\n",
       "       2.77777778, 3.33333333, 3.88888889, 4.44444444, 5.        ])"
      ]
     },
     "execution_count": 24,
     "metadata": {},
     "output_type": "execute_result"
    }
   ],
   "source": [
    "# linspace function - turns evenly spaced numbers over a specified interval\n",
    "#going to take in an argument of how many points you want\n",
    "\n",
    "            #start - stop - number\n",
    "            #you want to get 10 EVENLY spaced points BETWEEN 0 and 5\n",
    "np.linspace(0,5,10)\n",
    "# returns back a 1 demensional vector of 10 EVENLY spaced points BETWEEN 0 and 5"
   ]
  },
  {
   "cell_type": "code",
   "execution_count": null,
   "metadata": {},
   "outputs": [],
   "source": [
    "# array([ - one bracket means one demensional\n",
    "# array([[ = two bracket means two demensional array\n",
    "# three demensions will have 3 brackets etc"
   ]
  },
  {
   "cell_type": "code",
   "execution_count": 25,
   "metadata": {},
   "outputs": [
    {
     "data": {
      "text/plain": [
       "array([[1., 0., 0., 0.],\n",
       "       [0., 1., 0., 0.],\n",
       "       [0., 0., 1., 0.],\n",
       "       [0., 0., 0., 1.]])"
      ]
     },
     "execution_count": 25,
     "metadata": {},
     "output_type": "execute_result"
    }
   ],
   "source": [
    "#identity matrix\n",
    "np.eye(4)\n",
    "\n",
    "# useful with linear algebra problems\n",
    "# 2 dimensional square matrix - SAME number of rows is = to the SAME number of columns "
   ]
  },
  {
   "cell_type": "code",
   "execution_count": 26,
   "metadata": {},
   "outputs": [
    {
     "data": {
      "text/plain": [
       "array([[1., 0., 0., 0., 0., 0.],\n",
       "       [0., 1., 0., 0., 0., 0.],\n",
       "       [0., 0., 1., 0., 0., 0.],\n",
       "       [0., 0., 0., 1., 0., 0.],\n",
       "       [0., 0., 0., 0., 1., 0.],\n",
       "       [0., 0., 0., 0., 0., 1.]])"
      ]
     },
     "execution_count": 26,
     "metadata": {},
     "output_type": "execute_result"
    }
   ],
   "source": [
    "np.eye(6)"
   ]
  },
  {
   "cell_type": "code",
   "execution_count": 27,
   "metadata": {},
   "outputs": [
    {
     "data": {
      "text/plain": [
       "array([0.19815499, 0.78298399, 0.72267546, 0.81359062])"
      ]
     },
     "execution_count": 27,
     "metadata": {},
     "output_type": "execute_result"
    }
   ],
   "source": [
    "# numpy has ways of creating arrays of random numbers\n",
    "np.random.rand(4)\n",
    "#random samples from a uniform distribution over 0 - 1\n",
    "# if you want a 1 dimensional array of random numbers random from 0 - 1"
   ]
  },
  {
   "cell_type": "code",
   "execution_count": 30,
   "metadata": {},
   "outputs": [
    {
     "data": {
      "text/plain": [
       "array([[0.89913149, 0.58657893, 0.18832296],\n",
       "       [0.05348721, 0.28594569, 0.87219429],\n",
       "       [0.55794817, 0.77435286, 0.90583638],\n",
       "       [0.11566235, 0.21297028, 0.13924996],\n",
       "       [0.90745965, 0.27884058, 0.4179274 ]])"
      ]
     },
     "execution_count": 30,
     "metadata": {},
     "output_type": "execute_result"
    }
   ],
   "source": [
    "#if you want it to be 2 dimensional\n",
    "#instead of passing in a tuple - pass in the dimensions of the seperate arguments\n",
    "\n",
    "                #(make 5 rows #sample 3 numbers from 0 - 1)\n",
    "np.random.rand(5,3)"
   ]
  },
  {
   "cell_type": "code",
   "execution_count": 32,
   "metadata": {},
   "outputs": [
    {
     "data": {
      "text/plain": [
       "array([-0.08899884,  1.53325019])"
      ]
     },
     "execution_count": 32,
     "metadata": {},
     "output_type": "execute_result"
    }
   ],
   "source": [
    "# if you want to return a sample or many samples from the standard normal distribution\n",
    "# instead of using rand - you can use randn\n",
    "\n",
    "np.random.randn(2)\n",
    "#this will return numbers not from a uniform ditribution from 0 - 1 but instead\n",
    "# from a normal distribution centered around 0\n",
    "\n",
    "#look up gaussian distribution"
   ]
  },
  {
   "cell_type": "code",
   "execution_count": 33,
   "metadata": {},
   "outputs": [
    {
     "data": {
      "text/plain": [
       "array([[ 0.94146782,  0.06388578, -2.02805717, -1.49061844],\n",
       "       [ 0.3204236 ,  0.98464978, -0.37511418,  3.47788607],\n",
       "       [-1.46815863, -2.55828146,  0.77763494,  0.60496953],\n",
       "       [-0.25849772, -0.17934867, -0.76283008, -1.63316356]])"
      ]
     },
     "execution_count": 33,
     "metadata": {},
     "output_type": "execute_result"
    }
   ],
   "source": [
    "np.random.randn(4,4)"
   ]
  }
 ],
 "metadata": {
  "kernelspec": {
   "display_name": "Python 3.10.5 64-bit (windows store)",
   "language": "python",
   "name": "python3"
  },
  "language_info": {
   "codemirror_mode": {
    "name": "ipython",
    "version": 3
   },
   "file_extension": ".py",
   "mimetype": "text/x-python",
   "name": "python",
   "nbconvert_exporter": "python",
   "pygments_lexer": "ipython3",
   "version": "3.10.5"
  },
  "orig_nbformat": 4,
  "vscode": {
   "interpreter": {
    "hash": "dd239d5c88ed0fbbea2f22807422df04200bb900720e85b0ada3495c01ab65a0"
   }
  }
 },
 "nbformat": 4,
 "nbformat_minor": 2
}
