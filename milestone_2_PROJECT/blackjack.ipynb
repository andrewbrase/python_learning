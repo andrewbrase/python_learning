{
 "cells": [
  {
   "cell_type": "code",
   "execution_count": null,
   "metadata": {},
   "outputs": [],
   "source": [
    "# goal\n",
    "# use OOP to creat a Blackjack game with python\n",
    "# computer dealer and human player\n",
    "# deck of 52 cards\n",
    "# human player has a bank roll - attribute\n",
    "# the bank roll - human player places bet on set of hands\n",
    "# player starts with 2 cards face up and Dealer starts with 1 face up and 1 face down\n",
    "# player goal to get closer to a value of 21 than the dealer does\n",
    "# total value is the sum of all the face up cards the human has\n",
    "# human can hit - recieve another card from the deck or stay to stop recieving cards\n",
    "# ignore insurance, split or double down\n",
    "\n",
    "# if player is still under 21, the dealer hits until they beat the player or they bust\n",
    "\n",
    "# special rules - face cards (Jack, Queen, King) count as 10\n",
    "# aces can count as either a 1 or 11\n"
   ]
  }
 ],
 "metadata": {
  "language_info": {
   "name": "python"
  },
  "orig_nbformat": 4
 },
 "nbformat": 4,
 "nbformat_minor": 2
}
