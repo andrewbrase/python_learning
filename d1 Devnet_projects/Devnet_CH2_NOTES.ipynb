{
 "cells": [
  {
   "cell_type": "code",
   "execution_count": null,
   "metadata": {},
   "outputs": [],
   "source": [
    "#sudo\n",
    "# sudo apt-get update\n",
    "\n",
    "#traverse directories\n",
    "# cd / - changes directory to root directory\n",
    "# cd/home/username - changes directory to the /home/username directory\n",
    "# cd test - changes directory to the test folder\n",
    "# cd .. - moves up one directory\n",
    "\n",
    "#shows where you are working\n",
    "# pwd - print current working directory\n",
    "\n",
    "#showing whats in a directory\n",
    "# ls - lists files and directories in the current working directory\n",
    "# ls -a - lists everything in the current directory, including hidden files\n",
    "# ls /home/username - lists everything in /home/username directory\n",
    "# ls -l - list permissions , user and group ownership\n",
    "# ls -F - displays files and directories and denotes which are which\n",
    "\n",
    "#making directories \n",
    "# mkdir test - makes a new directory called test in the current working directory if you have the permission\n",
    "# mkdir /home/username/test - makes a new directory called test at /home/username/test \n",
    "\n",
    "#copying files\n",
    "# cp sydney.text sydney2.txt - copies a file called sydney.txt for the cwd and names the copy sydney2.txt\n",
    "# cp /home/username/sydney.txt ~/sydeny2.txt - copies a file as described above but using the full path and the home directory path \n",
    "# cp -r folder folder.old - copies a folder\n",
    "\n",
    "#moving a file\n",
    "# mv caleb.txt calebfinal.txt - renames a file caleb.txt to calebfinal.txt\n",
    "# mv /home/username/caleb.txt ~/calebfinal.txt - renames a file as described above but using full paths\n",
    "# mv -i * /home/username/new/ - moves all files and directories in the current folder to a new directory called new\n",
    "\n",
    "#removing a file\n",
    "# rm test.txt - deletes the file test.txt in cwd\n",
    "# rm -rf test - forces the deletion of a folder named test and everything in it\n",
    "\n",
    "#creating new files and/or change timestamps on a files access without opening it\n"
   ]
  }
 ],
 "metadata": {
  "language_info": {
   "name": "python"
  },
  "orig_nbformat": 4
 },
 "nbformat": 4,
 "nbformat_minor": 2
}
