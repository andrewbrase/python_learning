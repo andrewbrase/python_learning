{
 "cells": [
  {
   "cell_type": "code",
   "execution_count": null,
   "metadata": {},
   "outputs": [],
   "source": [
    "#ch1"
   ]
  },
  {
   "cell_type": "code",
   "execution_count": null,
   "metadata": {},
   "outputs": [],
   "source": [
    "#python crash course\n",
    "\n",
    "#data types\n",
    "# numbers\n",
    "# strings\n",
    "# printing\n",
    "# lists\n",
    "# dictionaries\n",
    "# booleans\n",
    "# tuples\n",
    "# sets\n",
    "\n",
    "#comparison operators\n",
    "#if,elif,else statements\n",
    "#for loops\n",
    "#while loops\n",
    "#range()\n",
    "#list comprehensions - create a new list based on the values of an existing list\n",
    "#functions\n",
    "#lambda expressions\n",
    "#map and filter\n",
    "#methods\n"
   ]
  }
 ],
 "metadata": {
  "language_info": {
   "name": "python"
  },
  "orig_nbformat": 4
 },
 "nbformat": 4,
 "nbformat_minor": 2
}
