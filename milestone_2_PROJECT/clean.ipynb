{
 "cells": [
  {
   "cell_type": "code",
   "execution_count": 2,
   "metadata": {},
   "outputs": [
    {
     "name": "stdout",
     "output_type": "stream",
     "text": [
      "Four of Hearts\n",
      "Ten of Clubs\n",
      "Two of Clubs\n",
      "Eight of Diamonds\n",
      "Eight of Spades\n",
      "Seven of Spades\n",
      "Ace of Diamonds\n",
      "Nine of Hearts\n",
      "Eight of Hearts\n",
      "Jack of Clubs\n",
      "Ace of Clubs\n",
      "Queen of Spades\n",
      "Ace of Hearts\n",
      "Three of Hearts\n",
      "King of Diamonds\n",
      "Ten of Hearts\n",
      "Eight of Clubs\n",
      "Ten of Spades\n",
      "Four of Spades\n",
      "Five of Spades\n",
      "Jack of Spades\n",
      "Six of Spades\n",
      "Seven of Clubs\n",
      "King of Hearts\n",
      "Queen of Diamonds\n",
      "Nine of Clubs\n",
      "Seven of Diamonds\n",
      "Two of Diamonds\n",
      "Jack of Hearts\n",
      "Ten of Diamonds\n",
      "Five of Diamonds\n",
      "Nine of Spades\n",
      "Seven of Hearts\n",
      "Three of Clubs\n",
      "Five of Hearts\n",
      "Four of Clubs\n",
      "Ace of Spades\n",
      "Three of Diamonds\n",
      "Nine of Diamonds\n",
      "Six of Hearts\n",
      "Three of Spades\n",
      "Two of Hearts\n",
      "Five of Clubs\n",
      "Six of Diamonds\n",
      "Four of Diamonds\n",
      "King of Clubs\n",
      "Queen of Clubs\n",
      "Jack of Diamonds\n",
      "Queen of Hearts\n",
      "Six of Clubs\n",
      "Two of Spades\n",
      "King of Spades\n"
     ]
    }
   ],
   "source": [
    "import random\n",
    "\n",
    "suits = ('Hearts', 'Diamonds', 'Spades', 'Clubs')\n",
    "ranks = ('Two', 'Three', 'Four', 'Five', 'Six', 'Seven', 'Eight', 'Nine', 'Ten', 'Jack', 'Queen', 'King', 'Ace')\n",
    "values = {'Two':2, 'Three':3, 'Four':4, 'Five':5, 'Six':6, 'Seven':7, 'Eight':8, \n",
    "            'Nine':9, 'Ten':10, 'Jack':11, 'Queen':12, 'King':13, 'Ace':14}\n",
    "\n",
    "class Card:\n",
    "\n",
    "    def __init__(self,suit,rank):\n",
    "        self.suit = suit\n",
    "        self.rank = rank\n",
    "        self.value = values[rank]\n",
    "\n",
    "    def __str__(self):\n",
    "        return self.rank + ' of ' + self.suit\n",
    "\n",
    "class Deck:\n",
    "\n",
    "    def __init__(self):\n",
    "\n",
    "        self.all_cards = []\n",
    "        for a in suits:\n",
    "            for b in ranks:\n",
    "                created_card = Card(a,b)\n",
    "                self.all_cards.append(created_card)\n",
    "    \n",
    "    def shuffle(self):\n",
    "        random.shuffle(self.all_cards)\n",
    "    \n",
    "    def deal_one(self):\n",
    "        return self.all_cards.pop()\n",
    "\n",
    "new_deck = Deck()\n",
    "new_deck.shuffle()\n",
    "\n",
    "# for _ in new_deck.all_cards:\n",
    "#     print(_)"
   ]
  }
 ],
 "metadata": {
  "kernelspec": {
   "display_name": "Python 3.10.5 64-bit (windows store)",
   "language": "python",
   "name": "python3"
  },
  "language_info": {
   "codemirror_mode": {
    "name": "ipython",
    "version": 3
   },
   "file_extension": ".py",
   "mimetype": "text/x-python",
   "name": "python",
   "nbconvert_exporter": "python",
   "pygments_lexer": "ipython3",
   "version": "3.10.5"
  },
  "orig_nbformat": 4,
  "vscode": {
   "interpreter": {
    "hash": "dd239d5c88ed0fbbea2f22807422df04200bb900720e85b0ada3495c01ab65a0"
   }
  }
 },
 "nbformat": 4,
 "nbformat_minor": 2
}
