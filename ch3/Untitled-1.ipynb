{
 "cells": [
  {
   "cell_type": "code",
   "execution_count": 1,
   "metadata": {},
   "outputs": [
    {
     "name": "stdout",
     "output_type": "stream",
     "text": [
      "ch3\n"
     ]
    }
   ],
   "source": [
    "print('ch3')"
   ]
  },
  {
   "cell_type": "code",
   "execution_count": null,
   "metadata": {},
   "outputs": [],
   "source": [
    "#methods - built in objects in python"
   ]
  },
  {
   "cell_type": "code",
   "execution_count": 12,
   "metadata": {},
   "outputs": [
    {
     "data": {
      "text/plain": [
       "[1, 2, 3, 4, 5, 6]"
      ]
     },
     "execution_count": 12,
     "metadata": {},
     "output_type": "execute_result"
    }
   ],
   "source": [
    "newlist = [1,2,3,4,5]\n",
    "newlist.append(6)\n",
    "newlist"
   ]
  },
  {
   "cell_type": "code",
   "execution_count": 16,
   "metadata": {},
   "outputs": [
    {
     "data": {
      "text/plain": [
       "[1, 2, 3, 5, 6]"
      ]
     },
     "execution_count": 16,
     "metadata": {},
     "output_type": "execute_result"
    }
   ],
   "source": [
    "newlist.pop(3)\n",
    "newlist\n",
    "#3 would pop off 4 indexing"
   ]
  },
  {
   "cell_type": "code",
   "execution_count": 17,
   "metadata": {},
   "outputs": [
    {
     "name": "stdout",
     "output_type": "stream",
     "text": [
      "Help on built-in function insert:\n",
      "\n",
      "insert(index, object, /) method of builtins.list instance\n",
      "    Insert object before index.\n",
      "\n"
     ]
    }
   ],
   "source": [
    "nnlist = [1,2,3]\n",
    "help(nnlist.insert)"
   ]
  },
  {
   "cell_type": "code",
   "execution_count": 20,
   "metadata": {},
   "outputs": [
    {
     "name": "stdout",
     "output_type": "stream",
     "text": [
      "functions - blocks of code that can be easily executed many times, without needing to constantly rewrite the entire block of code\n"
     ]
    }
   ],
   "source": [
    "print('functions - blocks of code that can be easily executed many times, without needing to constantly rewrite the entire block of code')"
   ]
  },
  {
   "cell_type": "code",
   "execution_count": 26,
   "metadata": {},
   "outputs": [],
   "source": [
    "#def keyword, creates function\n",
    "#def name_of_function():\n",
    "#   print('hello')\n",
    "#(to call)\n",
    "#name_of_function()\n",
    "#hello\n",
    "\n",
    "##\n",
    "\n",
    "#def name_of_function(inputname):\n",
    "#   print('hello + inputname')\n",
    "#(to call)\n",
    "#name_of_function(\"Jose\")\n",
    "#hello Jose\n",
    "\n",
    "#return allows us to assign the output of the function to a new variable\\\n"
   ]
  },
  {
   "cell_type": "code",
   "execution_count": 28,
   "metadata": {},
   "outputs": [],
   "source": [
    "#def add_function(num1+num2):\n",
    "#    return num1 + num2\n",
    "\n",
    "#result = add_function(1,2)\n",
    "\n",
    "#print(result)\n",
    "\n"
   ]
  },
  {
   "cell_type": "code",
   "execution_count": 32,
   "metadata": {},
   "outputs": [
    {
     "name": "stdout",
     "output_type": "stream",
     "text": [
      "hello\n",
      "andrew\n"
     ]
    }
   ],
   "source": [
    "#basic functions\n",
    "def say_hello():\n",
    "    print('hello')\n",
    "    print('andrew')\n",
    "\n",
    "say_hello()"
   ]
  },
  {
   "cell_type": "code",
   "execution_count": 1,
   "metadata": {},
   "outputs": [
    {
     "name": "stdout",
     "output_type": "stream",
     "text": [
      "second function\n",
      "another line\n"
     ]
    }
   ],
   "source": [
    "def fname():\n",
    "    print('second function')\n",
    "    print('another line')\n",
    "\n",
    "fname()"
   ]
  },
  {
   "cell_type": "code",
   "execution_count": 2,
   "metadata": {},
   "outputs": [
    {
     "name": "stdout",
     "output_type": "stream",
     "text": [
      "hello andrew\n"
     ]
    }
   ],
   "source": [
    "def fname(iname):\n",
    "    print(f'hello {iname}')\n",
    "\n",
    "fname('andrew')"
   ]
  },
  {
   "cell_type": "code",
   "execution_count": 4,
   "metadata": {},
   "outputs": [
    {
     "name": "stdout",
     "output_type": "stream",
     "text": [
      "hello default\n"
     ]
    }
   ],
   "source": [
    "# can provide a default value if nothing is inserted\n",
    "\n",
    "def newfunct(newname = 'default'):\n",
    "    print(f'hello {newname}')\n",
    "\n",
    "newfunct()\n",
    "\n",
    "#no longer produces an error if no input"
   ]
  },
  {
   "cell_type": "code",
   "execution_count": 5,
   "metadata": {},
   "outputs": [
    {
     "data": {
      "text/plain": [
       "30"
      ]
     },
     "execution_count": 5,
     "metadata": {},
     "output_type": "execute_result"
    }
   ],
   "source": [
    "def add_num(num1,num2):\n",
    "    return num1+num2\n",
    "#return instead of printing out results will save the variable\n",
    "\n",
    "#save as variable\n",
    "result = add_num(10,20)\n",
    "\n",
    "result"
   ]
  },
  {
   "cell_type": "code",
   "execution_count": 7,
   "metadata": {},
   "outputs": [
    {
     "data": {
      "text/plain": [
       "80"
      ]
     },
     "execution_count": 7,
     "metadata": {},
     "output_type": "execute_result"
    }
   ],
   "source": [
    "#second\n",
    "def secfun(a,b):\n",
    "    return a - b \n",
    "\n",
    "result = secfun(100, 20)\n",
    "\n",
    "result"
   ]
  },
  {
   "cell_type": "code",
   "execution_count": 8,
   "metadata": {},
   "outputs": [
    {
     "data": {
      "text/plain": [
       "70"
      ]
     },
     "execution_count": 8,
     "metadata": {},
     "output_type": "execute_result"
    }
   ],
   "source": [
    "def third(c,d):\n",
    "    return c + d\n",
    "\n",
    "newresult = third(30,40)\n",
    "\n",
    "newresult\n",
    "\n"
   ]
  },
  {
   "cell_type": "code",
   "execution_count": 12,
   "metadata": {},
   "outputs": [
    {
     "name": "stdout",
     "output_type": "stream",
     "text": [
      "124 is the number\n"
     ]
    },
    {
     "data": {
      "text/plain": [
       "124"
      ]
     },
     "execution_count": 12,
     "metadata": {},
     "output_type": "execute_result"
    }
   ],
   "source": [
    "def print_and_return(e,f):\n",
    "    print(f'{e+f} is the number')\n",
    "    return e + f\n",
    "\n",
    "nresult = print_and_return(30,94)\n",
    "\n",
    "nresult"
   ]
  },
  {
   "cell_type": "code",
   "execution_count": 16,
   "metadata": {},
   "outputs": [
    {
     "data": {
      "text/plain": [
       "0"
      ]
     },
     "execution_count": 16,
     "metadata": {},
     "output_type": "execute_result"
    }
   ],
   "source": [
    "#logic with python functions\n",
    "#2 mod 2 \n",
    "2 % 2\n"
   ]
  },
  {
   "cell_type": "code",
   "execution_count": 17,
   "metadata": {},
   "outputs": [
    {
     "data": {
      "text/plain": [
       "1"
      ]
     },
     "execution_count": 17,
     "metadata": {},
     "output_type": "execute_result"
    }
   ],
   "source": [
    "3 % 2\n",
    "#will have a remaineder of 1 because 2 can only go into 3 1 time\n"
   ]
  },
  {
   "cell_type": "code",
   "execution_count": 18,
   "metadata": {},
   "outputs": [
    {
     "data": {
      "text/plain": [
       "1"
      ]
     },
     "execution_count": 18,
     "metadata": {},
     "output_type": "execute_result"
    }
   ],
   "source": [
    "41 % 40"
   ]
  },
  {
   "cell_type": "code",
   "execution_count": 19,
   "metadata": {},
   "outputs": [
    {
     "data": {
      "text/plain": [
       "True"
      ]
     },
     "execution_count": 19,
     "metadata": {},
     "output_type": "execute_result"
    }
   ],
   "source": [
    "20 % 2 == 0"
   ]
  },
  {
   "cell_type": "code",
   "execution_count": 20,
   "metadata": {},
   "outputs": [
    {
     "data": {
      "text/plain": [
       "False"
      ]
     },
     "execution_count": 20,
     "metadata": {},
     "output_type": "execute_result"
    }
   ],
   "source": [
    "20 % 3 == 0 "
   ]
  },
  {
   "cell_type": "code",
   "execution_count": 22,
   "metadata": {},
   "outputs": [
    {
     "data": {
      "text/plain": [
       "True"
      ]
     },
     "execution_count": 22,
     "metadata": {},
     "output_type": "execute_result"
    }
   ],
   "source": [
    "def even_odd(input):\n",
    "    resultnew = input % 2 == 0\n",
    "    return resultnew\n",
    "\n",
    "even_odd(30)\n",
    "\n",
    "#also works like this\n",
    "#def even_odd(input):\n",
    "    #return input % 2 == 0\n",
    "\n",
    "#even_odd(30)\n",
    "\n"
   ]
  },
  {
   "cell_type": "code",
   "execution_count": 23,
   "metadata": {},
   "outputs": [
    {
     "data": {
      "text/plain": [
       "True"
      ]
     },
     "execution_count": 23,
     "metadata": {},
     "output_type": "execute_result"
    }
   ],
   "source": [
    "def newf(ins):\n",
    "    return ins % 3 == 0\n",
    "\n",
    "newf(33)\n"
   ]
  },
  {
   "cell_type": "code",
   "execution_count": 27,
   "metadata": {},
   "outputs": [
    {
     "data": {
      "text/plain": [
       "True"
      ]
     },
     "execution_count": 27,
     "metadata": {},
     "output_type": "execute_result"
    }
   ],
   "source": [
    "#return true if any number is even inside a list\n",
    "\n",
    "def check_even_list(num_list):\n",
    "    for number in num_list:\n",
    "        if number % 2 == 0:\n",
    "            return True\n",
    "        else:\n",
    "            pass\n",
    "\n",
    "check_even_list([2,4,6])"
   ]
  },
  {
   "cell_type": "code",
   "execution_count": 35,
   "metadata": {},
   "outputs": [
    {
     "data": {
      "text/plain": [
       "True"
      ]
     },
     "execution_count": 35,
     "metadata": {},
     "output_type": "execute_result"
    }
   ],
   "source": [
    "def checkthree(threelist):\n",
    "    for _ in threelist:\n",
    "        if _ % 3 == 0:\n",
    "            return True\n",
    "        else:\n",
    "            pass\n",
    "\n",
    "#breaks out of function if it finds anything % 3\n",
    "checkthree([3,2])"
   ]
  },
  {
   "cell_type": "code",
   "execution_count": 43,
   "metadata": {},
   "outputs": [
    {
     "data": {
      "text/plain": [
       "True"
      ]
     },
     "execution_count": 43,
     "metadata": {},
     "output_type": "execute_result"
    }
   ],
   "source": [
    "def checkeven(listtwo):\n",
    "    for _ in listtwo:\n",
    "        if _ % 2 == 0:\n",
    "            return True\n",
    "        else:\n",
    "            pass\n",
    "    return False\n",
    "\n",
    "checkeven([1,2,3,4,5])"
   ]
  },
  {
   "cell_type": "code",
   "execution_count": 49,
   "metadata": {},
   "outputs": [
    {
     "data": {
      "text/plain": [
       "[2, 4, 6, 8, 10]"
      ]
     },
     "execution_count": 49,
     "metadata": {},
     "output_type": "execute_result"
    }
   ],
   "source": [
    "def evenchecktwo(twolist):\n",
    "    #return all even numbers in list\n",
    "\n",
    "    #placeholder variables\n",
    "    placehlist = []\n",
    "\n",
    "    for _ in twolist:\n",
    "        if _ % 2 == 0:\n",
    "            placehlist.append(_)\n",
    "        else:\n",
    "            pass\n",
    "\n",
    "    return placehlist\n",
    "evenchecktwo([1,2,3,4,5,6,7,8,9,10])"
   ]
  },
  {
   "cell_type": "code",
   "execution_count": 51,
   "metadata": {},
   "outputs": [],
   "source": [
    "#functions and returning multiple items from a function\n",
    "#functions and tuple unpacking"
   ]
  },
  {
   "cell_type": "code",
   "execution_count": 53,
   "metadata": {},
   "outputs": [
    {
     "name": "stdout",
     "output_type": "stream",
     "text": [
      "('APPL', 200)\n",
      "('GOOG', 400)\n",
      "('MSFT', 100)\n"
     ]
    }
   ],
   "source": [
    "#tuples\n",
    "stock_prices = [('APPL',200),('GOOG',400),('MSFT',100)]\n",
    "\n",
    "for _ in stock_prices:\n",
    "    print(_)"
   ]
  },
  {
   "cell_type": "code",
   "execution_count": 54,
   "metadata": {},
   "outputs": [
    {
     "name": "stdout",
     "output_type": "stream",
     "text": [
      "APPL\n",
      "GOOG\n",
      "MSFT\n"
     ]
    }
   ],
   "source": [
    "# tuple unpacking, grabbing items from tuples\n",
    "\n",
    "for ticker,price in stock_prices:\n",
    "    print(ticker)"
   ]
  },
  {
   "cell_type": "code",
   "execution_count": 57,
   "metadata": {},
   "outputs": [
    {
     "name": "stdout",
     "output_type": "stream",
     "text": [
      "220.0\n",
      "440.0\n",
      "110.0\n"
     ]
    }
   ],
   "source": [
    "for a,b in stock_prices:\n",
    "    print(b+(0.1*b))\n",
    "\n",
    "    #10% increase in prices"
   ]
  },
  {
   "cell_type": "code",
   "execution_count": 58,
   "metadata": {},
   "outputs": [
    {
     "data": {
      "text/plain": [
       "('Abby', 100)"
      ]
     },
     "execution_count": 58,
     "metadata": {},
     "output_type": "execute_result"
    }
   ],
   "source": [
    "#tuple unpacking can also happen with a function\n",
    "\n",
    "work_hours = [('Will',80),('Abby',100),('Nate',40)]\n",
    "\n",
    "#want to return employee name and hours worked\n",
    "\n",
    "def employee_check(work_hours):\n",
    "    current_max = 0\n",
    "    #if employee beats the current max, it'll be reset with that new value\n",
    "    employee_with_most = ''\n",
    "\n",
    "    for employee,hours in work_hours:\n",
    "        if hours > current_max:\n",
    "            current_max = hours\n",
    "            employee_with_most = employee\n",
    "        else:\n",
    "            pass\n",
    "    #return\n",
    "    return (employee_with_most,current_max)\n",
    "\n",
    "employee_check(work_hours)\n",
    "\n",
    "\n"
   ]
  },
  {
   "cell_type": "code",
   "execution_count": 66,
   "metadata": {},
   "outputs": [
    {
     "data": {
      "text/plain": [
       "('GOOG', 400)"
      ]
     },
     "execution_count": 66,
     "metadata": {},
     "output_type": "execute_result"
    }
   ],
   "source": [
    "#second\n",
    "stockm = [('APPL',200),('GOOG',400),('MSFT',100)]\n",
    "\n",
    "def stockch(stockm):\n",
    "    maxst = 0\n",
    "    namest = ''\n",
    "\n",
    "    for a,b in stockm:\n",
    "        if b > maxst:\n",
    "            maxst = b\n",
    "            namest = a\n",
    "        else:\n",
    "            pass\n",
    "\n",
    "    return (namest,maxst)\n",
    "\n",
    "stockch(stockm)\n"
   ]
  },
  {
   "cell_type": "code",
   "execution_count": 76,
   "metadata": {},
   "outputs": [
    {
     "data": {
      "text/plain": [
       "('park', 400)"
      ]
     },
     "execution_count": 76,
     "metadata": {},
     "output_type": "execute_result"
    }
   ],
   "source": [
    "dist = [('house',100),('market',200),('park',400)]\n",
    "\n",
    "def distance_check(dist):\n",
    "    maxdist = 0\n",
    "    namedist = ''\n",
    "\n",
    "    for loc,feet in dist:\n",
    "        if feet > maxdist:\n",
    "            maxdist = feet\n",
    "            namedist = loc\n",
    "        else:\n",
    "            pass\n",
    "\n",
    "    return (namedist,maxdist)\n",
    "\n",
    "result = distance_check(dist)\n",
    "result\n",
    "\n",
    "\n"
   ]
  },
  {
   "cell_type": "code",
   "execution_count": 78,
   "metadata": {},
   "outputs": [
    {
     "data": {
      "text/plain": [
       "'park'"
      ]
     },
     "execution_count": 78,
     "metadata": {},
     "output_type": "execute_result"
    }
   ],
   "source": [
    "dist = [('house',100),('market',200),('park',400)]\n",
    "\n",
    "def distance_check(dist):\n",
    "    maxdist = 0\n",
    "    namedist = ''\n",
    "\n",
    "    for loc,feet in dist:\n",
    "        if feet > maxdist:\n",
    "            maxdist = feet\n",
    "            namedist = loc\n",
    "        else:\n",
    "            pass\n",
    "\n",
    "    return (namedist,maxdist)\n",
    "\n",
    "loc,feet = distance_check(dist)\n",
    "# can search just location name or distance, tuple unpacking with a function call\n",
    "loc"
   ]
  },
  {
   "cell_type": "code",
   "execution_count": null,
   "metadata": {},
   "outputs": [],
   "source": []
  }
 ],
 "metadata": {
  "interpreter": {
   "hash": "79607b36fb8dc03ee352315c3f810266520521b71bf1299f5791854579885cc3"
  },
  "kernelspec": {
   "display_name": "Python 3.10.4 64-bit",
   "language": "python",
   "name": "python3"
  },
  "language_info": {
   "codemirror_mode": {
    "name": "ipython",
    "version": 3
   },
   "file_extension": ".py",
   "mimetype": "text/x-python",
   "name": "python",
   "nbconvert_exporter": "python",
   "pygments_lexer": "ipython3",
   "version": "3.10.4"
  },
  "orig_nbformat": 4
 },
 "nbformat": 4,
 "nbformat_minor": 2
}
