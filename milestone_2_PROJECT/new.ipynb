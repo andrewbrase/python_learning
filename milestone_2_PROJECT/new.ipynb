{
 "cells": [
  {
   "cell_type": "code",
   "execution_count": 13,
   "metadata": {},
   "outputs": [
    {
     "ename": "NameError",
     "evalue": "name 'suit' is not defined",
     "output_type": "error",
     "traceback": [
      "\u001b[1;31m---------------------------------------------------------------------------\u001b[0m",
      "\u001b[1;31mNameError\u001b[0m                                 Traceback (most recent call last)",
      "\u001b[1;32mc:\\Users\\brasea\\Desktop\\Workspace\\python_learning\\milestone_2_PROJECT\\new.ipynb Cell 1'\u001b[0m in \u001b[0;36m<cell line: 72>\u001b[1;34m()\u001b[0m\n\u001b[0;32m     <a href='vscode-notebook-cell:/c%3A/Users/brasea/Desktop/Workspace/python_learning/milestone_2_PROJECT/new.ipynb#ch0000000?line=68'>69</a>\u001b[0m                 created_card \u001b[39m=\u001b[39m Card(suit,rank)\n\u001b[0;32m     <a href='vscode-notebook-cell:/c%3A/Users/brasea/Desktop/Workspace/python_learning/milestone_2_PROJECT/new.ipynb#ch0000000?line=69'>70</a>\u001b[0m                 \u001b[39mself\u001b[39m\u001b[39m.\u001b[39mall_cards\u001b[39m.\u001b[39mappend(created_card)\n\u001b[1;32m---> <a href='vscode-notebook-cell:/c%3A/Users/brasea/Desktop/Workspace/python_learning/milestone_2_PROJECT/new.ipynb#ch0000000?line=71'>72</a>\u001b[0m new_deck \u001b[39m=\u001b[39m Deck()\n",
      "\u001b[1;32mc:\\Users\\brasea\\Desktop\\Workspace\\python_learning\\milestone_2_PROJECT\\new.ipynb Cell 1'\u001b[0m in \u001b[0;36mDeck.__init__\u001b[1;34m(self)\u001b[0m\n\u001b[0;32m     <a href='vscode-notebook-cell:/c%3A/Users/brasea/Desktop/Workspace/python_learning/milestone_2_PROJECT/new.ipynb#ch0000000?line=65'>66</a>\u001b[0m \u001b[39mfor\u001b[39;00m _ \u001b[39min\u001b[39;00m suits:\n\u001b[0;32m     <a href='vscode-notebook-cell:/c%3A/Users/brasea/Desktop/Workspace/python_learning/milestone_2_PROJECT/new.ipynb#ch0000000?line=66'>67</a>\u001b[0m     \u001b[39mfor\u001b[39;00m _ \u001b[39min\u001b[39;00m ranks:\n\u001b[0;32m     <a href='vscode-notebook-cell:/c%3A/Users/brasea/Desktop/Workspace/python_learning/milestone_2_PROJECT/new.ipynb#ch0000000?line=67'>68</a>\u001b[0m         \u001b[39m# create the card object\u001b[39;00m\n\u001b[1;32m---> <a href='vscode-notebook-cell:/c%3A/Users/brasea/Desktop/Workspace/python_learning/milestone_2_PROJECT/new.ipynb#ch0000000?line=68'>69</a>\u001b[0m         created_card \u001b[39m=\u001b[39m Card(suit,rank)\n\u001b[0;32m     <a href='vscode-notebook-cell:/c%3A/Users/brasea/Desktop/Workspace/python_learning/milestone_2_PROJECT/new.ipynb#ch0000000?line=69'>70</a>\u001b[0m         \u001b[39mself\u001b[39m\u001b[39m.\u001b[39mall_cards\u001b[39m.\u001b[39mappend(created_card)\n",
      "\u001b[1;31mNameError\u001b[0m: name 'suit' is not defined"
     ]
    }
   ],
   "source": [
    "#global variables\n",
    "\n",
    "import random\n",
    "\n",
    "suits = ('Hearts', 'Diamonds', 'Spades', 'Clubs')\n",
    "ranks = ('Two', 'Three', 'Four', 'Five', 'Six', 'Seven', 'Eight', 'Nine', 'Ten', 'Jack', 'Queen', 'King', 'Ace')\n",
    "values = {'Two':2, 'Three':3, 'Four':4, 'Five':5, 'Six':6, 'Seven':7, 'Eight':8, \n",
    "            'Nine':9, 'Ten':10, 'Jack':11, 'Queen':12, 'King':13, 'Ace':14}\n",
    "\n",
    "#card class\n",
    "#suit rank and int value for comparing cards\n",
    "class Card:\n",
    "\n",
    "    #take in suit and rank from global, values are based off of dict\n",
    "    def __init__(self,suit,rank):\n",
    "        self.suit = suit\n",
    "        self.rank = rank\n",
    "        #looks into dict, uses rank ex. 'Three' to index int 3\n",
    "        self.value = values[rank]\n",
    "\n",
    "        # Example \n",
    "        # threeclub = Card('Clubs','Three')\n",
    "        # print(threeclub.value)\n",
    "        # print(threeclub.suit)\n",
    "        # print(threeclub.rank)\n",
    "        ###\n",
    "        # 3\n",
    "        # Clubs\n",
    "        # Three\n",
    "\n",
    "        # threeclub = Card('Clubs','Three')\n",
    "        # print(threeclub)\n",
    "        ###\n",
    "        # Three of Clubs\n",
    "\n",
    "        # threeclub = Card('Clubs','Three')\n",
    "        # twoclub = Card('Clubs','Two')\n",
    "        # threeclub.value == twoclub.value\n",
    "        ###\n",
    "        # False\n",
    "\n",
    "        #equality check to see if war happens\n",
    "\n",
    "    def __str__(self):\n",
    "        return self.rank + ' of ' + self.suit\n",
    "\n",
    "\n",
    "#deck class\n",
    "\n",
    "# instantiation - create all 52 card objects, hold them as a list\n",
    "# - hold as a list of card objects, holds suit rank and value\n",
    "# not inheritance or polymorphism\n",
    "\n",
    "# shuffle a deck of card objects through a method call\n",
    "# - random library shuffle() function\n",
    "\n",
    "# deal cards from the deck object\n",
    "# - pop method, grab from the deck\n",
    "\n",
    "class Deck:\n",
    "\n",
    "    def __init__(self):\n",
    "        # not user input, every new deck should be the same\n",
    "        self.all_cards = []\n",
    "        # create all 52 unique cards\n",
    "        for _ in suits:\n",
    "            for _ in ranks:\n",
    "                # create the card object\n",
    "                created_card = Card(suit,rank)\n",
    "                self.all_cards.append(created_card)\n",
    "\n",
    "new_deck = Deck()\n",
    "\n",
    "\n",
    "\n",
    "\n",
    "\n",
    "#player class\n",
    "#hold cards from a deck\n",
    "\n",
    "#game logic\n",
    "\n"
   ]
  }
 ],
 "metadata": {
  "kernelspec": {
   "display_name": "Python 3.10.5 64-bit (windows store)",
   "language": "python",
   "name": "python3"
  },
  "language_info": {
   "codemirror_mode": {
    "name": "ipython",
    "version": 3
   },
   "file_extension": ".py",
   "mimetype": "text/x-python",
   "name": "python",
   "nbconvert_exporter": "python",
   "pygments_lexer": "ipython3",
   "version": "3.10.5"
  },
  "orig_nbformat": 4,
  "vscode": {
   "interpreter": {
    "hash": "dd239d5c88ed0fbbea2f22807422df04200bb900720e85b0ada3495c01ab65a0"
   }
  }
 },
 "nbformat": 4,
 "nbformat_minor": 2
}
