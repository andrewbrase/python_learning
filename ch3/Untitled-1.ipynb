{
 "cells": [
  {
   "cell_type": "code",
   "execution_count": 1,
   "metadata": {},
   "outputs": [
    {
     "name": "stdout",
     "output_type": "stream",
     "text": [
      "ch3\n"
     ]
    }
   ],
   "source": [
    "print('ch3')"
   ]
  },
  {
   "cell_type": "code",
   "execution_count": null,
   "metadata": {},
   "outputs": [],
   "source": [
    "#methods - built in objects in python"
   ]
  },
  {
   "cell_type": "code",
   "execution_count": 12,
   "metadata": {},
   "outputs": [
    {
     "data": {
      "text/plain": [
       "[1, 2, 3, 4, 5, 6]"
      ]
     },
     "execution_count": 12,
     "metadata": {},
     "output_type": "execute_result"
    }
   ],
   "source": [
    "newlist = [1,2,3,4,5]\n",
    "newlist.append(6)\n",
    "newlist"
   ]
  },
  {
   "cell_type": "code",
   "execution_count": 16,
   "metadata": {},
   "outputs": [
    {
     "data": {
      "text/plain": [
       "[1, 2, 3, 5, 6]"
      ]
     },
     "execution_count": 16,
     "metadata": {},
     "output_type": "execute_result"
    }
   ],
   "source": [
    "newlist.pop(3)\n",
    "newlist\n",
    "#3 would pop off 4 indexing"
   ]
  },
  {
   "cell_type": "code",
   "execution_count": 17,
   "metadata": {},
   "outputs": [
    {
     "name": "stdout",
     "output_type": "stream",
     "text": [
      "Help on built-in function insert:\n",
      "\n",
      "insert(index, object, /) method of builtins.list instance\n",
      "    Insert object before index.\n",
      "\n"
     ]
    }
   ],
   "source": [
    "nnlist = [1,2,3]\n",
    "help(nnlist.insert)"
   ]
  },
  {
   "cell_type": "code",
   "execution_count": 20,
   "metadata": {},
   "outputs": [
    {
     "name": "stdout",
     "output_type": "stream",
     "text": [
      "functions - blocks of code that can be easily executed many times, without needing to constantly rewrite the entire block of code\n"
     ]
    }
   ],
   "source": [
    "print('functions - blocks of code that can be easily executed many times, without needing to constantly rewrite the entire block of code')"
   ]
  },
  {
   "cell_type": "code",
   "execution_count": 26,
   "metadata": {},
   "outputs": [],
   "source": [
    "#def keyword, creates function\n",
    "#def name_of_function():\n",
    "#   print('hello')\n",
    "#(to call)\n",
    "#name_of_function()\n",
    "#hello\n",
    "\n",
    "##\n",
    "\n",
    "#def name_of_function(inputname):\n",
    "#   print('hello + inputname')\n",
    "#(to call)\n",
    "#name_of_function(\"Jose\")\n",
    "#hello Jose\n",
    "\n",
    "#return allows us to assign the output of the function to a new variable\\\n"
   ]
  },
  {
   "cell_type": "code",
   "execution_count": 28,
   "metadata": {},
   "outputs": [],
   "source": [
    "#def add_function(num1+num2):\n",
    "#    return num1 + num2\n",
    "\n",
    "#result = add_function(1,2)\n",
    "\n",
    "#print(result)\n",
    "\n"
   ]
  },
  {
   "cell_type": "code",
   "execution_count": 32,
   "metadata": {},
   "outputs": [
    {
     "name": "stdout",
     "output_type": "stream",
     "text": [
      "hello\n",
      "andrew\n"
     ]
    }
   ],
   "source": [
    "#basic functions\n",
    "def say_hello():\n",
    "    print('hello')\n",
    "    print('andrew')\n",
    "\n",
    "say_hello()"
   ]
  },
  {
   "cell_type": "code",
   "execution_count": 1,
   "metadata": {},
   "outputs": [
    {
     "name": "stdout",
     "output_type": "stream",
     "text": [
      "second function\n",
      "another line\n"
     ]
    }
   ],
   "source": [
    "def fname():\n",
    "    print('second function')\n",
    "    print('another line')\n",
    "\n",
    "fname()"
   ]
  },
  {
   "cell_type": "code",
   "execution_count": 2,
   "metadata": {},
   "outputs": [
    {
     "name": "stdout",
     "output_type": "stream",
     "text": [
      "hello andrew\n"
     ]
    }
   ],
   "source": [
    "def fname(iname):\n",
    "    print(f'hello {iname}')\n",
    "\n",
    "fname('andrew')"
   ]
  },
  {
   "cell_type": "code",
   "execution_count": 4,
   "metadata": {},
   "outputs": [
    {
     "name": "stdout",
     "output_type": "stream",
     "text": [
      "hello default\n"
     ]
    }
   ],
   "source": [
    "# can provide a default value if nothing is inserted\n",
    "\n",
    "def newfunct(newname = 'default'):\n",
    "    print(f'hello {newname}')\n",
    "\n",
    "newfunct()\n",
    "\n",
    "#no longer produces an error if no input"
   ]
  },
  {
   "cell_type": "code",
   "execution_count": 5,
   "metadata": {},
   "outputs": [
    {
     "data": {
      "text/plain": [
       "30"
      ]
     },
     "execution_count": 5,
     "metadata": {},
     "output_type": "execute_result"
    }
   ],
   "source": [
    "def add_num(num1,num2):\n",
    "    return num1+num2\n",
    "#return instead of printing out results will save the variable\n",
    "\n",
    "#save as variable\n",
    "result = add_num(10,20)\n",
    "\n",
    "result"
   ]
  },
  {
   "cell_type": "code",
   "execution_count": 7,
   "metadata": {},
   "outputs": [
    {
     "data": {
      "text/plain": [
       "80"
      ]
     },
     "execution_count": 7,
     "metadata": {},
     "output_type": "execute_result"
    }
   ],
   "source": [
    "#second\n",
    "def secfun(a,b):\n",
    "    return a - b \n",
    "\n",
    "result = secfun(100, 20)\n",
    "\n",
    "result"
   ]
  },
  {
   "cell_type": "code",
   "execution_count": 8,
   "metadata": {},
   "outputs": [
    {
     "data": {
      "text/plain": [
       "70"
      ]
     },
     "execution_count": 8,
     "metadata": {},
     "output_type": "execute_result"
    }
   ],
   "source": [
    "def third(c,d):\n",
    "    return c + d\n",
    "\n",
    "newresult = third(30,40)\n",
    "\n",
    "newresult\n",
    "\n"
   ]
  },
  {
   "cell_type": "code",
   "execution_count": 12,
   "metadata": {},
   "outputs": [
    {
     "name": "stdout",
     "output_type": "stream",
     "text": [
      "124 is the number\n"
     ]
    },
    {
     "data": {
      "text/plain": [
       "124"
      ]
     },
     "execution_count": 12,
     "metadata": {},
     "output_type": "execute_result"
    }
   ],
   "source": [
    "def print_and_return(e,f):\n",
    "    print(f'{e+f} is the number')\n",
    "    return e + f\n",
    "\n",
    "nresult = print_and_return(30,94)\n",
    "\n",
    "nresult"
   ]
  },
  {
   "cell_type": "code",
   "execution_count": 16,
   "metadata": {},
   "outputs": [
    {
     "data": {
      "text/plain": [
       "0"
      ]
     },
     "execution_count": 16,
     "metadata": {},
     "output_type": "execute_result"
    }
   ],
   "source": [
    "#logic with python functions\n",
    "#2 mod 2 \n",
    "2 % 2\n"
   ]
  },
  {
   "cell_type": "code",
   "execution_count": 17,
   "metadata": {},
   "outputs": [
    {
     "data": {
      "text/plain": [
       "1"
      ]
     },
     "execution_count": 17,
     "metadata": {},
     "output_type": "execute_result"
    }
   ],
   "source": [
    "3 % 2\n",
    "#will have a remaineder of 1 because 2 can only go into 3 1 time\n"
   ]
  },
  {
   "cell_type": "code",
   "execution_count": 18,
   "metadata": {},
   "outputs": [
    {
     "data": {
      "text/plain": [
       "1"
      ]
     },
     "execution_count": 18,
     "metadata": {},
     "output_type": "execute_result"
    }
   ],
   "source": [
    "41 % 40"
   ]
  },
  {
   "cell_type": "code",
   "execution_count": 19,
   "metadata": {},
   "outputs": [
    {
     "data": {
      "text/plain": [
       "True"
      ]
     },
     "execution_count": 19,
     "metadata": {},
     "output_type": "execute_result"
    }
   ],
   "source": [
    "20 % 2 == 0"
   ]
  },
  {
   "cell_type": "code",
   "execution_count": 20,
   "metadata": {},
   "outputs": [
    {
     "data": {
      "text/plain": [
       "False"
      ]
     },
     "execution_count": 20,
     "metadata": {},
     "output_type": "execute_result"
    }
   ],
   "source": [
    "20 % 3 == 0 "
   ]
  },
  {
   "cell_type": "code",
   "execution_count": 22,
   "metadata": {},
   "outputs": [
    {
     "data": {
      "text/plain": [
       "True"
      ]
     },
     "execution_count": 22,
     "metadata": {},
     "output_type": "execute_result"
    }
   ],
   "source": [
    "def even_odd(input):\n",
    "    resultnew = input % 2 == 0\n",
    "    return resultnew\n",
    "\n",
    "even_odd(30)\n",
    "\n",
    "#also works like this\n",
    "#def even_odd(input):\n",
    "    #return input % 2 == 0\n",
    "\n",
    "#even_odd(30)\n",
    "\n"
   ]
  },
  {
   "cell_type": "code",
   "execution_count": 23,
   "metadata": {},
   "outputs": [
    {
     "data": {
      "text/plain": [
       "True"
      ]
     },
     "execution_count": 23,
     "metadata": {},
     "output_type": "execute_result"
    }
   ],
   "source": [
    "def newf(ins):\n",
    "    return ins % 3 == 0\n",
    "\n",
    "newf(33)\n"
   ]
  },
  {
   "cell_type": "code",
   "execution_count": 27,
   "metadata": {},
   "outputs": [
    {
     "data": {
      "text/plain": [
       "True"
      ]
     },
     "execution_count": 27,
     "metadata": {},
     "output_type": "execute_result"
    }
   ],
   "source": [
    "#return true if any number is even inside a list\n",
    "\n",
    "def check_even_list(num_list):\n",
    "    for number in num_list:\n",
    "        if number % 2 == 0:\n",
    "            return True\n",
    "        else:\n",
    "            pass\n",
    "\n",
    "check_even_list([2,4,6])"
   ]
  },
  {
   "cell_type": "code",
   "execution_count": 35,
   "metadata": {},
   "outputs": [
    {
     "data": {
      "text/plain": [
       "True"
      ]
     },
     "execution_count": 35,
     "metadata": {},
     "output_type": "execute_result"
    }
   ],
   "source": [
    "def checkthree(threelist):\n",
    "    for _ in threelist:\n",
    "        if _ % 3 == 0:\n",
    "            return True\n",
    "        else:\n",
    "            pass\n",
    "\n",
    "#breaks out of function if it finds anything % 3\n",
    "checkthree([3,2])"
   ]
  },
  {
   "cell_type": "code",
   "execution_count": 43,
   "metadata": {},
   "outputs": [
    {
     "data": {
      "text/plain": [
       "True"
      ]
     },
     "execution_count": 43,
     "metadata": {},
     "output_type": "execute_result"
    }
   ],
   "source": [
    "def checkeven(listtwo):\n",
    "    for _ in listtwo:\n",
    "        if _ % 2 == 0:\n",
    "            return True\n",
    "        else:\n",
    "            pass\n",
    "    return False\n",
    "\n",
    "checkeven([1,2,3,4,5])"
   ]
  },
  {
   "cell_type": "code",
   "execution_count": 49,
   "metadata": {},
   "outputs": [
    {
     "data": {
      "text/plain": [
       "[2, 4, 6, 8, 10]"
      ]
     },
     "execution_count": 49,
     "metadata": {},
     "output_type": "execute_result"
    }
   ],
   "source": [
    "def evenchecktwo(twolist):\n",
    "    #return all even numbers in list\n",
    "\n",
    "    #placeholder variables\n",
    "    placehlist = []\n",
    "\n",
    "    for _ in twolist:\n",
    "        if _ % 2 == 0:\n",
    "            placehlist.append(_)\n",
    "        else:\n",
    "            pass\n",
    "\n",
    "    return placehlist\n",
    "evenchecktwo([1,2,3,4,5,6,7,8,9,10])"
   ]
  },
  {
   "cell_type": "code",
   "execution_count": 51,
   "metadata": {},
   "outputs": [],
   "source": [
    "#functions and returning multiple items from a function\n",
    "#functions and tuple unpacking"
   ]
  },
  {
   "cell_type": "code",
   "execution_count": 53,
   "metadata": {},
   "outputs": [
    {
     "name": "stdout",
     "output_type": "stream",
     "text": [
      "('APPL', 200)\n",
      "('GOOG', 400)\n",
      "('MSFT', 100)\n"
     ]
    }
   ],
   "source": [
    "#tuples\n",
    "stock_prices = [('APPL',200),('GOOG',400),('MSFT',100)]\n",
    "\n",
    "for _ in stock_prices:\n",
    "    print(_)"
   ]
  },
  {
   "cell_type": "code",
   "execution_count": 54,
   "metadata": {},
   "outputs": [
    {
     "name": "stdout",
     "output_type": "stream",
     "text": [
      "APPL\n",
      "GOOG\n",
      "MSFT\n"
     ]
    }
   ],
   "source": [
    "# tuple unpacking, grabbing items from tuples\n",
    "\n",
    "for ticker,price in stock_prices:\n",
    "    print(ticker)"
   ]
  },
  {
   "cell_type": "code",
   "execution_count": 57,
   "metadata": {},
   "outputs": [
    {
     "name": "stdout",
     "output_type": "stream",
     "text": [
      "220.0\n",
      "440.0\n",
      "110.0\n"
     ]
    }
   ],
   "source": [
    "for a,b in stock_prices:\n",
    "    print(b+(0.1*b))\n",
    "\n",
    "    #10% increase in prices"
   ]
  },
  {
   "cell_type": "code",
   "execution_count": 58,
   "metadata": {},
   "outputs": [
    {
     "data": {
      "text/plain": [
       "('Abby', 100)"
      ]
     },
     "execution_count": 58,
     "metadata": {},
     "output_type": "execute_result"
    }
   ],
   "source": [
    "#tuple unpacking can also happen with a function\n",
    "\n",
    "work_hours = [('Will',80),('Abby',100),('Nate',40)]\n",
    "\n",
    "#want to return employee name and hours worked\n",
    "\n",
    "def employee_check(work_hours):\n",
    "    current_max = 0\n",
    "    #if employee beats the current max, it'll be reset with that new value\n",
    "    employee_with_most = ''\n",
    "\n",
    "    for employee,hours in work_hours:\n",
    "        if hours > current_max:\n",
    "            current_max = hours\n",
    "            employee_with_most = employee\n",
    "        else:\n",
    "            pass\n",
    "    #return\n",
    "    return (employee_with_most,current_max)\n",
    "\n",
    "employee_check(work_hours)\n",
    "\n",
    "\n"
   ]
  },
  {
   "cell_type": "code",
   "execution_count": 66,
   "metadata": {},
   "outputs": [
    {
     "data": {
      "text/plain": [
       "('GOOG', 400)"
      ]
     },
     "execution_count": 66,
     "metadata": {},
     "output_type": "execute_result"
    }
   ],
   "source": [
    "#second\n",
    "stockm = [('APPL',200),('GOOG',400),('MSFT',100)]\n",
    "\n",
    "def stockch(stockm):\n",
    "    maxst = 0\n",
    "    namest = ''\n",
    "\n",
    "    for a,b in stockm:\n",
    "        if b > maxst:\n",
    "            maxst = b\n",
    "            namest = a\n",
    "        else:\n",
    "            pass\n",
    "\n",
    "    return (namest,maxst)\n",
    "\n",
    "stockch(stockm)\n"
   ]
  },
  {
   "cell_type": "code",
   "execution_count": 76,
   "metadata": {},
   "outputs": [
    {
     "data": {
      "text/plain": [
       "('park', 400)"
      ]
     },
     "execution_count": 76,
     "metadata": {},
     "output_type": "execute_result"
    }
   ],
   "source": [
    "dist = [('house',100),('market',200),('park',400)]\n",
    "\n",
    "def distance_check(dist):\n",
    "    maxdist = 0\n",
    "    namedist = ''\n",
    "\n",
    "    for loc,feet in dist:\n",
    "        if feet > maxdist:\n",
    "            maxdist = feet\n",
    "            namedist = loc\n",
    "        else:\n",
    "            pass\n",
    "\n",
    "    return (namedist,maxdist)\n",
    "\n",
    "result = distance_check(dist)\n",
    "result\n",
    "\n",
    "\n"
   ]
  },
  {
   "cell_type": "code",
   "execution_count": 78,
   "metadata": {},
   "outputs": [
    {
     "data": {
      "text/plain": [
       "'park'"
      ]
     },
     "execution_count": 78,
     "metadata": {},
     "output_type": "execute_result"
    }
   ],
   "source": [
    "dist = [('house',100),('market',200),('park',400)]\n",
    "\n",
    "def distance_check(dist):\n",
    "    maxdist = 0\n",
    "    namedist = ''\n",
    "\n",
    "    for loc,feet in dist:\n",
    "        if feet > maxdist:\n",
    "            maxdist = feet\n",
    "            namedist = loc\n",
    "        else:\n",
    "            pass\n",
    "\n",
    "    return (namedist,maxdist)\n",
    "\n",
    "loc,feet = distance_check(dist)\n",
    "# can search just location name or distance, tuple unpacking with a function call\n",
    "loc"
   ]
  },
  {
   "cell_type": "code",
   "execution_count": 80,
   "metadata": {},
   "outputs": [],
   "source": [
    "#interactions between functions\n",
    "#typically a python script or notebook conatins \n",
    "#several functions interacting with eachother"
   ]
  },
  {
   "cell_type": "code",
   "execution_count": 81,
   "metadata": {},
   "outputs": [],
   "source": [
    "#three cup monte\n",
    "#3 cups, underneath one is a red ball \n",
    "#python list will mimic cups and ball, 2 empty strings and captial O\n",
    "\n",
    "#shuffle function random module\n",
    "#example = [1,2,3,4,5,6,7,8,9]\n",
    "\n",
    "#from random import shuffle\n",
    "\n"
   ]
  },
  {
   "cell_type": "code",
   "execution_count": 114,
   "metadata": {},
   "outputs": [],
   "source": [
    "example = [1,2,3,4,5,6,7,8]\n",
    "\n",
    "from random import shuffle"
   ]
  },
  {
   "cell_type": "code",
   "execution_count": 115,
   "metadata": {},
   "outputs": [],
   "source": [
    "shuffle (example)"
   ]
  },
  {
   "cell_type": "code",
   "execution_count": 116,
   "metadata": {},
   "outputs": [
    {
     "data": {
      "text/plain": [
       "[8, 6, 3, 1, 7, 4, 5, 2]"
      ]
     },
     "execution_count": 116,
     "metadata": {},
     "output_type": "execute_result"
    }
   ],
   "source": [
    "example"
   ]
  },
  {
   "cell_type": "code",
   "execution_count": 117,
   "metadata": {},
   "outputs": [],
   "source": [
    "def shuffle_list(mylist):\n",
    "    shuffle(mylist)\n",
    "    return mylist"
   ]
  },
  {
   "cell_type": "code",
   "execution_count": 126,
   "metadata": {},
   "outputs": [
    {
     "data": {
      "text/plain": [
       "[4, 2, 5, 1, 6, 3, 8, 7]"
      ]
     },
     "execution_count": 126,
     "metadata": {},
     "output_type": "execute_result"
    }
   ],
   "source": [
    "result = shuffle_list(example)\n",
    "result"
   ]
  },
  {
   "cell_type": "code",
   "execution_count": 127,
   "metadata": {},
   "outputs": [],
   "source": [
    "mylist = ['','O','']"
   ]
  },
  {
   "cell_type": "code",
   "execution_count": 130,
   "metadata": {},
   "outputs": [
    {
     "data": {
      "text/plain": [
       "['O', '', '']"
      ]
     },
     "execution_count": 130,
     "metadata": {},
     "output_type": "execute_result"
    }
   ],
   "source": [
    "shuffle_list(mylist)"
   ]
  },
  {
   "cell_type": "code",
   "execution_count": 131,
   "metadata": {},
   "outputs": [],
   "source": [
    "def player_guess():\n",
    "    guess = ''\n",
    "\n",
    "    while guess not in ['0','1','2']:\n",
    "        guess = input('pick number 0, 1 or 2')\n",
    "\n",
    "    return int(guess)"
   ]
  },
  {
   "cell_type": "code",
   "execution_count": 132,
   "metadata": {},
   "outputs": [
    {
     "data": {
      "text/plain": [
       "1"
      ]
     },
     "execution_count": 132,
     "metadata": {},
     "output_type": "execute_result"
    }
   ],
   "source": [
    "player_guess()"
   ]
  },
  {
   "cell_type": "code",
   "execution_count": 133,
   "metadata": {},
   "outputs": [],
   "source": [
    "myindex = player_guess()"
   ]
  },
  {
   "cell_type": "code",
   "execution_count": 134,
   "metadata": {},
   "outputs": [],
   "source": [
    "def check_guess(mylist,guess):\n",
    "    if mylist[guess] == 'O':\n",
    "        print('correct')\n",
    "    else:\n",
    "        print('wrong guess')\n",
    "        print(mylist)\n"
   ]
  },
  {
   "cell_type": "code",
   "execution_count": 139,
   "metadata": {},
   "outputs": [
    {
     "name": "stdout",
     "output_type": "stream",
     "text": [
      "wrong guess\n",
      "['O', '', '']\n"
     ]
    }
   ],
   "source": [
    "#initial list\n",
    "mylist = ['','O','']\n",
    "\n",
    "#shuffle list\n",
    "mixedup_list = shuffle_list(mylist)\n",
    "\n",
    "#user guess\n",
    "guess = player_guess()\n",
    "\n",
    "#check guess\n",
    "check_guess(mixedup_list,guess)"
   ]
  },
  {
   "cell_type": "code",
   "execution_count": 141,
   "metadata": {},
   "outputs": [
    {
     "name": "stdout",
     "output_type": "stream",
     "text": [
      "Hello Hannah\n"
     ]
    }
   ],
   "source": [
    "def myfunc(name):\n",
    "    print('Hello {}'.format(name))\n",
    "\n",
    "myfunc('Hannah')"
   ]
  },
  {
   "cell_type": "code",
   "execution_count": 147,
   "metadata": {},
   "outputs": [
    {
     "data": {
      "text/plain": [
       "99"
      ]
     },
     "execution_count": 147,
     "metadata": {},
     "output_type": "execute_result"
    }
   ],
   "source": [
    "#function practice\n",
    "#Write a Python function to find the Max of three numbers\n",
    "practl=[33,99,12]\n",
    "\n",
    "def findmax(practl):\n",
    "    maxnum = 0\n",
    "    for _ in practl:\n",
    "        if _ > maxnum:\n",
    "            maxnum = _\n",
    "        else:\n",
    "            pass\n",
    "    return maxnum\n",
    "\n",
    "findmax(practl)\n"
   ]
  },
  {
   "cell_type": "code",
   "execution_count": 148,
   "metadata": {},
   "outputs": [
    {
     "data": {
      "text/plain": [
       "107"
      ]
     },
     "execution_count": 148,
     "metadata": {},
     "output_type": "execute_result"
    }
   ],
   "source": [
    "#Write a Python function to sum all the numbers in a list\n",
    "\n",
    "sumlist= [44,52,11]\n",
    "\n",
    "def add_l(sumlist):\n",
    "    totaln = 0\n",
    "    for _ in sumlist:\n",
    "        totaln += _\n",
    "    return totaln\n",
    "\n",
    "add_l(sumlist)\n",
    "    "
   ]
  },
  {
   "cell_type": "code",
   "execution_count": 152,
   "metadata": {},
   "outputs": [
    {
     "data": {
      "text/plain": [
       "18711"
      ]
     },
     "execution_count": 152,
     "metadata": {},
     "output_type": "execute_result"
    }
   ],
   "source": [
    "# Write a Python function to multiply all the numbers in a list\n",
    "\n",
    "multl = [33,7,81]\n",
    "\n",
    "def multiplic(multl):\n",
    "    tot = 1\n",
    "    for _ in multl:\n",
    "        tot *= _\n",
    "\n",
    "    return tot\n",
    "\n",
    "multiplic(multl)\n"
   ]
  },
  {
   "cell_type": "code",
   "execution_count": 155,
   "metadata": {},
   "outputs": [
    {
     "data": {
      "text/plain": [
       "'werdnA'"
      ]
     },
     "execution_count": 155,
     "metadata": {},
     "output_type": "execute_result"
    }
   ],
   "source": [
    "#Write a Python program to reverse a string\n",
    "string='Andrew'\n",
    "string[::-1]\n"
   ]
  },
  {
   "cell_type": "code",
   "execution_count": 173,
   "metadata": {},
   "outputs": [
    {
     "name": "stdout",
     "output_type": "stream",
     "text": [
      "25 is within the range\n"
     ]
    }
   ],
   "source": [
    "#Write a Python function to check whether a number falls in a given range\n",
    "\n",
    "def rangetest(number):\n",
    "    if number in range(12,26):\n",
    "        print(f\"{number} is within the range\")\n",
    "    else:\n",
    "        print(f'{number} is outside of range')\n",
    "\n",
    "rangetest(25)"
   ]
  },
  {
   "cell_type": "code",
   "execution_count": 182,
   "metadata": {},
   "outputs": [
    {
     "name": "stdout",
     "output_type": "stream",
     "text": [
      "Original string :  The Fat Round Cat\n",
      "No. of upper :  4\n",
      "No. of lower :  10\n"
     ]
    }
   ],
   "source": [
    "#Write a Python function that accepts a string and calculate the number of upper case letters and lower case letters\n",
    "\n",
    "def string_test(cat):\n",
    "    d={\"Upper_case\":0,\"Lower_case\":0}\n",
    "    for _ in cat:\n",
    "        if _.isupper():\n",
    "            d[\"Upper_case\"]+=1\n",
    "        elif _.islower():\n",
    "            d[\"Lower_case\"]+=1\n",
    "        else:\n",
    "            pass\n",
    "\n",
    "    print(\"Original string : \", cat )\n",
    "    print(\"No. of upper : \",d[\"Upper_case\"])\n",
    "    print(\"No. of lower : \",d[\"Lower_case\"])\n",
    "\n",
    "string_test('The Fat Round Cat')\n",
    "\n"
   ]
  },
  {
   "cell_type": "code",
   "execution_count": null,
   "metadata": {},
   "outputs": [],
   "source": [
    "#*args and **kwargs\n",
    "#accept an arbitrary number of arguments and key word arguments without having to predefine parameters in function calls"
   ]
  },
  {
   "cell_type": "code",
   "execution_count": 184,
   "metadata": {},
   "outputs": [
    {
     "data": {
      "text/plain": [
       "5.0"
      ]
     },
     "execution_count": 184,
     "metadata": {},
     "output_type": "execute_result"
    }
   ],
   "source": [
    "def myfuncarg(a,b):\n",
    "    #returns 5% of the sum of a & b\n",
    "    return sum((a,b)) * 0.05\n",
    "\n",
    "myfuncarg(40,60)"
   ]
  },
  {
   "cell_type": "code",
   "execution_count": 188,
   "metadata": {},
   "outputs": [
    {
     "data": {
      "text/plain": [
       "20.0"
      ]
     },
     "execution_count": 188,
     "metadata": {},
     "output_type": "execute_result"
    }
   ],
   "source": [
    "#a and b are positional arguments so a is assigned to 40 due to position\n",
    "#this method is not recommended\n",
    "def myfuncarg(a,b,c=0,d=0,e=0):\n",
    "    #returns 5% of the sum of a & b\n",
    "    return sum((a,b,c,d,e)) * 0.05\n",
    "\n",
    "myfuncarg(40,60,100,100,100)\n",
    "#if more numbers are inserted a type error will occur until \n",
    "#positional arguments are exhausted\n",
    "\n"
   ]
  },
  {
   "cell_type": "code",
   "execution_count": 191,
   "metadata": {},
   "outputs": [
    {
     "data": {
      "text/plain": [
       "55.5"
      ]
     },
     "execution_count": 191,
     "metadata": {},
     "output_type": "execute_result"
    }
   ],
   "source": [
    "def myarg(*args):\n",
    "    #args can be replaced w/ anything as long as theres *\n",
    "    #args allows for as many arguments as the user inputs\n",
    "    #this is treated like a tuple of parameters coming in\n",
    "    return sum(args) * 0.05\n",
    "\n",
    "myarg(40,60,100,210,400,100,200)"
   ]
  },
  {
   "cell_type": "code",
   "execution_count": 194,
   "metadata": {},
   "outputs": [
    {
     "data": {
      "text/plain": [
       "700"
      ]
     },
     "execution_count": 194,
     "metadata": {},
     "output_type": "execute_result"
    }
   ],
   "source": [
    "def anotherword(*new):\n",
    "    return sum(new) + 100\n",
    "\n",
    "anotherword(100,200,300)"
   ]
  },
  {
   "cell_type": "code",
   "execution_count": 196,
   "metadata": {},
   "outputs": [
    {
     "name": "stdout",
     "output_type": "stream",
     "text": [
      "100\n",
      "20\n",
      "30\n",
      "50\n"
     ]
    }
   ],
   "source": [
    "def pritem(*args):\n",
    "    for _ in args:\n",
    "        print(_)\n",
    "\n",
    "pritem(100,20,30,50)"
   ]
  },
  {
   "cell_type": "code",
   "execution_count": null,
   "metadata": {},
   "outputs": [],
   "source": [
    "#python also allows a way to handle an arbitrary amount of\n",
    "#keyword arguments, it builds a dictionary of key value pairs"
   ]
  },
  {
   "cell_type": "code",
   "execution_count": 200,
   "metadata": {},
   "outputs": [
    {
     "name": "stdout",
     "output_type": "stream",
     "text": [
      "{'fruit': 'pineapple', 'veggie': 'greenbean'}\n",
      "my fruit of choice is pineapple\n"
     ]
    }
   ],
   "source": [
    "def myfunk(**kwargs):\n",
    "    print(kwargs)#shows the dictionary, kwargs return back a dictionary\n",
    "    if 'fruit' in kwargs:\n",
    "        print('my fruit of choice is {}'.format(kwargs['fruit']))\n",
    "    else:\n",
    "        print('no fruit')\n",
    "\n",
    "myfunk(fruit = 'pineapple',veggie = 'greenbean')"
   ]
  },
  {
   "cell_type": "code",
   "execution_count": 205,
   "metadata": {},
   "outputs": [
    {
     "name": "stdout",
     "output_type": "stream",
     "text": [
      "they dont have grape jelly\n"
     ]
    }
   ],
   "source": [
    "def jellyfun(**jelly):\n",
    "    if 'goodjelly' in jelly:\n",
    "        print('They have {} Jelly!'.format(jelly['goodjelly']))\n",
    "    else:\n",
    "        print('they dont have grape jelly')\n",
    "\n",
    "jellyfun(badjelly = 'the other ones', otherjelly = 'strawberry')"
   ]
  },
  {
   "cell_type": "code",
   "execution_count": 210,
   "metadata": {},
   "outputs": [
    {
     "name": "stdout",
     "output_type": "stream",
     "text": [
      "(10, 20, 30)\n",
      "{'fruit': 'orange', 'food': 'eggs', 'animal': 'cat'}\n",
      "I would like 10 eggs\n"
     ]
    }
   ],
   "source": [
    "#*args and **kwargs used together\n",
    "def newfun(*args,**kwargs):\n",
    "\n",
    "    #just to show the args and kwargs dict, not needed\n",
    "    print(args)\n",
    "    print(kwargs)\n",
    "\n",
    "    print('I would like {} {}'.format (args[0],kwargs['food']))\n",
    "\n",
    "\n",
    "#accepts as many args and kwargs that are entered\n",
    "newfun(10,20,30,fruit = 'orange',food = 'eggs',animal = 'cat')"
   ]
  },
  {
   "cell_type": "code",
   "execution_count": 3,
   "metadata": {},
   "outputs": [
    {
     "data": {
      "text/plain": [
       "22"
      ]
     },
     "execution_count": 3,
     "metadata": {},
     "output_type": "execute_result"
    }
   ],
   "source": [
    "#function practice problems\n",
    "#Write a function that returns the lesser of two given numbers *if* both numbers are even, but returns the greater if one or both numbers are odd\n",
    "\n",
    "def lesser_of_two_evens(a,b):\n",
    "    if a % 2 == 0 and b % 2 == 0:\n",
    "        return min(a,b)\n",
    "    else:\n",
    "        return max(a,b)\n",
    "\n",
    "lesser_of_two_evens(22,44)"
   ]
  },
  {
   "cell_type": "code",
   "execution_count": 15,
   "metadata": {},
   "outputs": [
    {
     "data": {
      "text/plain": [
       "True"
      ]
     },
     "execution_count": 15,
     "metadata": {},
     "output_type": "execute_result"
    }
   ],
   "source": [
    "\n",
    "#Write a function takes a two-word string and returns True \n",
    "#if both words begin with same letter\n",
    "\n",
    "def twoword(text):\n",
    "    wordlist = text.split()\n",
    "    return wordlist[0][0] == wordlist[1][0]\n",
    "\n",
    "\n",
    "twoword('hello harry')"
   ]
  },
  {
   "cell_type": "code",
   "execution_count": 16,
   "metadata": {},
   "outputs": [
    {
     "data": {
      "text/plain": [
       "True"
      ]
     },
     "execution_count": 16,
     "metadata": {},
     "output_type": "execute_result"
    }
   ],
   "source": [
    "def samelet(a,b):\n",
    "    if a[0] == b[0]:\n",
    "        return True\n",
    "    else:\n",
    "        return False\n",
    "\n",
    "samelet('hello','harry')\n"
   ]
  },
  {
   "cell_type": "code",
   "execution_count": 38,
   "metadata": {},
   "outputs": [
    {
     "data": {
      "text/plain": [
       "True"
      ]
     },
     "execution_count": 38,
     "metadata": {},
     "output_type": "execute_result"
    }
   ],
   "source": [
    "#Given two integers, return True if the sum of the integers \n",
    "#is 20 *or* if one of the integers is 20. If not, return False\n",
    "\n",
    "def twent(a,b):\n",
    "    if (a+b)==20 or a==20 or b ==20:\n",
    "        return True\n",
    "    else:\n",
    "        return False\n",
    "\n",
    "twent(10,10)\n",
    "\n"
   ]
  },
  {
   "cell_type": "code",
   "execution_count": 56,
   "metadata": {},
   "outputs": [
    {
     "data": {
      "text/plain": [
       "['hello', 'there']"
      ]
     },
     "execution_count": 56,
     "metadata": {},
     "output_type": "execute_result"
    }
   ],
   "source": [
    "def wordtext(inpu):\n",
    "    newlis= inpu.split()\n",
    "    return newlis\n",
    "\n",
    "wordtext('hello there')"
   ]
  },
  {
   "cell_type": "code",
   "execution_count": 57,
   "metadata": {},
   "outputs": [
    {
     "data": {
      "text/plain": [
       "['Hello', 'this', 'is', 'a', 'test', 'of', 'split']"
      ]
     },
     "execution_count": 57,
     "metadata": {},
     "output_type": "execute_result"
    }
   ],
   "source": [
    "def testingsplit(word):\n",
    "    newlistt = word.split()\n",
    "    return newlistt\n",
    "\n",
    "testingsplit('Hello this is a test of split')\n"
   ]
  },
  {
   "cell_type": "code",
   "execution_count": 71,
   "metadata": {},
   "outputs": [
    {
     "data": {
      "text/plain": [
       "'AndRew'"
      ]
     },
     "execution_count": 71,
     "metadata": {},
     "output_type": "execute_result"
    }
   ],
   "source": [
    "#Write a function that capitalizes the first and fourth letters \n",
    "#of a name\n",
    "\n",
    "def caponefour(a):\n",
    "    if len(a) > 3:\n",
    "        return a[:3].capitalize() + a[3:].capitalize()\n",
    "    else:\n",
    "        return \"name too short\"\n",
    "\n",
    "caponefour('andrew')"
   ]
  },
  {
   "cell_type": "code",
   "execution_count": 87,
   "metadata": {},
   "outputs": [
    {
     "data": {
      "text/plain": [
       "'reversed is this Hello'"
      ]
     },
     "execution_count": 87,
     "metadata": {},
     "output_type": "execute_result"
    }
   ],
   "source": [
    "#Given a sentence, return a sentence with the words reversed\n",
    "\n",
    "def sent(inpu):\n",
    "    return ' '.join(inpu.split()[::-1])\n",
    "\n",
    "sent('Hello this is reversed')\n"
   ]
  },
  {
   "cell_type": "code",
   "execution_count": 100,
   "metadata": {},
   "outputs": [
    {
     "data": {
      "text/plain": [
       "True"
      ]
     },
     "execution_count": 100,
     "metadata": {},
     "output_type": "execute_result"
    }
   ],
   "source": [
    "#Given a list of ints, return True if the array contains a 3 next to a 3 somewhere\n",
    "\n",
    "def three_three(nums):\n",
    "    for _ in range(0, len(nums)-1):\n",
    "        if nums[_:_+2] == [3,3]:\n",
    "            return True\n",
    "    \n",
    "    return False\n",
    "\n",
    "three_three([1,3,3])\n"
   ]
  },
  {
   "cell_type": "code",
   "execution_count": 122,
   "metadata": {},
   "outputs": [
    {
     "data": {
      "text/plain": [
       "'aaannndddrrreeewww'"
      ]
     },
     "execution_count": 122,
     "metadata": {},
     "output_type": "execute_result"
    }
   ],
   "source": [
    "#Given a string, return a string where for every character \n",
    "#in the original there are three characters\n",
    "\n",
    "def threestring(a):\n",
    "    stri = ''\n",
    "    for _ in a:\n",
    "        stri += _ * 3\n",
    "    return stri\n",
    "\n",
    "threestring('andrew')"
   ]
  },
  {
   "cell_type": "code",
   "execution_count": 145,
   "metadata": {},
   "outputs": [
    {
     "data": {
      "text/plain": [
       "13"
      ]
     },
     "execution_count": 145,
     "metadata": {},
     "output_type": "execute_result"
    }
   ],
   "source": [
    "#Given three integers between 1 and 11, if their sum is less \n",
    "# than or equal to 21, return their sum. If their sum exceeds \n",
    "# 21 *and* there's an eleven, reduce the total sum by 10. \n",
    "# Finally, if the sum (even after adjustment) exceeds 21, \n",
    "# return 'BUST'\n",
    "#\n",
    "\n",
    "def blckjck(a,b,c):\n",
    "    if sum((a,b,c)) <= 21:\n",
    "        return sum((a,b,c))\n",
    "    elif sum((a,b,c)) > 21 and 11 in (a,b,c):\n",
    "        return sum((a,b,c)) - 10\n",
    "    else:\n",
    "        return \"Bust\"\n",
    "\n",
    "blckjck(11,5,7)\n"
   ]
  },
  {
   "cell_type": "code",
   "execution_count": 152,
   "metadata": {},
   "outputs": [
    {
     "data": {
      "text/plain": [
       "3"
      ]
     },
     "execution_count": 152,
     "metadata": {},
     "output_type": "execute_result"
    }
   ],
   "source": [
    "#more practice\n",
    "\n",
    "def pract(a,b):\n",
    "    #if both numbers are even\n",
    "    if a %2 == 0 and b % 2 == 0:\n",
    "        #finding the lowest number between a and b\n",
    "        if a < b:\n",
    "            result = a\n",
    "        else:\n",
    "            result = b\n",
    "    else:\n",
    "        #find the highest number between a and b\n",
    "        if a > b:\n",
    "            result = a\n",
    "        else:\n",
    "            result = b\n",
    "    return result\n",
    "\n",
    "    \n",
    "pract(2,3)\n",
    "\n",
    "#this can all be cleaned up with min and max function\n"
   ]
  },
  {
   "cell_type": "code",
   "execution_count": 161,
   "metadata": {},
   "outputs": [
    {
     "data": {
      "text/plain": [
       "21"
      ]
     },
     "execution_count": 161,
     "metadata": {},
     "output_type": "execute_result"
    }
   ],
   "source": [
    "#this can all be cleaned up with min and max function\n",
    "\n",
    "def bettermethod(a,b):\n",
    "    if a % 2 == 0 and b % 2 == 0:\n",
    "        return min(a,b)\n",
    "    else:\n",
    "        return max(a,b)\n",
    "\n",
    "bettermethod(10,21)"
   ]
  },
  {
   "cell_type": "code",
   "execution_count": 162,
   "metadata": {},
   "outputs": [
    {
     "data": {
      "text/plain": [
       "41"
      ]
     },
     "execution_count": 162,
     "metadata": {},
     "output_type": "execute_result"
    }
   ],
   "source": [
    "#find highest number in list\n",
    "\n",
    "def findhigh(*a):\n",
    "    return max(a)\n",
    "\n",
    "findhigh(10,20,30,40,41)"
   ]
  },
  {
   "cell_type": "code",
   "execution_count": 170,
   "metadata": {},
   "outputs": [
    {
     "name": "stdout",
     "output_type": "stream",
     "text": [
      "['lazy', 'llama']\n"
     ]
    },
    {
     "data": {
      "text/plain": [
       "True"
      ]
     },
     "execution_count": 170,
     "metadata": {},
     "output_type": "execute_result"
    }
   ],
   "source": [
    "def animalcrackers(a):\n",
    "    wordlist = a.split()\n",
    "    print(wordlist)\n",
    "\n",
    "    first= wordlist[0]\n",
    "    second = wordlist[1]\n",
    "\n",
    "    return first[0] == second[0]\n",
    "\n",
    "animalcrackers('lazy llama')\n",
    "#this can be simplified"
   ]
  },
  {
   "cell_type": "code",
   "execution_count": 175,
   "metadata": {},
   "outputs": [
    {
     "data": {
      "text/plain": [
       "True"
      ]
     },
     "execution_count": 175,
     "metadata": {},
     "output_type": "execute_result"
    }
   ],
   "source": [
    "def animalcr(words):\n",
    "    newworlist = words.lower().split()\n",
    "    return newworlist[0][0] == newworlist[1][0]\n",
    "\n",
    "animalcr('hello Harry')"
   ]
  },
  {
   "cell_type": "code",
   "execution_count": 179,
   "metadata": {},
   "outputs": [
    {
     "data": {
      "text/plain": [
       "True"
      ]
     },
     "execution_count": 179,
     "metadata": {},
     "output_type": "execute_result"
    }
   ],
   "source": [
    "def makestwent(a,b):\n",
    "    if a + b == 20:\n",
    "        return True\n",
    "    elif a or b == 20:\n",
    "        return True\n",
    "    else:\n",
    "        return False\n",
    "\n",
    "makestwent(10,20)\n",
    "#this can be simplified"
   ]
  },
  {
   "cell_type": "code",
   "execution_count": 182,
   "metadata": {},
   "outputs": [
    {
     "data": {
      "text/plain": [
       "False"
      ]
     },
     "execution_count": 182,
     "metadata": {},
     "output_type": "execute_result"
    }
   ],
   "source": [
    "def makestwent(a,b):\n",
    "    return (a+b) == 20 or a == 20 or b == 20\n",
    "\n",
    "makestwent(10,21)"
   ]
  },
  {
   "cell_type": "code",
   "execution_count": 184,
   "metadata": {},
   "outputs": [
    {
     "data": {
      "text/plain": [
       "'UPPERCASE'"
      ]
     },
     "execution_count": 184,
     "metadata": {},
     "output_type": "execute_result"
    }
   ],
   "source": [
    "def upperc(a):\n",
    "    return a.upper()\n",
    "\n",
    "upperc('uppercase')"
   ]
  },
  {
   "cell_type": "code",
   "execution_count": 198,
   "metadata": {},
   "outputs": [
    {
     "data": {
      "text/plain": [
       "'MacDonald'"
      ]
     },
     "execution_count": 198,
     "metadata": {},
     "output_type": "execute_result"
    }
   ],
   "source": [
    "#capitalize method\n",
    "def caponef(a):\n",
    "    return a[:3].capitalize() + a[3::].capitalize()\n",
    "\n",
    "caponef('macdonald')"
   ]
  },
  {
   "cell_type": "code",
   "execution_count": 202,
   "metadata": {},
   "outputs": [
    {
     "data": {
      "text/plain": [
       "'desrever si siht'"
      ]
     },
     "execution_count": 202,
     "metadata": {},
     "output_type": "execute_result"
    }
   ],
   "source": [
    "def reverstxt(a):\n",
    "    return a[::-1]\n",
    "\n",
    "reverstxt('this is reversed')"
   ]
  },
  {
   "cell_type": "code",
   "execution_count": 209,
   "metadata": {},
   "outputs": [
    {
     "data": {
      "text/plain": [
       "'list a reversing'"
      ]
     },
     "execution_count": 209,
     "metadata": {},
     "output_type": "execute_result"
    }
   ],
   "source": [
    "def yoda(a):\n",
    "    wordlist = a.split()\n",
    "    reversed_list = wordlist[::-1]\n",
    "    return ' '.join(reversed_list)\n",
    "\n",
    "yoda('reversing a list')"
   ]
  },
  {
   "cell_type": "code",
   "execution_count": 212,
   "metadata": {},
   "outputs": [
    {
     "data": {
      "text/plain": [
       "'a-----b-----c'"
      ]
     },
     "execution_count": 212,
     "metadata": {},
     "output_type": "execute_result"
    }
   ],
   "source": [
    "#join method\n",
    "abcl= ['a','b','c']\n",
    "'-----'.join(abcl)"
   ]
  },
  {
   "cell_type": "code",
   "execution_count": 216,
   "metadata": {},
   "outputs": [
    {
     "data": {
      "text/plain": [
       "True"
      ]
     },
     "execution_count": 216,
     "metadata": {},
     "output_type": "execute_result"
    }
   ],
   "source": [
    "#given integer n, return True if n is within 10 of either 100 or 200\n",
    "def absol(n):\n",
    "    return (abs(100-n)<=10) or (abs(200-n)<= 10)\n",
    "\n",
    "absol(190)"
   ]
  },
  {
   "cell_type": "code",
   "execution_count": 2,
   "metadata": {},
   "outputs": [
    {
     "data": {
      "text/plain": [
       "'hhheeellllllooo'"
      ]
     },
     "execution_count": 2,
     "metadata": {},
     "output_type": "execute_result"
    }
   ],
   "source": [
    "def three_three(a):\n",
    "    strlist=''\n",
    "    for _ in a:\n",
    "        strlist += _*3\n",
    "    return strlist\n",
    "\n",
    "three_three('hello')"
   ]
  },
  {
   "cell_type": "code",
   "execution_count": 4,
   "metadata": {},
   "outputs": [
    {
     "data": {
      "text/plain": [
       "15"
      ]
     },
     "execution_count": 4,
     "metadata": {},
     "output_type": "execute_result"
    }
   ],
   "source": [
    "def summer_69(a):\n",
    "    total = 0\n",
    "    add = True\n",
    "\n",
    "    for _ in a:\n",
    "        while add:\n",
    "            if _ !=6:\n",
    "                total += _\n",
    "                break\n",
    "            else:\n",
    "                add = False\n",
    "        while not add:\n",
    "            if _ != 9:\n",
    "                break\n",
    "            else:\n",
    "                add = True\n",
    "                break\n",
    "\n",
    "    return total\n",
    "\n",
    "summer_69([1,2,3,4,5,6,7,8,9])\n",
    "\n",
    "\n"
   ]
  },
  {
   "cell_type": "code",
   "execution_count": 26,
   "metadata": {},
   "outputs": [
    {
     "data": {
      "text/plain": [
       "True"
      ]
     },
     "execution_count": 26,
     "metadata": {},
     "output_type": "execute_result"
    }
   ],
   "source": [
    "def spygame(a):\n",
    "\n",
    "    codelist=[0,0,7,'x']\n",
    "    #0,7,'x',\n",
    "    #7,'x'\n",
    "    #['x'] length = 1\n",
    "    #every time a match happens [0] is popped off of list\n",
    "    #if the length of the list is 1, return true\n",
    "\n",
    "    for _ in a:\n",
    "        if _ == codelist[0]:\n",
    "            codelist.pop(0)\n",
    "\n",
    "    return len(codelist) == 1\n",
    "    \n",
    "spygame([0,1,1,2,2,5,0,6,7])\n",
    "#looks for 007\n",
    "    "
   ]
  },
  {
   "cell_type": "code",
   "execution_count": 2,
   "metadata": {},
   "outputs": [
    {
     "name": "stdout",
     "output_type": "stream",
     "text": [
      "[2, 3, 5, 7, 11, 13, 17, 19, 23, 29, 31, 37, 41, 43, 47]\n"
     ]
    },
    {
     "data": {
      "text/plain": [
       "15"
      ]
     },
     "execution_count": 2,
     "metadata": {},
     "output_type": "execute_result"
    }
   ],
   "source": [
    "#Write a function that returns the *number* of prime numbers\n",
    "#  that exist up to and including a given number\n",
    "#    count_primes(100) --> 25\n",
    "\n",
    "#By convention, 0 and 1 are not prime.\n",
    "\n",
    "def countprimes(a):\n",
    "\n",
    "    #check for 0 or 1 input\n",
    "    if a < 2:\n",
    "        return 0\n",
    "    ##############\n",
    "    # 2 or greater\n",
    "    #list to store prime numbers\n",
    "    primes = [2]\n",
    "    #counter going up to input num\n",
    "    x = 3\n",
    "\n",
    "    #x is going through every number up to input number\n",
    "    while x <= a:\n",
    "        #checks if x is prime\n",
    "        for y in range(3,x,2):\n",
    "            if x % y == 0:\n",
    "                x += 2\n",
    "                break\n",
    "        # for else, lined up with for not if, if the while\n",
    "        #loop continued and never broke then the else statement\n",
    "        #is going to execute\n",
    "        else:\n",
    "            primes.append(x)\n",
    "            x += 2\n",
    "    print(primes)\n",
    "    return len(primes)\n",
    "\n",
    "\n",
    "countprimes(50)"
   ]
  },
  {
   "cell_type": "code",
   "execution_count": 4,
   "metadata": {},
   "outputs": [
    {
     "name": "stdout",
     "output_type": "stream",
     "text": [
      "[2, 3, 5, 7, 11, 13, 17, 19, 23, 29, 31, 37, 41, 43, 47]\n"
     ]
    },
    {
     "data": {
      "text/plain": [
       "15"
      ]
     },
     "execution_count": 4,
     "metadata": {},
     "output_type": "execute_result"
    }
   ],
   "source": [
    "# this can be simplified\n",
    "\n",
    "def countprimes(a):\n",
    "\n",
    "    primes = [2]\n",
    "    x = 3\n",
    "\n",
    "    if a < 2:\n",
    "        return 0\n",
    "\n",
    "    while x <= a:\n",
    "        #changed to primes\n",
    "        for y in primes:\n",
    "            if x % y == 0:\n",
    "                x += 2\n",
    "                break\n",
    "        else:\n",
    "            primes.append(x)\n",
    "            x += 2\n",
    "    print(primes)\n",
    "    return len(primes)\n",
    "\n",
    "\n",
    "countprimes(50)"
   ]
  },
  {
   "cell_type": "code",
   "execution_count": 13,
   "metadata": {},
   "outputs": [
    {
     "name": "stdout",
     "output_type": "stream",
     "text": [
      "1\n",
      "2\n",
      "3\n",
      "4\n",
      "5\n",
      "6\n",
      "7\n",
      "8\n",
      "9\n",
      "10\n"
     ]
    }
   ],
   "source": [
    "def count_until(a):\n",
    "\n",
    "    x=1\n",
    "\n",
    "    while x < a:\n",
    "        print(x)\n",
    "        x += 1\n",
    "\n",
    "    \n",
    "        \n",
    "count_until(11)"
   ]
  },
  {
   "cell_type": "code",
   "execution_count": 14,
   "metadata": {},
   "outputs": [
    {
     "name": "stdout",
     "output_type": "stream",
     "text": [
      "1\n",
      "4\n",
      "9\n",
      "16\n",
      "25\n",
      "36\n"
     ]
    }
   ],
   "source": [
    "#Lambda Expressions Map and Filter\n",
    "#Lambda Expressions quickly create anonymous functions\n",
    "#functions that are referenced one time and never called again\n",
    "\n",
    "#map function\n",
    "#create a simple function\n",
    "\n",
    "def square(a):\n",
    "    return a ** 2\n",
    "\n",
    "my_nums = [1,2,3,4,5,6]\n",
    "#I want to apply the function to everything in this list\n",
    "\n",
    "#for x in map({function},list):\n",
    "    #print x\n",
    "for _ in map(square,my_nums):\n",
    "    print(_)\n"
   ]
  },
  {
   "cell_type": "code",
   "execution_count": 15,
   "metadata": {},
   "outputs": [
    {
     "data": {
      "text/plain": [
       "[1, 4, 9, 16, 25, 36]"
      ]
     },
     "execution_count": 15,
     "metadata": {},
     "output_type": "execute_result"
    }
   ],
   "source": [
    "list(map(square,my_nums))"
   ]
  },
  {
   "cell_type": "code",
   "execution_count": 17,
   "metadata": {},
   "outputs": [
    {
     "data": {
      "text/plain": [
       "['Even', 'i', 'Even']"
      ]
     },
     "execution_count": 17,
     "metadata": {},
     "output_type": "execute_result"
    }
   ],
   "source": [
    "names = ['andy','ian','kyle']\n",
    "\n",
    "def splicer(my_string):\n",
    "    #if the length to my_string is even \n",
    "    if len(my_string) % 2 == 0:\n",
    "        return 'Even'\n",
    "    else:\n",
    "        return my_string[0]\n",
    "\n",
    "#names that are even return 'even' names that are odd \n",
    "#return the first letter of their name\n",
    "list(map(splicer,names))"
   ]
  },
  {
   "cell_type": "code",
   "execution_count": 19,
   "metadata": {},
   "outputs": [
    {
     "data": {
      "text/plain": [
       "[2, 4, 6]"
      ]
     },
     "execution_count": 19,
     "metadata": {},
     "output_type": "execute_result"
    }
   ],
   "source": [
    "newnums= [1,2,3,4,5,6,7]\n",
    "\n",
    "def check_even(num):\n",
    "    return num % 2 == 0\n",
    "\n",
    "#based off of function defined, I want to only recieve even numbers\n",
    "#filter function\n",
    "#map is similar to filter however, map applied the function\n",
    "# to the list, function has to return a boolean T or F\n",
    "\n",
    "\n",
    "\n",
    "# list \n",
    "list(filter(check_even,newnums))\n",
    "#filter only returns the True statements\n",
    "\n"
   ]
  },
  {
   "cell_type": "code",
   "execution_count": 20,
   "metadata": {},
   "outputs": [
    {
     "name": "stdout",
     "output_type": "stream",
     "text": [
      "2\n",
      "4\n",
      "6\n"
     ]
    }
   ],
   "source": [
    "# Iterate\n",
    "for _ in filter(check_even,newnums):\n",
    "    print(_)"
   ]
  },
  {
   "cell_type": "code",
   "execution_count": 25,
   "metadata": {},
   "outputs": [
    {
     "data": {
      "text/plain": [
       "[1, 4, 9, 16, 25, 36, 49]"
      ]
     },
     "execution_count": 25,
     "metadata": {},
     "output_type": "execute_result"
    }
   ],
   "source": [
    "list(map(lambda num: num ** 2, newnums))\n",
    "#list - create list\n",
    "#map - apply llambda to newnums\n",
    "#lambda - every number in newnums is squared \n"
   ]
  },
  {
   "cell_type": "code",
   "execution_count": 27,
   "metadata": {},
   "outputs": [
    {
     "data": {
      "text/plain": [
       "[2, 4, 6]"
      ]
     },
     "execution_count": 27,
     "metadata": {},
     "output_type": "execute_result"
    }
   ],
   "source": [
    "#convert check even function to lambda\n",
    "#def check_even(num):\n",
    "    #return num % 2 == 0\n",
    "\n",
    "list(filter(lambda _ : _ % 2 == 0, my_nums))\n",
    "#list - create list\n",
    "#filter - if ture return into list\n",
    "#lambda - _ % 2== 0 for everything in my_nums\n",
    "\n"
   ]
  },
  {
   "cell_type": "code",
   "execution_count": 31,
   "metadata": {},
   "outputs": [
    {
     "data": {
      "text/plain": [
       "['andy', 'ian', 'kyle']"
      ]
     },
     "execution_count": 31,
     "metadata": {},
     "output_type": "execute_result"
    }
   ],
   "source": [
    "names"
   ]
  },
  {
   "cell_type": "code",
   "execution_count": 32,
   "metadata": {},
   "outputs": [
    {
     "data": {
      "text/plain": [
       "['a', 'i', 'k']"
      ]
     },
     "execution_count": 32,
     "metadata": {},
     "output_type": "execute_result"
    }
   ],
   "source": [
    "list(map(lambda name:name[0], names))"
   ]
  },
  {
   "cell_type": "code",
   "execution_count": 36,
   "metadata": {},
   "outputs": [
    {
     "name": "stdout",
     "output_type": "stream",
     "text": [
      "[1, 2, 3, 4, 5, 6]\n"
     ]
    },
    {
     "data": {
      "text/plain": [
       "[False, True, False, True, False, True]"
      ]
     },
     "execution_count": 36,
     "metadata": {},
     "output_type": "execute_result"
    }
   ],
   "source": [
    "print(my_nums)\n",
    "list(map(lambda _:_%2==0, my_nums))\n",
    "#creates a list of the T or F numbers created by lambda\n"
   ]
  },
  {
   "cell_type": "code",
   "execution_count": 38,
   "metadata": {},
   "outputs": [
    {
     "data": {
      "text/plain": [
       "[2, 4, 6]"
      ]
     },
     "execution_count": 38,
     "metadata": {},
     "output_type": "execute_result"
    }
   ],
   "source": [
    "list(filter(lambda _:_%2 == 0, my_nums ))\n",
    "# creates a list of the filtered numbers"
   ]
  },
  {
   "cell_type": "code",
   "execution_count": 39,
   "metadata": {},
   "outputs": [
    {
     "data": {
      "text/plain": [
       "['andy', 'ian', 'kyle']"
      ]
     },
     "execution_count": 39,
     "metadata": {},
     "output_type": "execute_result"
    }
   ],
   "source": [
    "names"
   ]
  },
  {
   "cell_type": "code",
   "execution_count": 41,
   "metadata": {},
   "outputs": [
    {
     "data": {
      "text/plain": [
       "['ydna', 'nai', 'elyk']"
      ]
     },
     "execution_count": 41,
     "metadata": {},
     "output_type": "execute_result"
    }
   ],
   "source": [
    "list(map(lambda _ : _ [::-1],names))\n",
    "#reverses strings"
   ]
  },
  {
   "cell_type": "code",
   "execution_count": 94,
   "metadata": {},
   "outputs": [
    {
     "name": "stdout",
     "output_type": "stream",
     "text": [
      "aaron\n",
      "dale\n"
     ]
    }
   ],
   "source": [
    "#self test\n",
    "#if bank account larger than 1000, return account name\n",
    "\n",
    "bankstate = {'kyle':209 ,'aaron':1323,'dale':4005}\n",
    "\n",
    "def bankcheck(bank):\n",
    "        for key,value in bankstate.items():\n",
    "            if value > 1000:\n",
    "                print(key)\n",
    "\n",
    "bankcheck(bankstate)"
   ]
  },
  {
   "cell_type": "code",
   "execution_count": 95,
   "metadata": {},
   "outputs": [],
   "source": [
    "# filter - based on lambda, will sort True statements\n",
    "# map - apply lambda to everything in list or etc"
   ]
  },
  {
   "cell_type": "code",
   "execution_count": 96,
   "metadata": {},
   "outputs": [],
   "source": [
    "#Nested Statements and Scope\n",
    "\n",
    "#variable names stored in namespace\n",
    "\n",
    "#variable names also have a scope determines the visibility \n",
    "#of that var name to other parts of code\n"
   ]
  },
  {
   "cell_type": "code",
   "execution_count": null,
   "metadata": {},
   "outputs": [],
   "source": []
  }
 ],
 "metadata": {
  "interpreter": {
   "hash": "79607b36fb8dc03ee352315c3f810266520521b71bf1299f5791854579885cc3"
  },
  "kernelspec": {
   "display_name": "Python 3.10.4 64-bit",
   "language": "python",
   "name": "python3"
  },
  "language_info": {
   "codemirror_mode": {
    "name": "ipython",
    "version": 3
   },
   "file_extension": ".py",
   "mimetype": "text/x-python",
   "name": "python",
   "nbconvert_exporter": "python",
   "pygments_lexer": "ipython3",
   "version": "3.10.4"
  },
  "orig_nbformat": 4
 },
 "nbformat": 4,
 "nbformat_minor": 2
}
