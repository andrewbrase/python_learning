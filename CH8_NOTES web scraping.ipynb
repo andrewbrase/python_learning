{
 "cells": [
  {
   "cell_type": "code",
   "execution_count": null,
   "metadata": {},
   "outputs": [],
   "source": [
    "# <!DOCTYPE html>\n",
    "#     <html>\n",
    "#         <head>\n",
    "#         <link rel= \"stylesheet\" href=\"styles.css\">\n",
    "#         <title>Some Title </title>\n",
    "#         </head>\n",
    "#         <body>\n",
    "#             <p id='para2'> Some Text </p>\n",
    "#         </body>\n",
    "#     </html>"
   ]
  }
 ],
 "metadata": {
  "language_info": {
   "name": "python"
  },
  "orig_nbformat": 4
 },
 "nbformat": 4,
 "nbformat_minor": 2
}
