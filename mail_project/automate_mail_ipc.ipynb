{
 "cells": [
  {
   "cell_type": "code",
   "execution_count": 12,
   "metadata": {},
   "outputs": [
    {
     "data": {
      "text/plain": [
       "'Team,\\n WWT has identified an issue in processing PROJECT 37295482\\n In order to continue with the fulfillment of this order, a change is required from you and actions need to be taken in order for WWT to complete the provisioning processes.  Please refer to the CR reason code to help understand the issue preventing completion of your order. \\n CR Reason: REASON\\n Per normal Change Required process, please add +1 days to the SLA for PROJECT 37295482. The SLA is currently on hold and will continue when the Change Required is completed and WWT is notified. Please reply all acknowledging the correction has been completed and adjust preinstall dates accordingly.\\n Please let me know if you have any questions.\\n Thank you\\n Andrew M Brase\\n NAIC3 ITC Technician | L3\\n Andrew.Brase@wwt.com'"
      ]
     },
     "execution_count": 12,
     "metadata": {},
     "output_type": "execute_result"
    }
   ],
   "source": [
    "# look into Openpyxl for excel files\n",
    "# To be able to include images (jpeg, png, bmp,…) into an openpyxl file, you will also need the “pillow” library\n",
    "\n",
    "import openpyxl\n",
    "import smtplib\n",
    "import getpass\n",
    "\n",
    "# Give the location of the file\n",
    "# To open the workbook\n",
    "# workbook object is created\n",
    "wb_object = openpyxl.load_workbook('custinfo1.xlsx')\n",
    "\n",
    "# Get workbook active sheet object\n",
    "# from the active attribute\n",
    "sheet_object = wb_object.active\n",
    "\n",
    "# Cell objects also have a row, column,\n",
    "# and coordinate attributes that provide\n",
    "# location information for the cell.\n",
    " \n",
    "# Note: The first row or\n",
    "# column integer is 1, not 0.\n",
    " \n",
    "# Cell object is created by using\n",
    "# sheet object's cell() method.\n",
    "comapny_name = sheet_object.cell(row=1,column=2)\n",
    "# print(comapny_name.value)\n",
    "\n",
    "project = sheet_object.cell(row=7,column=2).value\n",
    "change_request = f\"Team,\\n WWT has identified an issue in processing PROJECT {project}\\n In order to continue with the fulfillment of this order, a change is required from you and actions need to be taken in order for WWT to complete the provisioning processes.  Please refer to the CR reason code to help understand the issue preventing completion of your order. \\n CR Reason: REASON\\n Per normal Change Required process, please add +1 days to the SLA for PROJECT {project}. The SLA is currently on hold and will continue when the Change Required is completed and WWT is notified. Please reply all acknowledging the correction has been completed and adjust preinstall dates accordingly.\\n Please let me know if you have any questions.\\n Thank you\\n Andrew M Brase\\n NAIC3 ITC Technician | L3\\n Andrew.Brase@wwt.com\"\n",
    "\n",
    "change_request\n",
    "\n",
    "###################\n",
    "# email\n",
    "# smtp_object = smtplib.SMTP('smtp.gmail.com',587)\n",
    "# smtp_object.ehlo()\n",
    "\n",
    "# smtp_object.starttls()\n",
    "\n",
    "# email = getpass.getpass(\"email: \")\n",
    "# password = getpass.getpass(\"password: \")\n",
    "# smtp_object.login(email,password)\n",
    "\n",
    "# from_address = email\n",
    "# to_address = email\n",
    "# subject = input('enter the subject line: ')\n",
    "# message = input('enter the body message: ')\n",
    "# msg = 'Subject: '+subject+'\\n'+message\n",
    "\n",
    "# smtp_object.sendmail(from_address,to_address,msg)\n",
    "# smtp_object.quit()"
   ]
  }
 ],
 "metadata": {
  "kernelspec": {
   "display_name": "Python 3.10.5 64-bit (windows store)",
   "language": "python",
   "name": "python3"
  },
  "language_info": {
   "codemirror_mode": {
    "name": "ipython",
    "version": 3
   },
   "file_extension": ".py",
   "mimetype": "text/x-python",
   "name": "python",
   "nbconvert_exporter": "python",
   "pygments_lexer": "ipython3",
   "version": "3.10.5"
  },
  "orig_nbformat": 4,
  "vscode": {
   "interpreter": {
    "hash": "dd239d5c88ed0fbbea2f22807422df04200bb900720e85b0ada3495c01ab65a0"
   }
  }
 },
 "nbformat": 4,
 "nbformat_minor": 2
}
