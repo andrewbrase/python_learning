{
 "cells": [
  {
   "cell_type": "code",
   "execution_count": null,
   "metadata": {},
   "outputs": [],
   "source": [
    "#ch5"
   ]
  },
  {
   "cell_type": "code",
   "execution_count": null,
   "metadata": {},
   "outputs": [],
   "source": [
    "#object oriented programming,\n",
    "#allows programmers to create their own objects that have methods and attributes\n",
    "#.method_name()"
   ]
  },
  {
   "cell_type": "code",
   "execution_count": null,
   "metadata": {},
   "outputs": [],
   "source": [
    "#class keyword\n",
    "\n",
    "#camel cassing Name Of Class\n",
    "#class NameOfClass():\n",
    "#\n",
    "#   def _init_(self,param1,param2):\n",
    "#       self.param1 = param1\n",
    "#       self.param2 = param2\n",
    "#\n",
    "#   def some_method(self):\n",
    "#       perform some action\n",
    "#       print(self,param1)"
   ]
  },
  {
   "cell_type": "code",
   "execution_count": null,
   "metadata": {},
   "outputs": [],
   "source": []
  }
 ],
 "metadata": {
  "interpreter": {
   "hash": "79607b36fb8dc03ee352315c3f810266520521b71bf1299f5791854579885cc3"
  },
  "kernelspec": {
   "display_name": "Python 3.10.4 64-bit",
   "language": "python",
   "name": "python3"
  },
  "language_info": {
   "name": "python",
   "version": "3.10.4"
  },
  "orig_nbformat": 4
 },
 "nbformat": 4,
 "nbformat_minor": 2
}
