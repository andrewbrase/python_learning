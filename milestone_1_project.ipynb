{
 "cells": [
  {
   "cell_type": "code",
   "execution_count": 3,
   "metadata": {},
   "outputs": [
    {
     "name": "stdout",
     "output_type": "stream",
     "text": [
      "['X', ' ', ' ']\n",
      "[' ', ' ', ' ']\n",
      "[' ', ' ', ' ']\n",
      "player X location Q selected\n"
     ]
    }
   ],
   "source": [
    "#Write a function that can print out a board. Set up your board as a list, where each index 1-9 corresponds with a number on a number pad, so you get a 3 by 3 board representation\n",
    "\n",
    "#decided to use a dict\n",
    "board = {'Q':' ','W':' ','E':' ','A':' ','S':' ','D':' ','Z':' ','X':' ','C':' '}\n",
    "start_board = {'Q':' ','W':' ','E':' ','A':' ','S':' ','D':' ','Z':' ','X':' ','C':' '}\n",
    "inps = 'default'\n",
    "pos = 'default'\n",
    "\n",
    "\n",
    "def display_board(a):\n",
    "\n",
    "    the_values = list(a.values())\n",
    "\n",
    "    ticrow1 = the_values[0:3]\n",
    "    ticrow2 = the_values[3:6]\n",
    "    ticrow3 = the_values[6:9]\n",
    "\n",
    "    print(ticrow1)\n",
    "    print(ticrow2)\n",
    "    print(ticrow3)\n",
    "    \n",
    "\n",
    "def player_input(a,b):\n",
    " \n",
    "    while a != 'X' or a != 'O':\n",
    "        a = input('please enter X or O')\n",
    "        if a == 'X' or a == 'O':\n",
    "            #ask for position (b)\n",
    "            b = input('please enter a position')\n",
    "            #\n",
    "            board[b] = a\n",
    "            display_board(board)\n",
    "            print(f'player {a} location {b} selected')\n",
    "            return\n",
    "        if a != 'X' or a != 'O':\n",
    "            print(f'Sorry {a} not recognized, please enter X or O')\n",
    "\n",
    "player_input(inps,pos)"
   ]
  }
 ],
 "metadata": {
  "interpreter": {
   "hash": "79607b36fb8dc03ee352315c3f810266520521b71bf1299f5791854579885cc3"
  },
  "kernelspec": {
   "display_name": "Python 3.10.4 64-bit",
   "language": "python",
   "name": "python3"
  },
  "language_info": {
   "codemirror_mode": {
    "name": "ipython",
    "version": 3
   },
   "file_extension": ".py",
   "mimetype": "text/x-python",
   "name": "python",
   "nbconvert_exporter": "python",
   "pygments_lexer": "ipython3",
   "version": "3.10.4"
  },
  "orig_nbformat": 4
 },
 "nbformat": 4,
 "nbformat_minor": 2
}
