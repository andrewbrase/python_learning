{
 "cells": [
  {
   "cell_type": "code",
   "execution_count": 12,
   "metadata": {},
   "outputs": [],
   "source": [
    "#ch5"
   ]
  },
  {
   "cell_type": "code",
   "execution_count": 13,
   "metadata": {},
   "outputs": [],
   "source": [
    "#object oriented programming,\n",
    "#allows programmers to create their own objects that have methods and attributes\n",
    "#.method_name()"
   ]
  },
  {
   "cell_type": "code",
   "execution_count": 14,
   "metadata": {},
   "outputs": [],
   "source": [
    "#class keyword\n",
    "\n",
    "#camel cassing Name Of Class\n",
    "#class NameOfClass():\n",
    "#\n",
    "#   def _init_(self,param1,param2):\n",
    "#       self.param1 = param1\n",
    "#       self.param2 = param2\n",
    "#\n",
    "#   def some_method(self):\n",
    "#       perform some action\n",
    "#       print(self,param1)"
   ]
  },
  {
   "cell_type": "code",
   "execution_count": 1,
   "metadata": {},
   "outputs": [
    {
     "name": "stdout",
     "output_type": "stream",
     "text": [
      "False\n",
      "poodle\n",
      "sammy\n"
     ]
    }
   ],
   "source": [
    "class Dog():\n",
    "    \n",
    "    #method , init method called upon when an instance of the class is created\n",
    "    #self or anything else\n",
    "    def __init__(self,breed,name,spots):\n",
    "        #self connects the method to the instance of the class, alls it to refer to itself\n",
    "\n",
    "        #attributes characteristics of the object\n",
    "        #we take in the argument, mybreed and assign it using self.attribute_name\n",
    "        self.breed = breed\n",
    "        self.name = name\n",
    "\n",
    "        #expect boolean T/F\n",
    "        self.spots = spots\n",
    "\n",
    "\n",
    "mydog = Dog(breed = 'poodle', name = 'sammy',spots = False)\n",
    "\n",
    "#can call upon \n",
    "print(mydog.spots)\n",
    "print(mydog.breed)\n",
    "print(mydog.name)"
   ]
  },
  {
   "cell_type": "code",
   "execution_count": 16,
   "metadata": {},
   "outputs": [],
   "source": [
    "#class object attributes attributes are the same for ANY instances of the class\n",
    "#methods - actions that are performed with the object"
   ]
  },
  {
   "cell_type": "code",
   "execution_count": 13,
   "metadata": {},
   "outputs": [
    {
     "name": "stdout",
     "output_type": "stream",
     "text": [
      "my car is red\n",
      "Ford\n",
      "honk red car 1\n",
      "honk red car 2\n"
     ]
    }
   ],
   "source": [
    "class Vehicle():\n",
    "\n",
    "    #class object attribute, same for any instance of a class\n",
    "    #dont use self keyword\n",
    "    manufacturer = 'Ford'\n",
    "\n",
    "    #USER defined attributes\n",
    "    def __init__(self,color,type):\n",
    "\n",
    "        self.color = color\n",
    "        self.type = type\n",
    "\n",
    "    #horn method  #number (1)\n",
    "    def horn(self,number):          #all defined in init need self\n",
    "        print('honk {} {} {}'.format(self.color,self.type,number))\n",
    "\n",
    "my_car = Vehicle(color = 'red',type = 'car')\n",
    "\n",
    "print(f'my car is {my_car.color}')\n",
    "print(my_car.manufacturer)\n",
    "my_car.horn(1)\n",
    "my_car.horn(2)"
   ]
  },
  {
   "cell_type": "code",
   "execution_count": 26,
   "metadata": {},
   "outputs": [
    {
     "data": {
      "text/plain": [
       "30"
      ]
     },
     "execution_count": 26,
     "metadata": {},
     "output_type": "execute_result"
    }
   ],
   "source": [
    "#example 2\n",
    "\n",
    "class Circle():\n",
    "\n",
    "    #CLASS OBJECT ATTRIBUTE, true w/ any instance of the class\n",
    "    pi = 3.14\n",
    "                    #default value\n",
    "    def __init__(self, radius = 1):\n",
    "\n",
    "        self.radius = radius\n",
    "        #attributes dont need to be defined from parameter call\n",
    "                                #ex pi, class obj attribute\n",
    "                                #can use {Circle}.pi,name of class, or self\n",
    "        self.area = radius*radius*Circle.pi\n",
    "\n",
    "        #METHOD\n",
    "\n",
    "    def get_circumference(self):\n",
    "        return self.radius * self.pi * 2\n",
    "\n",
    "\n",
    "#instance of circle\n",
    "\n",
    "my_circle = Circle(30)\n",
    "my_circle.radius\n",
    "\n"
   ]
  },
  {
   "cell_type": "code",
   "execution_count": 27,
   "metadata": {},
   "outputs": [
    {
     "data": {
      "text/plain": [
       "188.4"
      ]
     },
     "execution_count": 27,
     "metadata": {},
     "output_type": "execute_result"
    }
   ],
   "source": [
    "my_circle.get_circumference()"
   ]
  },
  {
   "cell_type": "code",
   "execution_count": 28,
   "metadata": {},
   "outputs": [
    {
     "data": {
      "text/plain": [
       "2826.0"
      ]
     },
     "execution_count": 28,
     "metadata": {},
     "output_type": "execute_result"
    }
   ],
   "source": [
    "my_circle.area"
   ]
  },
  {
   "cell_type": "code",
   "execution_count": null,
   "metadata": {},
   "outputs": [],
   "source": [
    "#inheritance - form new classes using classes that \n",
    "#have already been defined, reuse code\n",
    "\n",
    "#polymorphism"
   ]
  },
  {
   "cell_type": "code",
   "execution_count": 43,
   "metadata": {},
   "outputs": [
    {
     "name": "stdout",
     "output_type": "stream",
     "text": [
      "animal created\n",
      "I am eating\n",
      "I am an animal\n"
     ]
    }
   ],
   "source": [
    "#base class\n",
    "class Animal():\n",
    "\n",
    "    #newly formed classes can use the animal class to \n",
    "    #inherit some of its methods to use again\n",
    "\n",
    "    def __init__(self):\n",
    "        print('animal created')\n",
    "    \n",
    "    def who_am_i(self):\n",
    "        print('I am an animal')\n",
    "    \n",
    "    def eat(self):\n",
    "        print('I am eating')\n",
    "\n",
    "myanimal = Animal()\n",
    "myanimal.eat()\n",
    "myanimal.who_am_i()"
   ]
  },
  {
   "cell_type": "code",
   "execution_count": 53,
   "metadata": {},
   "outputs": [
    {
     "name": "stdout",
     "output_type": "stream",
     "text": [
      "animal created\n",
      "cat created\n"
     ]
    }
   ],
   "source": [
    "#inherit Animal class\n",
    "#Derived Class\n",
    "class Cat(Animal):\n",
    "\n",
    "    def __init__(self):\n",
    "        Animal.__init__(self)\n",
    "        print('cat created')\n",
    "\n",
    "    #able to overwrite methods from previous class\n",
    "    def who_am_i(self):\n",
    "        print('I am a cat')\n",
    "\n",
    "    #able to write new methods \n",
    "    def meow(self):\n",
    "        print('meow')\n",
    "\n",
    "mycat = Cat()"
   ]
  },
  {
   "cell_type": "code",
   "execution_count": 55,
   "metadata": {},
   "outputs": [
    {
     "name": "stdout",
     "output_type": "stream",
     "text": [
      "I am eating\n"
     ]
    }
   ],
   "source": [
    "#still able to use eat because eat was derived from Animal\n",
    "mycat.eat()"
   ]
  },
  {
   "cell_type": "code",
   "execution_count": 56,
   "metadata": {},
   "outputs": [
    {
     "name": "stdout",
     "output_type": "stream",
     "text": [
      "I am a cat\n"
     ]
    }
   ],
   "source": [
    "mycat.who_am_i()"
   ]
  },
  {
   "cell_type": "code",
   "execution_count": 54,
   "metadata": {},
   "outputs": [
    {
     "name": "stdout",
     "output_type": "stream",
     "text": [
      "meow\n"
     ]
    }
   ],
   "source": [
    "mycat.meow()"
   ]
  },
  {
   "cell_type": "code",
   "execution_count": 59,
   "metadata": {},
   "outputs": [
    {
     "data": {
      "text/plain": [
       "'polly chirp'"
      ]
     },
     "execution_count": 59,
     "metadata": {},
     "output_type": "execute_result"
    }
   ],
   "source": [
    "#polymorphism\n",
    "\n",
    "#different object classes can share the same method name\n",
    "#those methods can be called from the same place\n",
    "#even though a variety of objects might be passed in\n",
    "\n",
    "class Bird():\n",
    "\n",
    "    def __init__(self,x):\n",
    "        self.name = x\n",
    "\n",
    "    def speak(self):\n",
    "        return self.name + ' chirp'\n",
    "\n",
    "\n",
    "mybird = Bird('polly')\n",
    "mybird.speak()"
   ]
  },
  {
   "cell_type": "code",
   "execution_count": 60,
   "metadata": {},
   "outputs": [
    {
     "name": "stdout",
     "output_type": "stream",
     "text": [
      "polly chirp\n",
      "ralph squeak\n"
     ]
    }
   ],
   "source": [
    "class Bird():\n",
    "\n",
    "    def __init__(self,x):\n",
    "        self.name = x\n",
    "\n",
    "    def speak(self):\n",
    "        return self.name + ' chirp'\n",
    "\n",
    "class Mouse():\n",
    "\n",
    "    def __init__(self,x):\n",
    "        self.name = x\n",
    "\n",
    "    def speak(self):\n",
    "        return self.name + ' squeak'\n",
    "\n",
    "polly = Bird('polly')\n",
    "ralph = Mouse('ralph')\n",
    "\n",
    "#each objects speak method returns a unique result\n",
    "#ex . chirp, squeak\n",
    "print(polly.speak())\n",
    "print(ralph.speak())"
   ]
  },
  {
   "cell_type": "code",
   "execution_count": 61,
   "metadata": {},
   "outputs": [
    {
     "name": "stdout",
     "output_type": "stream",
     "text": [
      "<class '__main__.Bird'>\n",
      "<class 'str'>\n",
      "<class '__main__.Mouse'>\n",
      "<class 'str'>\n"
     ]
    }
   ],
   "source": [
    "for pet in [polly,ralph]:\n",
    "    print(type(pet))\n",
    "    print(type(pet.speak()))"
   ]
  },
  {
   "cell_type": "code",
   "execution_count": 62,
   "metadata": {},
   "outputs": [
    {
     "name": "stdout",
     "output_type": "stream",
     "text": [
      "ralph squeak\n"
     ]
    }
   ],
   "source": [
    "def pet_speak(pet):\n",
    "    print(pet.speak())\n",
    "\n",
    "pet_speak(ralph)"
   ]
  },
  {
   "cell_type": "code",
   "execution_count": 63,
   "metadata": {},
   "outputs": [
    {
     "name": "stdout",
     "output_type": "stream",
     "text": [
      "polly chirp\n"
     ]
    }
   ],
   "source": [
    "def pet_speak(pet):\n",
    "    print(pet.speak())\n",
    "\n",
    "pet_speak(polly)"
   ]
  },
  {
   "cell_type": "code",
   "execution_count": 67,
   "metadata": {},
   "outputs": [
    {
     "ename": "NotImplementedError",
     "evalue": "Subclass must implement this abstract method",
     "output_type": "error",
     "traceback": [
      "\u001b[1;31m---------------------------------------------------------------------------\u001b[0m",
      "\u001b[1;31mNotImplementedError\u001b[0m                       Traceback (most recent call last)",
      "\u001b[1;32mc:\\Users\\brasea\\Desktop\\Workspace\\python_learning\\ch5\\1.ipynb Cell 21'\u001b[0m in \u001b[0;36m<cell line: 15>\u001b[1;34m()\u001b[0m\n\u001b[0;32m     <a href='vscode-notebook-cell:/c%3A/Users/brasea/Desktop/Workspace/python_learning/ch5/1.ipynb#ch0000022?line=9'>10</a>\u001b[0m         \u001b[39mraise\u001b[39;00m \u001b[39mNotImplementedError\u001b[39;00m(\u001b[39m'\u001b[39m\u001b[39mSubclass must implement this abstract method\u001b[39m\u001b[39m'\u001b[39m)\n\u001b[0;32m     <a href='vscode-notebook-cell:/c%3A/Users/brasea/Desktop/Workspace/python_learning/ch5/1.ipynb#ch0000022?line=13'>14</a>\u001b[0m fredanimal \u001b[39m=\u001b[39m Mammal(\u001b[39m'\u001b[39m\u001b[39mfred\u001b[39m\u001b[39m'\u001b[39m)\n\u001b[1;32m---> <a href='vscode-notebook-cell:/c%3A/Users/brasea/Desktop/Workspace/python_learning/ch5/1.ipynb#ch0000022?line=14'>15</a>\u001b[0m fredanimal\u001b[39m.\u001b[39;49mspeak()\n",
      "\u001b[1;32mc:\\Users\\brasea\\Desktop\\Workspace\\python_learning\\ch5\\1.ipynb Cell 21'\u001b[0m in \u001b[0;36mMammal.speak\u001b[1;34m(self)\u001b[0m\n\u001b[0;32m      <a href='vscode-notebook-cell:/c%3A/Users/brasea/Desktop/Workspace/python_learning/ch5/1.ipynb#ch0000022?line=8'>9</a>\u001b[0m \u001b[39mdef\u001b[39;00m \u001b[39mspeak\u001b[39m(\u001b[39mself\u001b[39m):\n\u001b[1;32m---> <a href='vscode-notebook-cell:/c%3A/Users/brasea/Desktop/Workspace/python_learning/ch5/1.ipynb#ch0000022?line=9'>10</a>\u001b[0m     \u001b[39mraise\u001b[39;00m \u001b[39mNotImplementedError\u001b[39;00m(\u001b[39m'\u001b[39m\u001b[39mSubclass must implement this abstract method\u001b[39m\u001b[39m'\u001b[39m)\n",
      "\u001b[1;31mNotImplementedError\u001b[0m: Subclass must implement this abstract method"
     ]
    }
   ],
   "source": [
    "#abstract classes and inheritance\n",
    "#only serve as a base class\n",
    "\n",
    "class Mammal():\n",
    "\n",
    "    def __init__(self,name):\n",
    "        self.name = name\n",
    "\n",
    "    def speak(self):\n",
    "        raise NotImplementedError('Subclass must implement this abstract method')\n",
    "\n",
    "\n",
    "\n",
    "fredanimal = Mammal('fred')\n",
    "fredanimal.speak()\n",
    "\n"
   ]
  },
  {
   "cell_type": "code",
   "execution_count": 74,
   "metadata": {},
   "outputs": [
    {
     "name": "stdout",
     "output_type": "stream",
     "text": [
      "fido says roar\n",
      "randy sleeps under the tree\n"
     ]
    }
   ],
   "source": [
    "class Bear(Mammal):\n",
    "\n",
    "    #abstract methods\n",
    "    def speak(self):\n",
    "        print(self.name + ' says roar')\n",
    "\n",
    "\n",
    "class Lion(Mammal):\n",
    "\n",
    "    def speak(self):\n",
    "        print(self.name + ' sleeps under the tree')\n",
    "\n",
    "\n",
    "\n",
    "fido = Bear('fido')\n",
    "randy = Lion('randy')\n",
    "\n",
    "fido.speak()\n",
    "randy.speak()"
   ]
  },
  {
   "cell_type": "code",
   "execution_count": 75,
   "metadata": {},
   "outputs": [
    {
     "data": {
      "text/plain": [
       "3"
      ]
     },
     "execution_count": 75,
     "metadata": {},
     "output_type": "execute_result"
    }
   ],
   "source": [
    "#special methods\n",
    "#ex\n",
    "\n",
    "mylist = [1,2,3]\n",
    "len(mylist)"
   ]
  },
  {
   "cell_type": "code",
   "execution_count": 80,
   "metadata": {},
   "outputs": [
    {
     "name": "stdout",
     "output_type": "stream",
     "text": [
      "lizards by andrew\n"
     ]
    }
   ],
   "source": [
    "#How to use built in python functions, \n",
    "#such as len() or print() w/ user defined objects\n",
    "\n",
    "class Book():\n",
    "\n",
    "    def __init__(self,title,author,pages):\n",
    "\n",
    "        self.title = title\n",
    "        self.author = author\n",
    "        self.pages = pages\n",
    "\n",
    "    def __str__(self):\n",
    "        return f'{self.title} by {self.author}'\n",
    "\n",
    "    def __len__(self):\n",
    "        return self.pages\n",
    "\n",
    "    def __del__(self):\n",
    "        print('this book has been deleted')\n",
    "\n",
    "b = Book('lizards','andrew',200)\n",
    "\n",
    "print(b)\n",
    "#special method for printing and strings\n"
   ]
  },
  {
   "cell_type": "code",
   "execution_count": 81,
   "metadata": {},
   "outputs": [
    {
     "data": {
      "text/plain": [
       "200"
      ]
     },
     "execution_count": 81,
     "metadata": {},
     "output_type": "execute_result"
    }
   ],
   "source": [
    "len(b)"
   ]
  },
  {
   "cell_type": "code",
   "execution_count": 82,
   "metadata": {},
   "outputs": [
    {
     "name": "stdout",
     "output_type": "stream",
     "text": [
      "this book has been deleted\n"
     ]
    }
   ],
   "source": [
    "#if you wanted to delete book\n",
    "#del b\n",
    "\n",
    "#delete variables from memory\n",
    "class Book():\n",
    "\n",
    "    def __init__(self,title,author,pages):\n",
    "\n",
    "        self.title = title\n",
    "        self.author = author\n",
    "        self.pages = pages\n",
    "\n",
    "    def __str__(self):\n",
    "        return f'{self.title} by {self.author}'\n",
    "\n",
    "    def __len__(self):\n",
    "        return self.pages\n",
    "\n",
    "    def __del__(self):\n",
    "        print('this book has been deleted')\n",
    "\n",
    "b = Book('lizards','andrew',200)\n",
    "\n",
    "del(b)\n"
   ]
  },
  {
   "cell_type": "code",
   "execution_count": 83,
   "metadata": {},
   "outputs": [
    {
     "ename": "NameError",
     "evalue": "name 'b' is not defined",
     "output_type": "error",
     "traceback": [
      "\u001b[1;31m---------------------------------------------------------------------------\u001b[0m",
      "\u001b[1;31mNameError\u001b[0m                                 Traceback (most recent call last)",
      "\u001b[1;32mc:\\Users\\brasea\\Desktop\\Workspace\\python_learning\\ch5\\1.ipynb Cell 27'\u001b[0m in \u001b[0;36m<cell line: 1>\u001b[1;34m()\u001b[0m\n\u001b[1;32m----> <a href='vscode-notebook-cell:/c%3A/Users/brasea/Desktop/Workspace/python_learning/ch5/1.ipynb#ch0000029?line=0'>1</a>\u001b[0m b\n",
      "\u001b[1;31mNameError\u001b[0m: name 'b' is not defined"
     ]
    }
   ],
   "source": [
    "b"
   ]
  },
  {
   "cell_type": "code",
   "execution_count": 95,
   "metadata": {},
   "outputs": [
    {
     "data": {
      "text/plain": [
       "1.6"
      ]
     },
     "execution_count": 95,
     "metadata": {},
     "output_type": "execute_result"
    }
   ],
   "source": [
    "class Line:\n",
    "    \n",
    "    def __init__(self,coor1,coor2):\n",
    "        self.coor1 = coor1\n",
    "        self.coor2 = coor2\n",
    "    \n",
    "    def distance(self):\n",
    "        \n",
    "        x1,y1 = self.coor1\n",
    "        x2,y2 = self.coor2\n",
    "\n",
    "        return ((x2-x1)**2 + (y2 - y1)**2)**0.5\n",
    "    \n",
    "    def slope(self):\n",
    "\n",
    "        x1,y1 = self.coor1\n",
    "        x2,y2 = self.coor2\n",
    "\n",
    "        return (y2-y1) / (x2-x1)\n",
    "\n",
    "\n",
    "c1 = (3,2)\n",
    "c2 = (8,10)\n",
    "\n",
    "myline = Line(c1,c2)\n",
    "\n",
    "myline.slope()\n"
   ]
  },
  {
   "cell_type": "code",
   "execution_count": 98,
   "metadata": {},
   "outputs": [
    {
     "data": {
      "text/plain": [
       "94.2"
      ]
     },
     "execution_count": 98,
     "metadata": {},
     "output_type": "execute_result"
    }
   ],
   "source": [
    "class Cylinder():\n",
    "\n",
    "    def __init__(self, height=1,radius =1):\n",
    "\n",
    "        self.height = height\n",
    "        self.radius = radius\n",
    "\n",
    "    def volume(self):\n",
    "        return self.height * 3.14 * (self.radius)**2\n",
    "    \n",
    "    def surface_area(self):\n",
    "        \n",
    "        top = 3.14 * (self.radius**2)\n",
    "\n",
    "        return (2*top) + (2*3.14*self.radius*self.height)\n",
    "\n",
    "\n",
    "mycyl = Cylinder(2,3)\n",
    "\n",
    "mycyl.surface_area()"
   ]
  },
  {
   "cell_type": "code",
   "execution_count": null,
   "metadata": {},
   "outputs": [],
   "source": [
    "## Object Oriented Programming Challenge\n",
    "\n",
    "#For this challenge, create a bank account class that has two attributes:\n",
    "\n",
    "#* owner\n",
    "#* balance\n",
    "\n",
    "#and two methods:\n",
    "\n",
    "#* deposit\n",
    "#* withdraw\n",
    "\n",
    "#As an added requirement, withdrawals may not exceed the available balance.\n",
    "#Instantiate your class, make several deposits and withdrawals, and test to make sure the account can't be overdrawn."
   ]
  },
  {
   "cell_type": "code",
   "execution_count": 119,
   "metadata": {},
   "outputs": [
    {
     "data": {
      "text/plain": [
       "1400"
      ]
     },
     "execution_count": 119,
     "metadata": {},
     "output_type": "execute_result"
    }
   ],
   "source": [
    "class Bankacc():\n",
    "\n",
    "    def __init__(self,owner,balance):\n",
    "\n",
    "        self.owner = owner\n",
    "        self.balance = balance\n",
    "\n",
    "    def Deposit(self,amount):\n",
    "        self.balance = self.balance + amount\n",
    "        return self.balance\n",
    "\n",
    "    #def Withdraw(self,amount):\n",
    "        #withdrawals may not exceed the available balance\n",
    "        \n",
    "banktransact = Bankacc('sam',900)\n",
    "\n",
    "banktransact.Deposit(500)\n",
    "\n"
   ]
  },
  {
   "cell_type": "code",
   "execution_count": 129,
   "metadata": {},
   "outputs": [
    {
     "name": "stdout",
     "output_type": "stream",
     "text": [
      "withdrawals may not exceed the available balance\n"
     ]
    }
   ],
   "source": [
    "class Bankacc():\n",
    "\n",
    "    def __init__(self,owner,balance):\n",
    "\n",
    "        self.owner = owner\n",
    "        self.balance = balance\n",
    "\n",
    "    def Deposit(self,amount):\n",
    "        self.balance = self.balance + amount\n",
    "        return self.balance\n",
    "\n",
    "\n",
    "    def Withdraw(self,amount):\n",
    "        if amount > self.balance:\n",
    "            print('withdrawals may not exceed the available balance')\n",
    "            return\n",
    "\n",
    "        self.balance = self.balance - amount\n",
    "        print(self.balance)\n",
    "\n",
    "\n",
    "    \n",
    "        \n",
    "banktransact = Bankacc('sam',900)\n",
    "\n",
    "banktransact.Withdraw(901)"
   ]
  }
 ],
 "metadata": {
  "interpreter": {
   "hash": "79607b36fb8dc03ee352315c3f810266520521b71bf1299f5791854579885cc3"
  },
  "kernelspec": {
   "display_name": "Python 3.10.4 64-bit",
   "language": "python",
   "name": "python3"
  },
  "language_info": {
   "codemirror_mode": {
    "name": "ipython",
    "version": 3
   },
   "file_extension": ".py",
   "mimetype": "text/x-python",
   "name": "python",
   "nbconvert_exporter": "python",
   "pygments_lexer": "ipython3",
   "version": "3.10.4"
  },
  "orig_nbformat": 4
 },
 "nbformat": 4,
 "nbformat_minor": 2
}
