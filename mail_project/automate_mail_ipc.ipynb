{
 "cells": [
  {
   "cell_type": "code",
   "execution_count": 48,
   "metadata": {},
   "outputs": [
    {
     "name": "stdout",
     "output_type": "stream",
     "text": [
      "These are the numbers affected [('000 555-0101',), ('000 555-0102',), ('000 555-0103',), (None,), (None,), (None,), (None,), (None,), (None,)]\n"
     ]
    }
   ],
   "source": [
    "# look into Openpyxl for excel files\n",
    "# To be able to include images (jpeg, png, bmp,…) into an openpyxl file, you will also need the “pillow” library\n",
    "\n",
    "import openpyxl\n",
    "import smtplib\n",
    "import getpass\n",
    "\n",
    "# Give the location of the file\n",
    "# To open the workbook\n",
    "# workbook object is created\n",
    "wb_object = openpyxl.load_workbook('custinfo.xlsx')\n",
    "\n",
    "# Get workbook active sheet object\n",
    "# from the active attribute\n",
    "sheet_object = wb_object.active\n",
    "\n",
    "# Cell objects also have a row, column,\n",
    "# and coordinate attributes that provide\n",
    "# location information for the cell.\n",
    " \n",
    "# Note: The first row or\n",
    "# column integer is 1, not 0.\n",
    " \n",
    "# Cell object is created by using\n",
    "# sheet object's cell() method.\n",
    "company_name = sheet_object.cell(row=1,column=2)\n",
    "# print(comapny_name.value)\n",
    "\n",
    "#page 1\n",
    "project = sheet_object.cell(row=7,column=2).value\n",
    "contact = sheet_object.cell(row=3,column=2).value\n",
    "contact_email = sheet_object.cell(row=4,column=2).value\n",
    "backup_con = sheet_object.cell(row=5,column=2).value\n",
    "backup_email = sheet_object.cell(row=6,column=2).value\n",
    "site_num = sheet_object.cell(row=8,column=2).value\n",
    "\n",
    "#page 2\n",
    "\n",
    "sheet_object_2 = wb_object[\"phone_numbers\"]\n",
    "\n",
    "numbers_row = sheet_object_2.cell(row=5,column=2).value\n",
    "\n",
    "col = sheet_object_2.iter_cols(min_row=5,min_col=2,max_col=10,max_row=5,values_only=True)\n",
    "sheet_object_2.iter_cols()\n",
    "numlist= []\n",
    "\n",
    "for num in col:\n",
    "    if num != None:\n",
    "        numlist.append(num)\n",
    "\n",
    "\n",
    "# for sheet in wb_object:\n",
    "#     print(sheet.title)\n",
    "\n",
    "# for i, s in enumerate(sheet_object):\n",
    "#     if s == 'phone_numbers':\n",
    "#         break\n",
    "# wb_object.active = i\n",
    "\n",
    "# temp_num= sheet_object.cell(row=5,column=2).value\n",
    "\n",
    "change_request = f\"Hello, order {project} site number {site_num} has configuration issues and needs to be addressed by ITsupport, please contact {contact}at {contact_email}. If {contact}does not respond, please reach out to {backup_con} at {backup_email}.\"\n",
    "numbers_range = f\"These are the numbers affected {numlist}\"\n",
    "\n",
    "# print(change_request)\n",
    "print(numbers_range)\n",
    "\n",
    "###################\n",
    "# email\n",
    "# smtp_object = smtplib.SMTP('smtp.gmail.com',587)\n",
    "# smtp_object.ehlo()\n",
    "\n",
    "# smtp_object.starttls()\n",
    "\n",
    "# email = getpass.getpass(\"email: \")\n",
    "# password = getpass.getpass(\"password: \")\n",
    "# smtp_object.login(email,password)\n",
    "\n",
    "# from_address = email\n",
    "# to_address = email\n",
    "# subject = input('enter the subject line: ')\n",
    "# message = input('enter the body message: ')\n",
    "# msg = 'Subject: '+subject+'\\n'+message\n",
    "\n",
    "# smtp_object.sendmail(from_address,to_address,msg)\n",
    "# smtp_object.quit()"
   ]
  }
 ],
 "metadata": {
  "kernelspec": {
   "display_name": "Python 3.10.5 64-bit (windows store)",
   "language": "python",
   "name": "python3"
  },
  "language_info": {
   "codemirror_mode": {
    "name": "ipython",
    "version": 3
   },
   "file_extension": ".py",
   "mimetype": "text/x-python",
   "name": "python",
   "nbconvert_exporter": "python",
   "pygments_lexer": "ipython3",
   "version": "3.10.5"
  },
  "orig_nbformat": 4,
  "vscode": {
   "interpreter": {
    "hash": "dd239d5c88ed0fbbea2f22807422df04200bb900720e85b0ada3495c01ab65a0"
   }
  }
 },
 "nbformat": 4,
 "nbformat_minor": 2
}
