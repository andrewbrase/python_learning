{
 "cells": [
  {
   "cell_type": "code",
   "execution_count": null,
   "metadata": {},
   "outputs": [],
   "source": [
    "#Deck Class\n",
    "#create all 52 card objects\n",
    "#hold as a list of crad objects\n",
    "#shuffle deck through method call, randdom library shuffle function\n",
    "#use POP method to grab from deck\n",
    "\n",
    "#deck class holds a list of card objects\n",
    "#deck class will return card class object instances, \n",
    "# not just normal data types"
   ]
  }
 ],
 "metadata": {
  "language_info": {
   "name": "python"
  },
  "orig_nbformat": 4
 },
 "nbformat": 4,
 "nbformat_minor": 2
}
