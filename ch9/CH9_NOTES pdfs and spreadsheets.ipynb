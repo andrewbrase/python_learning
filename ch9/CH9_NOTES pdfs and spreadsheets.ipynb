{
 "cells": [
  {
   "cell_type": "code",
   "execution_count": null,
   "metadata": {},
   "outputs": [],
   "source": [
    "#ch9"
   ]
  },
  {
   "cell_type": "code",
   "execution_count": null,
   "metadata": {},
   "outputs": [],
   "source": [
    "#working with CSV files in python\n",
    "#CSV -comma seperated variables - common output for spreadsheet programs\n",
    "\n",
    "# Name,Hours,Rate\n",
    "# David,20,15\n",
    "# Claire,40,20\n",
    "\n",
    "# It is possible to export excel files and Google Spreadsheets to .csv files, it only exports the information\n",
    "# Things like formulas, images, and macros can not be within a .csv file\n",
    "# a .csv file contains only raw data from the spreadsheet\n",
    "\n",
    "# look into Openpyxl for excel files\n",
    "# look into Google sheets Python API"
   ]
  }
 ],
 "metadata": {
  "language_info": {
   "name": "python"
  },
  "orig_nbformat": 4
 },
 "nbformat": 4,
 "nbformat_minor": 2
}
