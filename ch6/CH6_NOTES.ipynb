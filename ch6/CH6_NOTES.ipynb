{
 "cells": [
  {
   "cell_type": "code",
   "execution_count": null,
   "metadata": {},
   "outputs": [],
   "source": [
    "# Python decorators - allow you to tack on extra functionality to an already esiting function"
   ]
  },
  {
   "cell_type": "code",
   "execution_count": 1,
   "metadata": {},
   "outputs": [
    {
     "data": {
      "text/plain": [
       "1"
      ]
     },
     "execution_count": 1,
     "metadata": {},
     "output_type": "execute_result"
    }
   ],
   "source": [
    "# @some_decorator\n",
    "# def simple_func():\n",
    "#     Do something\n",
    "#     return something\n",
    "\n",
    "def func():\n",
    "    return 1\n",
    "\n",
    "func()"
   ]
  },
  {
   "cell_type": "code",
   "execution_count": 3,
   "metadata": {},
   "outputs": [
    {
     "data": {
      "text/plain": [
       "<function __main__.hello()>"
      ]
     },
     "execution_count": 3,
     "metadata": {},
     "output_type": "execute_result"
    }
   ],
   "source": [
    "def hello():\n",
    "    return 'hello'\n",
    "\n",
    "hello"
   ]
  },
  {
   "cell_type": "code",
   "execution_count": 6,
   "metadata": {},
   "outputs": [
    {
     "data": {
      "text/plain": [
       "'hello'"
      ]
     },
     "execution_count": 6,
     "metadata": {},
     "output_type": "execute_result"
    }
   ],
   "source": [
    "greet = hello\n",
    "greet()"
   ]
  },
  {
   "cell_type": "code",
   "execution_count": 7,
   "metadata": {},
   "outputs": [
    {
     "ename": "SyntaxError",
     "evalue": "cannot delete function call (3755759664.py, line 1)",
     "output_type": "error",
     "traceback": [
      "\u001b[1;36m  Input \u001b[1;32mIn [7]\u001b[1;36m\u001b[0m\n\u001b[1;33m    del hello()\u001b[0m\n\u001b[1;37m        ^\u001b[0m\n\u001b[1;31mSyntaxError\u001b[0m\u001b[1;31m:\u001b[0m cannot delete function call\n"
     ]
    }
   ],
   "source": [
    "del hello()\n",
    "hello()"
   ]
  },
  {
   "cell_type": "code",
   "execution_count": 8,
   "metadata": {},
   "outputs": [
    {
     "data": {
      "text/plain": [
       "'hello'"
      ]
     },
     "execution_count": 8,
     "metadata": {},
     "output_type": "execute_result"
    }
   ],
   "source": [
    "greet()"
   ]
  },
  {
   "cell_type": "code",
   "execution_count": 9,
   "metadata": {},
   "outputs": [],
   "source": [
    "#greet is still pointing to that original function"
   ]
  },
  {
   "cell_type": "code",
   "execution_count": 16,
   "metadata": {},
   "outputs": [
    {
     "name": "stdout",
     "output_type": "stream",
     "text": [
      "the hi() function has been executed\n",
      "\t this is the greet() function inside hi\n",
      "\t this is the welcome() function inside hi\n",
      "this is the end of the hi function\n"
     ]
    }
   ],
   "source": [
    "def hi(name='andrew'):\n",
    "    print('the hi() function has been executed')\n",
    "\n",
    "    def greet():\n",
    "      return '\\t this is the greet() function inside hi'  \n",
    "\n",
    "    def welcome():\n",
    "      return '\\t this is the welcome() function inside hi'  \n",
    "    \n",
    "    print(greet())\n",
    "    print(welcome())\n",
    "    print('this is the end of the hi function')\n",
    "\n",
    "hi()"
   ]
  },
  {
   "cell_type": "code",
   "execution_count": 19,
   "metadata": {},
   "outputs": [
    {
     "ename": "NameError",
     "evalue": "name 'welcome' is not defined",
     "output_type": "error",
     "traceback": [
      "\u001b[1;31m---------------------------------------------------------------------------\u001b[0m",
      "\u001b[1;31mNameError\u001b[0m                                 Traceback (most recent call last)",
      "\u001b[1;32mc:\\Users\\brasea\\Desktop\\Workspace\\python_learning\\ch6\\CH6_NOTES.ipynb Cell 9'\u001b[0m in \u001b[0;36m<cell line: 3>\u001b[1;34m()\u001b[0m\n\u001b[0;32m      <a href='vscode-notebook-cell:/c%3A/Users/brasea/Desktop/Workspace/python_learning/ch6/CH6_NOTES.ipynb#ch0000008?line=0'>1</a>\u001b[0m \u001b[39m#if greet or welcome is attempted to execute outside of the hi function\u001b[39;00m\n\u001b[1;32m----> <a href='vscode-notebook-cell:/c%3A/Users/brasea/Desktop/Workspace/python_learning/ch6/CH6_NOTES.ipynb#ch0000008?line=2'>3</a>\u001b[0m welcome()\n",
      "\u001b[1;31mNameError\u001b[0m: name 'welcome' is not defined"
     ]
    }
   ],
   "source": [
    "#if greet or welcome is attempted to execute outside of the hi function\n",
    "\n",
    "welcome()"
   ]
  },
  {
   "cell_type": "code",
   "execution_count": 22,
   "metadata": {},
   "outputs": [
    {
     "name": "stdout",
     "output_type": "stream",
     "text": [
      "the hi() function has been executed\n",
      "i am going to return a function\n"
     ]
    }
   ],
   "source": [
    "def hi(name='andrew'):\n",
    "    print('the hi() function has been executed')\n",
    "\n",
    "    def greet():\n",
    "      return '\\t this is the greet() function inside hi'  \n",
    "\n",
    "    def welcome():\n",
    "      return '\\t this is the welcome() function inside hi'  \n",
    "\n",
    "    print('i am going to return a function')\n",
    "\n",
    "    if name == 'andrew':\n",
    "        return welcome\n",
    "    else:\n",
    "        return greet\n",
    "\n",
    "my_new_func = hi('andrew')"
   ]
  },
  {
   "cell_type": "code",
   "execution_count": 23,
   "metadata": {},
   "outputs": [
    {
     "data": {
      "text/plain": [
       "<function __main__.hi.<locals>.welcome()>"
      ]
     },
     "execution_count": 23,
     "metadata": {},
     "output_type": "execute_result"
    }
   ],
   "source": [
    "my_new_func\n",
    "#points to welcome"
   ]
  },
  {
   "cell_type": "code",
   "execution_count": 25,
   "metadata": {},
   "outputs": [
    {
     "name": "stdout",
     "output_type": "stream",
     "text": [
      "\t this is the welcome() function inside hi\n"
     ]
    }
   ],
   "source": [
    "print(my_new_func())"
   ]
  },
  {
   "cell_type": "code",
   "execution_count": 26,
   "metadata": {},
   "outputs": [],
   "source": [
    "#return a function within another function"
   ]
  },
  {
   "cell_type": "code",
   "execution_count": 27,
   "metadata": {},
   "outputs": [],
   "source": [
    "def cool():\n",
    "\n",
    "    def supercool():\n",
    "        return 'lizards'\n",
    "    return supercool\n",
    "\n",
    "some_func = cool()"
   ]
  },
  {
   "cell_type": "code",
   "execution_count": 28,
   "metadata": {},
   "outputs": [
    {
     "data": {
      "text/plain": [
       "'lizards'"
      ]
     },
     "execution_count": 28,
     "metadata": {},
     "output_type": "execute_result"
    }
   ],
   "source": [
    "some_func()"
   ]
  },
  {
   "cell_type": "code",
   "execution_count": 29,
   "metadata": {},
   "outputs": [
    {
     "name": "stdout",
     "output_type": "stream",
     "text": [
      "other code runs here\n",
      "hi jose\n"
     ]
    }
   ],
   "source": [
    "#passing in a function as an argument\n",
    "\n",
    "def hey():\n",
    "    return 'hi jose'\n",
    "\n",
    "def other(some_def_func):\n",
    "    print('other code runs here')\n",
    "    print(some_def_func())\n",
    "\n",
    "other(hey)"
   ]
  },
  {
   "cell_type": "code",
   "execution_count": 33,
   "metadata": {},
   "outputs": [
    {
     "name": "stdout",
     "output_type": "stream",
     "text": [
      "some extra code, before the original function\n",
      "middle line - this needs to be decorated\n",
      "some extra code after the function\n"
     ]
    }
   ],
   "source": [
    "#CREATE A NEW DECORATOR\n",
    "\n",
    "def new_decorator(original_func):\n",
    "\n",
    "    def wrap_func():\n",
    "        print('some extra code, before the original function')\n",
    "        original_func()\n",
    "        print('some extra code after the function')\n",
    "    return wrap_func\n",
    "\n",
    "def func_needs_decorator():\n",
    "    print('middle line - this needs to be decorated')\n",
    "\n",
    "decorated_func = new_decorator(func_needs_decorator)\n",
    "\n",
    "decorated_func()"
   ]
  },
  {
   "cell_type": "code",
   "execution_count": 35,
   "metadata": {},
   "outputs": [
    {
     "name": "stdout",
     "output_type": "stream",
     "text": [
      "some extra code, before the original function\n",
      "middle line - this needs to be decorated\n",
      "some extra code after the function\n"
     ]
    }
   ],
   "source": [
    "#theres a special syntax for this line --> decorated_func = new_decorator(func_needs_decorator)\n",
    "# the @ operator\n",
    "\n",
    "# def new_decorator(original_func):\n",
    "\n",
    "#     def wrap_func():\n",
    "#         print('some extra code, before the original function')\n",
    "#         original_func()\n",
    "#         print('some extra code after the function')\n",
    "#     return wrap_func\n",
    "@new_decorator\n",
    "def func_needs_decorator():\n",
    "    print('middle line - this needs to be decorated')\n",
    "\n",
    "func_needs_decorator()\n"
   ]
  }
 ],
 "metadata": {
  "kernelspec": {
   "display_name": "Python 3.10.5 64-bit (windows store)",
   "language": "python",
   "name": "python3"
  },
  "language_info": {
   "codemirror_mode": {
    "name": "ipython",
    "version": 3
   },
   "file_extension": ".py",
   "mimetype": "text/x-python",
   "name": "python",
   "nbconvert_exporter": "python",
   "pygments_lexer": "ipython3",
   "version": "3.10.5"
  },
  "orig_nbformat": 4,
  "vscode": {
   "interpreter": {
    "hash": "dd239d5c88ed0fbbea2f22807422df04200bb900720e85b0ada3495c01ab65a0"
   }
  }
 },
 "nbformat": 4,
 "nbformat_minor": 2
}
