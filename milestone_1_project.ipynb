{
 "cells": [
  {
   "cell_type": "code",
   "execution_count": 63,
   "metadata": {},
   "outputs": [
    {
     "name": "stdout",
     "output_type": "stream",
     "text": [
      "board layout\n",
      "QWE\n",
      "ASD\n",
      "ZXC\n",
      "[' ', 'O', ' ']\n",
      "[' ', 'X', ' ']\n",
      "[' ', ' ', ' ']\n",
      "player O selected location W\n"
     ]
    }
   ],
   "source": [
    "#Write a function that can print out a board. Set up your board as a list, where each index 1-9 corresponds with a number on a number pad, so you get a 3 by 3 board representation\n",
    "\n",
    "#decided to use a dict\n",
    "\n",
    "#Write a function that can print out a board. Set up your board as a list, where each index 1-9 corresponds with a number on a number pad, so you get a 3 by 3 board representation\n",
    "\n",
    "#decided to use a dict\n",
    "\n",
    "#############\n",
    "#Work in progress\n",
    "\n",
    "from IPython.display import clear_output\n",
    "\n",
    "board = {'Q':' ','W':' ','E':' ','A':' ','S':' ','D':' ','Z':' ','X':' ','C':' '}\n",
    "start_board = {'Q':' ','W':' ','E':' ','A':' ','S':' ','D':' ','Z':' ','X':' ','C':' '}\n",
    "\n",
    "keys = list(board.keys())\n",
    "\n",
    "def display_board(a):\n",
    "\n",
    "            the_values = list(a.values())\n",
    "\n",
    "            ticrow1 = the_values[0:3]\n",
    "            ticrow2 = the_values[3:6]\n",
    "            ticrow3 = the_values[6:9]\n",
    "\n",
    "            clear_output()\n",
    "            print('board layout')\n",
    "            print('QWE')\n",
    "            print('ASD')\n",
    "            print('ZXC')\n",
    "\n",
    "            print(ticrow1)\n",
    "            print(ticrow2)\n",
    "            print(ticrow3)\n",
    "\n",
    "def player_input(a,b,c):\n",
    "\n",
    "            while a != 'X' or a != 'O':\n",
    "                a = input('please enter X or O').upper()\n",
    "                if a == 'X' or a == 'O':\n",
    "                    b = input('please enter a position').upper()\n",
    "                    if b in c:\n",
    "                        if board[b] !=' ':\n",
    "                            print(f'sorry location {b} is already occupied, please enter an empty position')\n",
    "                        if board[b] ==' ':\n",
    "                            board[b] = a\n",
    "                            display_board(board)\n",
    "                            print(f'player {a} selected location {b}')\n",
    "                        new = input('keep playing? Y or N').upper()\n",
    "                        if new != 'Y':\n",
    "                            return\n",
    "                    if b not in c:\n",
    "                        print(f'sorry {b} not valid location, please try again')\n",
    "                            \n",
    "def gameon():\n",
    "\n",
    "    display_board(board)\n",
    "\n",
    "    inps = 'default'\n",
    "    pos = 'default'\n",
    "\n",
    "    player_input(inps,pos,keys)\n",
    "\n",
    "gameon()"
   ]
  }
 ],
 "metadata": {
  "interpreter": {
   "hash": "79607b36fb8dc03ee352315c3f810266520521b71bf1299f5791854579885cc3"
  },
  "kernelspec": {
   "display_name": "Python 3.10.4 64-bit",
   "language": "python",
   "name": "python3"
  },
  "language_info": {
   "codemirror_mode": {
    "name": "ipython",
    "version": 3
   },
   "file_extension": ".py",
   "mimetype": "text/x-python",
   "name": "python",
   "nbconvert_exporter": "python",
   "pygments_lexer": "ipython3",
   "version": "3.10.4"
  },
  "orig_nbformat": 4
 },
 "nbformat": 4,
 "nbformat_minor": 2
}
