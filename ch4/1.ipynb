{
 "cells": [
  {
   "cell_type": "code",
   "execution_count": 6,
   "metadata": {},
   "outputs": [],
   "source": [
    "#ch4"
   ]
  },
  {
   "cell_type": "code",
   "execution_count": 17,
   "metadata": {},
   "outputs": [
    {
     "name": "stdout",
     "output_type": "stream",
     "text": [
      "original string : heLLO worlD\n",
      "lowercase string 6\n",
      "uppercase string 4\n"
     ]
    }
   ],
   "source": [
    "s = 'heLLO worlD'\n",
    "\n",
    "def upperlowercheck(a):\n",
    "    lowercase = 0\n",
    "    uppercase = 0\n",
    "\n",
    "    for _ in s:\n",
    "        if _.isupper():\n",
    "            uppercase += 1\n",
    "        elif _.islower():\n",
    "            lowercase += 1\n",
    "        else:\n",
    "            pass\n",
    "\n",
    "    print(f'original string : {s}')\n",
    "    print(f'lowercase string {lowercase}')\n",
    "    print(f'uppercase string {uppercase}')\n",
    "\n",
    "upperlowercheck(s)"
   ]
  },
  {
   "cell_type": "code",
   "execution_count": 19,
   "metadata": {},
   "outputs": [
    {
     "name": "stdout",
     "output_type": "stream",
     "text": [
      "original string : heLLO worlD\n",
      "lowercase string 6\n",
      "uppercase string 4\n"
     ]
    }
   ],
   "source": [
    "#dictionary method\n",
    "\n",
    "def upperlowercheck(a):\n",
    "    d = {'upper':0,'lower':0}\n",
    "\n",
    "    for _ in s:\n",
    "        if _.isupper():\n",
    "            d['upper'] += 1\n",
    "        elif _.islower():\n",
    "            d['lower'] += 1\n",
    "        else:\n",
    "            pass\n",
    "\n",
    "    print(f'original string : {s}')\n",
    "    print(f\"lowercase string {d['lower']}\")\n",
    "    print(f\"uppercase string {d['upper']}\")\n",
    "\n",
    "upperlowercheck(s)"
   ]
  },
  {
   "cell_type": "code",
   "execution_count": 5,
   "metadata": {},
   "outputs": [
    {
     "data": {
      "text/plain": [
       "5040"
      ]
     },
     "execution_count": 5,
     "metadata": {},
     "output_type": "execute_result"
    }
   ],
   "source": [
    "#function that multiplies everything\n",
    "#in given list\n",
    "\n",
    "def mult(a):\n",
    "    total = 1\n",
    "    for _ in a:\n",
    "        total = total * _\n",
    "    return total\n",
    "\n",
    "mult([1,2,3,4,5,6,7])"
   ]
  },
  {
   "cell_type": "code",
   "execution_count": 10,
   "metadata": {},
   "outputs": [
    {
     "data": {
      "text/plain": [
       "True"
      ]
     },
     "execution_count": 10,
     "metadata": {},
     "output_type": "execute_result"
    }
   ],
   "source": [
    "#function that checks if palindrome\n",
    "\n",
    "def palindrome(name):\n",
    "    name = name.replace(' ','')\n",
    "    #.replace replaces('spaces','nospaces)\n",
    "    return name == name[::-1]\n",
    "\n",
    "palindrome('nurses run')\n",
    "\n"
   ]
  },
  {
   "cell_type": "code",
   "execution_count": 14,
   "metadata": {},
   "outputs": [
    {
     "data": {
      "text/plain": [
       "True"
      ]
     },
     "execution_count": 14,
     "metadata": {},
     "output_type": "execute_result"
    }
   ],
   "source": [
    "#function checks whether a string is a pangram\n",
    "#sentence uses every letter of the alphabet\n",
    "\n",
    "import string\n",
    "\n",
    "def ispangram(str1, alphabet=string.ascii_lowercase):\n",
    "    # create a set of the alphabet\n",
    "    alphaset = set(alphabet)\n",
    "    # remove any spcaes from the input string\n",
    "    str1 = str1.replace(' ','')\n",
    "    # convert into all lowercase\n",
    "    str1 = str1.lower()\n",
    "    # grab all unique letters from the string set()\n",
    "    str1 = set(str1)\n",
    "    #alphabet set == string set input\n",
    "    return str1 == alphaset\n",
    "\n",
    "ispangram('The Quick Brown Fox Jumps Over The Lazy Dog')\n"
   ]
  },
  {
   "cell_type": "code",
   "execution_count": 16,
   "metadata": {},
   "outputs": [],
   "source": [
    "#milestone project goal - tic tac toe\n",
    "\n",
    "#grab user input, manipulate input, return back \n",
    "#adjusted variable\n",
    "\n",
    "#need visual representation of what user sees\n",
    "#user input would be like choose top right\n",
    "#input sent to function\n",
    "#visual appearance updated\n",
    "\n"
   ]
  },
  {
   "cell_type": "code",
   "execution_count": 17,
   "metadata": {},
   "outputs": [
    {
     "name": "stdout",
     "output_type": "stream",
     "text": [
      "[1, 2, 3]\n",
      "[4, 5, 6]\n",
      "[7, 8, 9]\n"
     ]
    }
   ],
   "source": [
    "# displaying information\n",
    "\n",
    "print([1,2,3])\n",
    "print([4,5,6])\n",
    "print([7,8,9])"
   ]
  },
  {
   "cell_type": "code",
   "execution_count": null,
   "metadata": {},
   "outputs": [],
   "source": [
    "#this can be simplified\n",
    "\n",
    "def display(row1,row2,row3):\n",
    "    print(row1)\n",
    "    print(row2)\n",
    "    print(row3)\n"
   ]
  },
  {
   "cell_type": "code",
   "execution_count": 19,
   "metadata": {},
   "outputs": [
    {
     "data": {
      "text/plain": [
       "[1, 2, 3]"
      ]
     },
     "metadata": {},
     "output_type": "display_data"
    },
    {
     "data": {
      "text/plain": [
       "[1, 2, 3]"
      ]
     },
     "metadata": {},
     "output_type": "display_data"
    },
    {
     "data": {
      "text/plain": [
       "[1, 2, 3]"
      ]
     },
     "metadata": {},
     "output_type": "display_data"
    }
   ],
   "source": [
    "example_row = [1,2,3]\n",
    "\n",
    "display(example_row,example_row,example_row)"
   ]
  },
  {
   "cell_type": "code",
   "execution_count": 20,
   "metadata": {},
   "outputs": [
    {
     "data": {
      "text/plain": [
       "['', '', '']"
      ]
     },
     "metadata": {},
     "output_type": "display_data"
    },
    {
     "data": {
      "text/plain": [
       "['', '', '']"
      ]
     },
     "metadata": {},
     "output_type": "display_data"
    },
    {
     "data": {
      "text/plain": [
       "['', '', '']"
      ]
     },
     "metadata": {},
     "output_type": "display_data"
    }
   ],
   "source": [
    "row1 = ['','','']\n",
    "row2 = ['','','']\n",
    "row3 = ['','','']\n",
    "\n",
    "display(row1,row2,row3)"
   ]
  },
  {
   "cell_type": "code",
   "execution_count": 21,
   "metadata": {},
   "outputs": [
    {
     "data": {
      "text/plain": [
       "['', '', '']"
      ]
     },
     "metadata": {},
     "output_type": "display_data"
    },
    {
     "data": {
      "text/plain": [
       "['', 'X', '']"
      ]
     },
     "metadata": {},
     "output_type": "display_data"
    },
    {
     "data": {
      "text/plain": [
       "['', '', '']"
      ]
     },
     "metadata": {},
     "output_type": "display_data"
    }
   ],
   "source": [
    "row2[1] = 'X'\n",
    "display(row1,row2,row3)"
   ]
  },
  {
   "cell_type": "code",
   "execution_count": 22,
   "metadata": {},
   "outputs": [],
   "source": [
    "#accepting user input"
   ]
  },
  {
   "cell_type": "code",
   "execution_count": 24,
   "metadata": {},
   "outputs": [
    {
     "data": {
      "text/plain": [
       "'1'"
      ]
     },
     "execution_count": 24,
     "metadata": {},
     "output_type": "execute_result"
    }
   ],
   "source": [
    "input('Enter a value: ')"
   ]
  },
  {
   "cell_type": "code",
   "execution_count": 26,
   "metadata": {},
   "outputs": [
    {
     "data": {
      "text/plain": [
       "'2'"
      ]
     },
     "execution_count": 26,
     "metadata": {},
     "output_type": "execute_result"
    }
   ],
   "source": [
    "result = input('Enter a value: ')\n",
    "result"
   ]
  },
  {
   "cell_type": "code",
   "execution_count": 33,
   "metadata": {},
   "outputs": [
    {
     "data": {
      "text/plain": [
       "1"
      ]
     },
     "execution_count": 33,
     "metadata": {},
     "output_type": "execute_result"
    }
   ],
   "source": [
    "result = input('Enter a value: ')\n",
    "resultint = int(result)\n",
    "resultint\n",
    "\n",
    "\n"
   ]
  }
 ],
 "metadata": {
  "interpreter": {
   "hash": "79607b36fb8dc03ee352315c3f810266520521b71bf1299f5791854579885cc3"
  },
  "kernelspec": {
   "display_name": "Python 3.10.4 64-bit",
   "language": "python",
   "name": "python3"
  },
  "language_info": {
   "codemirror_mode": {
    "name": "ipython",
    "version": 3
   },
   "file_extension": ".py",
   "mimetype": "text/x-python",
   "name": "python",
   "nbconvert_exporter": "python",
   "pygments_lexer": "ipython3",
   "version": "3.10.4"
  },
  "orig_nbformat": 4
 },
 "nbformat": 4,
 "nbformat_minor": 2
}
