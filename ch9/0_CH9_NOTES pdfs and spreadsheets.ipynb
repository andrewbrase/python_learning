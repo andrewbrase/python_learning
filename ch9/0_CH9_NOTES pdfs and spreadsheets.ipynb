{
 "cells": [
  {
   "cell_type": "code",
   "execution_count": null,
   "metadata": {},
   "outputs": [],
   "source": [
    "#ch9"
   ]
  },
  {
   "cell_type": "code",
   "execution_count": null,
   "metadata": {},
   "outputs": [],
   "source": [
    "#working with CSV files in python\n",
    "#CSV -comma seperated variables - common output for spreadsheet programs\n",
    "\n",
    "# Name,Hours,Rate\n",
    "# David,20,15\n",
    "# Claire,40,20\n",
    "\n",
    "# It is possible to export excel files and Google Spreadsheets to .csv files, it only exports the information\n",
    "# Things like formulas, images, and macros can not be within a .csv file\n",
    "# a .csv file contains only raw data from the spreadsheet\n",
    "\n",
    "# look into Pandas\n",
    "# look into Openpyxl for excel files\n",
    "# look into Google sheets Python API"
   ]
  },
  {
   "cell_type": "code",
   "execution_count": 9,
   "metadata": {},
   "outputs": [],
   "source": [
    "### common coding error\n",
    "\n",
    "import csv\n",
    "\n",
    "# open the file\n",
    "\n",
    "# if not local\n",
    "# data = open('C:\\\\Users\\\\brasea\\\\filepath\\\\example.csv')\n",
    "\n",
    "# common error UnicodeDecodeError - can't read the special characters - missing the @ - used in emails\n",
    "# pecial characters wil cause error\n",
    "# that's why using encoding='utf-8'\n",
    "data = open('example.csv',encoding='utf-8')\n",
    "\n",
    "# csv.reader\n",
    "csv_data = csv.reader(data)\n",
    "\n",
    "#reformat it into a python object list of lists\n",
    "\n",
    "data_lines = list(csv_data)\n",
    "# data_lines"
   ]
  },
  {
   "cell_type": "code",
   "execution_count": 10,
   "metadata": {},
   "outputs": [
    {
     "data": {
      "text/plain": [
       "['id', 'first_name', 'last_name', 'email', 'gender', 'ip_address', 'city']"
      ]
     },
     "execution_count": 10,
     "metadata": {},
     "output_type": "execute_result"
    }
   ],
   "source": [
    "#column names \n",
    "# [['id', 'first_name', 'last_name', 'email', 'gender', 'ip_address', 'city']\n",
    "\n",
    "#data row\n",
    "#['1',\n",
    "#   'Joseph',\n",
    "#   'Zaniolini',\n",
    "#   'jzaniolini0@simplemachines.org',\n",
    "#   'Male',\n",
    "#   '163.168.68.132',\n",
    "#   'Pedro Leopoldo']\n",
    "\n",
    "data_lines[0]"
   ]
  },
  {
   "cell_type": "code",
   "execution_count": 13,
   "metadata": {},
   "outputs": [
    {
     "data": {
      "text/plain": [
       "1001"
      ]
     },
     "execution_count": 13,
     "metadata": {},
     "output_type": "execute_result"
    }
   ],
   "source": [
    "len(data_lines)\n",
    "#length of data_lines is 1001"
   ]
  },
  {
   "cell_type": "code",
   "execution_count": 12,
   "metadata": {},
   "outputs": [
    {
     "name": "stdout",
     "output_type": "stream",
     "text": [
      "['id', 'first_name', 'last_name', 'email', 'gender', 'ip_address', 'city']\n",
      "['1', 'Joseph', 'Zaniolini', 'jzaniolini0@simplemachines.org', 'Male', '163.168.68.132', 'Pedro Leopoldo']\n",
      "['2', 'Freida', 'Drillingcourt', 'fdrillingcourt1@umich.edu', 'Female', '97.212.102.79', 'Buri']\n",
      "['3', 'Nanni', 'Herity', 'nherity2@statcounter.com', 'Female', '145.151.178.98', 'Claver']\n",
      "['4', 'Orazio', 'Frayling', 'ofrayling3@economist.com', 'Male', '25.199.143.143', 'Kungur']\n"
     ]
    }
   ],
   "source": [
    "for line in data_lines[:5]:\n",
    "    print(line)"
   ]
  },
  {
   "cell_type": "code",
   "execution_count": 15,
   "metadata": {},
   "outputs": [
    {
     "data": {
      "text/plain": [
       "['10',\n",
       " 'Hyatt',\n",
       " 'Gasquoine',\n",
       " 'hgasquoine9@google.ru',\n",
       " 'Male',\n",
       " '221.155.106.39',\n",
       " 'Złoty Stok']"
      ]
     },
     "execution_count": 15,
     "metadata": {},
     "output_type": "execute_result"
    }
   ],
   "source": [
    "data_lines[10]"
   ]
  },
  {
   "cell_type": "code",
   "execution_count": 16,
   "metadata": {},
   "outputs": [
    {
     "data": {
      "text/plain": [
       "'hgasquoine9@google.ru'"
      ]
     },
     "execution_count": 16,
     "metadata": {},
     "output_type": "execute_result"
    }
   ],
   "source": [
    "data_lines[10][3]"
   ]
  },
  {
   "cell_type": "code",
   "execution_count": 18,
   "metadata": {},
   "outputs": [
    {
     "data": {
      "text/plain": [
       "['jzaniolini0@simplemachines.org',\n",
       " 'fdrillingcourt1@umich.edu',\n",
       " 'nherity2@statcounter.com',\n",
       " 'ofrayling3@economist.com',\n",
       " 'jmurrison4@cbslocal.com',\n",
       " 'lgamet5@list-manage.com',\n",
       " 'dhowatt6@amazon.com',\n",
       " 'kherion7@amazon.com',\n",
       " 'chedworth8@china.com.cn',\n",
       " 'hgasquoine9@google.ru',\n",
       " 'ftarra@shareasale.com',\n",
       " 'abathb@umn.edu',\n",
       " 'lchastangc@goo.gl',\n",
       " 'cceried@yale.edu']"
      ]
     },
     "execution_count": 18,
     "metadata": {},
     "output_type": "execute_result"
    }
   ],
   "source": [
    "#how to find all emails in every row\n",
    "all_emails = []\n",
    "for line in data_lines[1:15]:\n",
    "    all_emails.append(line[3])\n",
    "\n",
    "all_emails\n"
   ]
  },
  {
   "cell_type": "code",
   "execution_count": 19,
   "metadata": {},
   "outputs": [
    {
     "data": {
      "text/plain": [
       "['10',\n",
       " 'Hyatt',\n",
       " 'Gasquoine',\n",
       " 'hgasquoine9@google.ru',\n",
       " 'Male',\n",
       " '221.155.106.39',\n",
       " 'Złoty Stok']"
      ]
     },
     "execution_count": 19,
     "metadata": {},
     "output_type": "execute_result"
    }
   ],
   "source": [
    "data_lines[10]"
   ]
  },
  {
   "cell_type": "code",
   "execution_count": 21,
   "metadata": {},
   "outputs": [
    {
     "data": {
      "text/plain": [
       "['Joseph Zaniolini',\n",
       " 'Freida Drillingcourt',\n",
       " 'Nanni Herity',\n",
       " 'Orazio Frayling',\n",
       " 'Julianne Murrison',\n",
       " 'Lucy Gamet',\n",
       " 'Dyana Howatt',\n",
       " 'Kassey Herion',\n",
       " 'Chrissy Hedworth',\n",
       " 'Hyatt Gasquoine',\n",
       " 'Felicdad Tarr',\n",
       " 'Andrew Bath',\n",
       " 'Lucais Chastang',\n",
       " 'Car Cerie']"
      ]
     },
     "execution_count": 21,
     "metadata": {},
     "output_type": "execute_result"
    }
   ],
   "source": [
    "#if wanted a list of full name not just first or last\n",
    "\n",
    "full_names = []\n",
    "for line in data_lines[1:15]:\n",
    "    full_names.append(line[1]+' '+line[2])\n",
    "\n",
    "full_names"
   ]
  },
  {
   "cell_type": "code",
   "execution_count": 22,
   "metadata": {},
   "outputs": [],
   "source": [
    "file_to_output = open('to_save_file.csv',mode='w',newline='')\n",
    "                                    #delimiter seperates columns\n",
    "csv_writer = csv.writer(file_to_output,delimiter=',')"
   ]
  },
  {
   "cell_type": "code",
   "execution_count": 23,
   "metadata": {},
   "outputs": [
    {
     "data": {
      "text/plain": [
       "7"
      ]
     },
     "execution_count": 23,
     "metadata": {},
     "output_type": "execute_result"
    }
   ],
   "source": [
    "csv_writer.writerow(['a','b','c'])"
   ]
  },
  {
   "cell_type": "code",
   "execution_count": 24,
   "metadata": {},
   "outputs": [],
   "source": [
    "csv_writer.writerows([['1','2','3'],['4','5','6']])"
   ]
  },
  {
   "cell_type": "code",
   "execution_count": 25,
   "metadata": {},
   "outputs": [],
   "source": [
    "file_to_output.close()"
   ]
  },
  {
   "cell_type": "code",
   "execution_count": 26,
   "metadata": {},
   "outputs": [
    {
     "data": {
      "text/plain": [
       "7"
      ]
     },
     "execution_count": 26,
     "metadata": {},
     "output_type": "execute_result"
    }
   ],
   "source": [
    "                            #a is for append, then specify that the new line will be an empty string (newline = '')\n",
    "f = open('to_save_file.csv',mode='a',newline='')\n",
    "csv_writer = csv.writer(f)\n",
    "csv_writer.writerow(['1','2','3'])"
   ]
  },
  {
   "cell_type": "code",
   "execution_count": 27,
   "metadata": {},
   "outputs": [],
   "source": [
    "f.close()"
   ]
  },
  {
   "cell_type": "code",
   "execution_count": 2,
   "metadata": {},
   "outputs": [],
   "source": [
    "# import csv\n",
    "\n",
    "###open file\n",
    "# data = open('example.csv',encoding='utf-8')\n",
    "\n",
    "###use imported csv.reader() to read opened file\n",
    "# csv_data = csv.reader(data)\n",
    "\n",
    "###reformat into a python object (ex. list)\n",
    "# data_lines = list(csv_data)\n",
    "\n",
    "###empty list to append to later\n",
    "# full_names = []\n",
    "\n",
    "#for every item(up to 15) in list of data read with .reader, append onto empty list firstname + ' ' + lastname to create a list of full names\n",
    "# for line in data_lines[1:15]:\n",
    "#     full_names.append(line[1]+' '+line[2])\n",
    "\n",
    "# full_names\n"
   ]
  },
  {
   "cell_type": "code",
   "execution_count": 6,
   "metadata": {},
   "outputs": [
    {
     "data": {
      "text/plain": [
       "5"
      ]
     },
     "execution_count": 6,
     "metadata": {},
     "output_type": "execute_result"
    }
   ],
   "source": [
    "# working with pdf files with python\n",
    "\n",
    "# pip install PyPDF2\n",
    "\n",
    "import PyPDF2\n",
    "                                        #read binary 'rb'\n",
    "f = open('Working_Business_Proposal.pdf','rb')\n",
    "pdf_reader = PyPDF2.PdfFileReader(f)\n",
    "\n",
    "pdf_reader.numPages"
   ]
  },
  {
   "cell_type": "code",
   "execution_count": 7,
   "metadata": {},
   "outputs": [],
   "source": [
    "page_one = pdf_reader.getPage(0)"
   ]
  },
  {
   "cell_type": "code",
   "execution_count": 8,
   "metadata": {},
   "outputs": [],
   "source": [
    "page_one_text = page_one.extractText()"
   ]
  },
  {
   "cell_type": "code",
   "execution_count": 9,
   "metadata": {},
   "outputs": [
    {
     "data": {
      "text/plain": [
       "'Business Proposal     The Revolution is Coming     Leverage  agile   frameworks   to   pr  ovide   a   r  obust   synopsis   for   high   level   overviews. Iterative  appr  oaches   to   corporate   strategy   foster   collaborative   thinking  to   fur  ther   the   overall   value   pr  oposition.   Organically   gr  ow   the   holistic  world   view   of   disruptive   innovation   via   workplace   diversity   and   empowerment. Bring  t  o   t  h  e   t  a  b  l  e   w  i  n  -  w  i  n   s  u  r  v  i  v  a  l   s  t  r  a  t  e  g  i  e  s   t  o   e  n  s  u  r  e   p  r  o  a  c  t  i  v  e   domination. At  the   end   of   the   day  ,   going   forwar  d,   a   new   nor  mal   that   has   evolved from generation X is on the runway heading towards a streamlined cloud  solution.   User   generated   content   in   r  eal-time   will   have   multiple   touchpoints for offshoring. Capitalize on low hanging fruit to identify a ballpark  value   added   activity   to   beta  test.   Override   the   digital   divide   with   additional   clickthr  oughs   fr  om   DevOps.  Nanotechnology   immersion   along   the   infor  mation   highway   will   close the loop on focusing solely on the bottom line. Podcasting  operational   change   management   inside   of   workﬂows   to   establish a framework. Taking seamless key performance indicators  of  ﬂine   to maximise the  long   tail.   Keeping   your   eye   on   the   ball   while   per  for  ming   a   deep  dive   on   the   star  t-up   mentality   to   derive   convergence   on   cr  oss-  platform integration. Collabor a  t  i  v  e  l  y   a  d  m  i  n  i  s  t  r  a  t  e   e  m  p  o  w  e  re  d   m  a  r  k  e  t  s   v  i  a   p  l  u  g  -  a  n  d  -  p  l  a  y   networks.  D  y  n  a  m  i  c  a  l  l  y   p  r  o  c  r  a  s  t  i  n  a  t  e   B  2  C   u  s  e  r  s   a  f  t  e  r   i  n  s  t  a  l  l  e  d   b  a  s  e   beneﬁts.  Dramatically   visualize   customer   dir  ected   convergence   without   revolutionary ROI. Efﬁciently  unleash   cr  oss-media   infor  mation   without   cr  oss-media   value.   Quickly maximize  timely   deliverables   for   r  eal-time   schemas.   Dramatically   maintain clicks-and-mortar solutions without functional solutions. BUSINESS PROPOSAL !   1'"
      ]
     },
     "execution_count": 9,
     "metadata": {},
     "output_type": "execute_result"
    }
   ],
   "source": [
    "page_one_text"
   ]
  },
  {
   "cell_type": "code",
   "execution_count": null,
   "metadata": {},
   "outputs": [],
   "source": [
    "# import PyPDF2\n",
    "                                        #read binary 'rb'\n",
    "# f = open('Working_Business_Proposal.pdf','rb')\n",
    "# pdf_reader = PyPDF2.PdfFileReader(f)\n",
    "# page_one = pdf_reader.getPage(0)\n",
    "# page_one_text = page_one.extractText()\n",
    "# page_one_text\n",
    "# f.close()\n",
    "\n",
    "# pdf_reader.numPages - how many pages in this pdf"
   ]
  },
  {
   "cell_type": "code",
   "execution_count": 11,
   "metadata": {},
   "outputs": [],
   "source": [
    "f.close()"
   ]
  },
  {
   "cell_type": "code",
   "execution_count": 12,
   "metadata": {},
   "outputs": [],
   "source": [
    "f = open('Working_Business_Proposal.pdf','rb')\n",
    "pdf_reader = PyPDF2.PdfFileReader(f)\n",
    "first_page = pdf_reader.getPage(0)\n",
    "\n",
    "pdf_writer = PyPDF2.PdfFileWriter()\n",
    "pdf_writer.addPage(first_page)\n",
    "\n",
    "pdf_output = open('Some_BrandNew_Doc.pdf','wb')\n",
    "pdf_writer.write(pdf_output)\n",
    "\n",
    "f.close()\n",
    "pdf_output.close()"
   ]
  },
  {
   "cell_type": "code",
   "execution_count": null,
   "metadata": {},
   "outputs": [],
   "source": [
    "# introduction to emails with Python"
   ]
  },
  {
   "cell_type": "code",
   "execution_count": null,
   "metadata": {},
   "outputs": [],
   "source": [
    "# each major email provider has their own SMTP server\n",
    "\n",
    "# Provider    SMTP server domain name\n",
    "\n",
    "# Gmail       smtp.gmail.com\n",
    "# Yahoo Mail  smtp.mail.yahoo.com\n",
    "# Outlook     smtp-mail.outlook.com\n",
    "# AT&T        smtp.mail.att.net (use port 465)\n",
    "# Verizon     smtp.verizon.net (use port 465)\n",
    "# Comcast     smtp.comcast.net\n",
    "\n",
    "#generate an app password to protect personal password\n",
    "\n"
   ]
  },
  {
   "cell_type": "code",
   "execution_count": 1,
   "metadata": {},
   "outputs": [
    {
     "data": {
      "text/plain": [
       "(250,\n",
       " b'smtp.gmail.com at your service, [107.182.89.94]\\nSIZE 35882577\\n8BITMIME\\nSTARTTLS\\nENHANCEDSTATUSCODES\\nPIPELINING\\nCHUNKING\\nSMTPUTF8')"
      ]
     },
     "execution_count": 1,
     "metadata": {},
     "output_type": "execute_result"
    }
   ],
   "source": [
    "import smtplib\n",
    "\n",
    "#create an smtp object for a server\n",
    "smtp_object = smtplib.SMTP('smtp.gmail.com',587)\n",
    "smtp_object.ehlo()"
   ]
  },
  {
   "cell_type": "code",
   "execution_count": 2,
   "metadata": {},
   "outputs": [
    {
     "data": {
      "text/plain": [
       "(220, b'2.0.0 Ready to start TLS')"
      ]
     },
     "execution_count": 2,
     "metadata": {},
     "output_type": "execute_result"
    }
   ],
   "source": [
    "smtp_object.starttls()\n",
    "#encrypts traffic"
   ]
  },
  {
   "cell_type": "code",
   "execution_count": 3,
   "metadata": {},
   "outputs": [],
   "source": [
    "import getpass\n",
    "#secure way to type in password to hide info\n",
    "\n",
    "password = getpass.getpass('Password please: ')"
   ]
  },
  {
   "cell_type": "code",
   "execution_count": 7,
   "metadata": {},
   "outputs": [
    {
     "data": {
      "text/plain": [
       "{}"
      ]
     },
     "execution_count": 7,
     "metadata": {},
     "output_type": "execute_result"
    }
   ],
   "source": [
    "# email\n",
    "# app pass\n",
    "\n",
    "import smtplib\n",
    "\n",
    "#create an smtp object for a server\n",
    "smtp_object = smtplib.SMTP('smtp.gmail.com',587)\n",
    "smtp_object.ehlo()\n",
    "\n",
    "smtp_object.starttls()\n",
    "\n",
    "email = getpass.getpass(\"email: \")\n",
    "password = getpass.getpass(\"password: \")\n",
    "smtp_object.login(email,password)\n",
    "\n",
    "from_address = email\n",
    "to_address = email\n",
    "subject = input('enter the subject line: ')\n",
    "message = input('enter the body message: ')\n",
    "msg = 'Subject: '+subject+'\\n'+message\n",
    "\n",
    "smtp_object.sendmail(from_address,to_address,msg)"
   ]
  }
 ],
 "metadata": {
  "kernelspec": {
   "display_name": "Python 3.10.5 64-bit (windows store)",
   "language": "python",
   "name": "python3"
  },
  "language_info": {
   "codemirror_mode": {
    "name": "ipython",
    "version": 3
   },
   "file_extension": ".py",
   "mimetype": "text/x-python",
   "name": "python",
   "nbconvert_exporter": "python",
   "pygments_lexer": "ipython3",
   "version": "3.10.5"
  },
  "orig_nbformat": 4,
  "vscode": {
   "interpreter": {
    "hash": "dd239d5c88ed0fbbea2f22807422df04200bb900720e85b0ada3495c01ab65a0"
   }
  }
 },
 "nbformat": 4,
 "nbformat_minor": 2
}
