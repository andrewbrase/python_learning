{
 "cells": [
  {
   "cell_type": "code",
   "execution_count": null,
   "metadata": {},
   "outputs": [],
   "source": [
    "# <!DOCTYPE html>\n",
    "#     <html>\n",
    "#         <head>\n",
    "#         <link rel= \"stylesheet\" href=\"styles.css\">\n",
    "#         <title> Some Title </title>\n",
    "#         </head>\n",
    "#         <body>\n",
    "                #id call inside css file - style choices\n",
    "#             <p id='para2'> Some Text </p>\n",
    "#         </body>\n",
    "#     </html>\n",
    "\n",
    "# ex of style in style.css file:\n",
    "\n",
    "#para2 {\n",
    "#   color: red;\n",
    "# }\n",
    "\n",
    "#instead of <p id='para2'>\n",
    "#it could have been a class\n",
    "\n",
    "# <p class='newclass'> Some Text </p>\n",
    "\n",
    "#class in css file\n",
    "# .newclass {\n",
    "#   color:red;\n",
    "#   font-family: verdana;\n",
    "# }\n",
    "\n",
    "###\n",
    "#could look like this\n",
    "\n",
    "# p{\n",
    "#     color: red;\n",
    "#     font-family: courier;\n",
    "#     font-size: 160%;\n",
    "# }\n",
    "# .someclass{\n",
    "#     color: green;\n",
    "#     font-family: verdana;\n",
    "#     font-size: 300%;\n",
    "# }\n",
    "# #someid{\n",
    "# #   color: blue;\n",
    "# # }"
   ]
  },
  {
   "cell_type": "code",
   "execution_count": null,
   "metadata": {},
   "outputs": [],
   "source": [
    "# pip install requests --allows requests to website\n",
    "# pip install lxml --used by beautiful soup to decipher whats inside returned requests\n",
    "# pip install bs4 --beautiful soup 4"
   ]
  },
  {
   "cell_type": "code",
   "execution_count": 3,
   "metadata": {},
   "outputs": [
    {
     "data": {
      "text/plain": [
       "requests.models.Response"
      ]
     },
     "execution_count": 3,
     "metadata": {},
     "output_type": "execute_result"
    }
   ],
   "source": [
    "#grabbing a page title\n",
    "\n",
    "import requests\n",
    "import bs4\n",
    "\n",
    "result = requests.get(\"http://example.com\")\n",
    "\n",
    "type(result)"
   ]
  },
  {
   "cell_type": "code",
   "execution_count": 4,
   "metadata": {},
   "outputs": [
    {
     "data": {
      "text/plain": [
       "'<!doctype html>\\n<html>\\n<head>\\n    <title>Example Domain</title>\\n\\n    <meta charset=\"utf-8\" />\\n    <meta http-equiv=\"Content-type\" content=\"text/html; charset=utf-8\" />\\n    <meta name=\"viewport\" content=\"width=device-width, initial-scale=1\" />\\n    <style type=\"text/css\">\\n    body {\\n        background-color: #f0f0f2;\\n        margin: 0;\\n        padding: 0;\\n        font-family: -apple-system, system-ui, BlinkMacSystemFont, \"Segoe UI\", \"Open Sans\", \"Helvetica Neue\", Helvetica, Arial, sans-serif;\\n        \\n    }\\n    div {\\n        width: 600px;\\n        margin: 5em auto;\\n        padding: 2em;\\n        background-color: #fdfdff;\\n        border-radius: 0.5em;\\n        box-shadow: 2px 3px 7px 2px rgba(0,0,0,0.02);\\n    }\\n    a:link, a:visited {\\n        color: #38488f;\\n        text-decoration: none;\\n    }\\n    @media (max-width: 700px) {\\n        div {\\n            margin: 0 auto;\\n            width: auto;\\n        }\\n    }\\n    </style>    \\n</head>\\n\\n<body>\\n<div>\\n    <h1>Example Domain</h1>\\n    <p>This domain is for use in illustrative examples in documents. You may use this\\n    domain in literature without prior coordination or asking for permission.</p>\\n    <p><a href=\"https://www.iana.org/domains/example\">More information...</a></p>\\n</div>\\n</body>\\n</html>\\n'"
      ]
     },
     "execution_count": 4,
     "metadata": {},
     "output_type": "execute_result"
    }
   ],
   "source": [
    "result.text\n",
    "\n",
    "#html stored as a python string"
   ]
  },
  {
   "cell_type": "code",
   "execution_count": null,
   "metadata": {},
   "outputs": [],
   "source": [
    "#bs4 can parse through this string allows grabbing of information through id's, class calls, html tags"
   ]
  },
  {
   "cell_type": "code",
   "execution_count": 6,
   "metadata": {},
   "outputs": [
    {
     "data": {
      "text/plain": [
       "<!DOCTYPE html>\n",
       "<html>\n",
       "<head>\n",
       "<title>Example Domain</title>\n",
       "<meta charset=\"utf-8\"/>\n",
       "<meta content=\"text/html; charset=utf-8\" http-equiv=\"Content-type\"/>\n",
       "<meta content=\"width=device-width, initial-scale=1\" name=\"viewport\"/>\n",
       "<style type=\"text/css\">\n",
       "    body {\n",
       "        background-color: #f0f0f2;\n",
       "        margin: 0;\n",
       "        padding: 0;\n",
       "        font-family: -apple-system, system-ui, BlinkMacSystemFont, \"Segoe UI\", \"Open Sans\", \"Helvetica Neue\", Helvetica, Arial, sans-serif;\n",
       "        \n",
       "    }\n",
       "    div {\n",
       "        width: 600px;\n",
       "        margin: 5em auto;\n",
       "        padding: 2em;\n",
       "        background-color: #fdfdff;\n",
       "        border-radius: 0.5em;\n",
       "        box-shadow: 2px 3px 7px 2px rgba(0,0,0,0.02);\n",
       "    }\n",
       "    a:link, a:visited {\n",
       "        color: #38488f;\n",
       "        text-decoration: none;\n",
       "    }\n",
       "    @media (max-width: 700px) {\n",
       "        div {\n",
       "            margin: 0 auto;\n",
       "            width: auto;\n",
       "        }\n",
       "    }\n",
       "    </style>\n",
       "</head>\n",
       "<body>\n",
       "<div>\n",
       "<h1>Example Domain</h1>\n",
       "<p>This domain is for use in illustrative examples in documents. You may use this\n",
       "    domain in literature without prior coordination or asking for permission.</p>\n",
       "<p><a href=\"https://www.iana.org/domains/example\">More information...</a></p>\n",
       "</div>\n",
       "</body>\n",
       "</html>"
      ]
     },
     "execution_count": 6,
     "metadata": {},
     "output_type": "execute_result"
    }
   ],
   "source": [
    "import bs4\n",
    "\n",
    "soup = bs4.BeautifulSoup(result.text,\"lxml\")\n",
    "\n",
    "soup"
   ]
  },
  {
   "cell_type": "code",
   "execution_count": 10,
   "metadata": {},
   "outputs": [
    {
     "data": {
      "text/plain": [
       "[<title>Example Domain</title>]"
      ]
     },
     "execution_count": 10,
     "metadata": {},
     "output_type": "execute_result"
    }
   ],
   "source": [
    "#how to grab things from html doc\n",
    "\n",
    "soup.select('title')\n",
    "\n",
    "#returns in list form"
   ]
  },
  {
   "cell_type": "code",
   "execution_count": 11,
   "metadata": {},
   "outputs": [
    {
     "data": {
      "text/plain": [
       "[<p>This domain is for use in illustrative examples in documents. You may use this\n",
       "     domain in literature without prior coordination or asking for permission.</p>,\n",
       " <p><a href=\"https://www.iana.org/domains/example\">More information...</a></p>]"
      ]
     },
     "execution_count": 11,
     "metadata": {},
     "output_type": "execute_result"
    }
   ],
   "source": [
    "soup.select('p')"
   ]
  },
  {
   "cell_type": "code",
   "execution_count": 13,
   "metadata": {},
   "outputs": [
    {
     "data": {
      "text/plain": [
       "'Example Domain'"
      ]
     },
     "execution_count": 13,
     "metadata": {},
     "output_type": "execute_result"
    }
   ],
   "source": [
    "#how to grab just tect not tags\n",
    "\n",
    "                    #[0] index first item from list\n",
    "soup.select('title')[0].getText()\n",
    "                    #.get text() returns just text, no headers"
   ]
  },
  {
   "cell_type": "code",
   "execution_count": 14,
   "metadata": {},
   "outputs": [
    {
     "data": {
      "text/plain": [
       "'This domain is for use in illustrative examples in documents. You may use this\\n    domain in literature without prior coordination or asking for permission.'"
      ]
     },
     "execution_count": 14,
     "metadata": {},
     "output_type": "execute_result"
    }
   ],
   "source": [
    "site_paragraphs = soup.select(\"p\")\n",
    "site_paragraphs[0].getText()"
   ]
  },
  {
   "cell_type": "code",
   "execution_count": null,
   "metadata": {},
   "outputs": [],
   "source": [
    "#everything so far\n",
    "\n",
    "#grabbing a page title\n",
    "\n",
    "# import requests\n",
    "# import bs4\n",
    "\n",
    "# result = requests.get(\"http://example.com\")\n",
    "# result.text\n",
    "#html stored as a python string\n",
    "#####\n",
    "\n",
    "# soup = bs4.BeautifulSoup(result.text,\"lxml\")\n",
    "# soup\n",
    "#bs4 can parse through this string allows grabbing of information through id's, class calls, html tags\n",
    "\n",
    "#soup creates object - select off of object\n",
    "\n",
    "#how to grab things from html doc\n",
    "# soup.select('title')\n",
    "#returns in list form\n",
    "# soup.select('p')\n",
    "\n",
    "#how to grab just tect not tags\n",
    "\n",
    "                     #[0] index first item from list\n",
    "# soup.select('title')[0].getText()\n",
    "                    #.get text() returns just text, no headers\n",
    "\n",
    "\n",
    "# site_paragraphs = soup.select(\"p\")\n",
    "# site_paragraphs[0].getText()"
   ]
  },
  {
   "cell_type": "code",
   "execution_count": null,
   "metadata": {},
   "outputs": [],
   "source": [
    "# grabbing all elements of a class\n",
    "\n",
    "# Syntax                          Match Results\n",
    "\n",
    "# soup.select('div')              All elements with 'div' tag\n",
    "# soup.select(' #some_id')        elements containing id= 'some_id'\n",
    "# soup.select(' .some_class')     elements containing class= 'some_class'\n",
    "# soup.select('div span')         any elements named span within a div element\n",
    "# soup.select('div > span')       any elements named span directly within a div element, with nothing in between"
   ]
  },
  {
   "cell_type": "code",
   "execution_count": 10,
   "metadata": {},
   "outputs": [
    {
     "name": "stdout",
     "output_type": "stream",
     "text": [
      "1 Early life\n",
      "2 Career\n",
      "\n",
      "2.1 Early career\n",
      "2.2 Career peak\n",
      "2.3 Political activism\n",
      "2.4 Later years and humanitarian work\n",
      "\n",
      "\n",
      "3 Personal life\n",
      "4 Death\n",
      "5 Legacy\n",
      "6 Related artists\n",
      "7 Awards and recognition\n",
      "\n",
      "7.1 Other recognition\n",
      "\n",
      "\n",
      "8 Discography\n",
      "9 Filmography\n",
      "10 Selected writings\n",
      "11 References\n",
      "12 Sources\n",
      "13 External links\n"
     ]
    }
   ],
   "source": [
    "#want to grab srings in table of contents\n",
    "\n",
    "import requests\n",
    "import bs4\n",
    "\n",
    "res = requests.get('https://en.wikipedia.org/wiki/John_Denver')\n",
    "soup = bs4.BeautifulSoup(res.text,'lxml')\n",
    "# first_item = soup.select('.toclevel-1')[0]\n",
    "# first_item.text\n",
    "\n",
    "for item in soup.select('.toclevel-1'):\n",
    "    print(item.text)"
   ]
  },
  {
   "cell_type": "code",
   "execution_count": 63,
   "metadata": {},
   "outputs": [
    {
     "data": {
      "text/plain": [
       "<img alt=\"Page semi-protected\" data-file-height=\"512\" data-file-width=\"512\" decoding=\"async\" height=\"20\" src=\"//upload.wikimedia.org/wikipedia/en/thumb/1/1b/Semi-protection-shackle.svg/20px-Semi-protection-shackle.svg.png\" srcset=\"//upload.wikimedia.org/wikipedia/en/thumb/1/1b/Semi-protection-shackle.svg/30px-Semi-protection-shackle.svg.png 1.5x, //upload.wikimedia.org/wikipedia/en/thumb/1/1b/Semi-protection-shackle.svg/40px-Semi-protection-shackle.svg.png 2x\" width=\"20\"/>"
      ]
     },
     "execution_count": 63,
     "metadata": {},
     "output_type": "execute_result"
    }
   ],
   "source": [
    "#grabbing an image\n",
    "\n",
    "#can grab images either individually or all that are used\n",
    "newres = requests.get(\"https://en.wikipedia.org/wiki/Elton_John\")\n",
    "newsoup = bs4.BeautifulSoup(newres.text,'lxml')\n",
    "newsoup.select('img')[0]\n",
    "\n",
    "# look for : src= \"//upload.wikimedia.org/wikipedia/en/thumb/1/1b/Semi-protection-shackle.svg/20px-Semi-protection-shackle.svg.png\"\n",
    "# image source URL"
   ]
  },
  {
   "cell_type": "code",
   "execution_count": 67,
   "metadata": {},
   "outputs": [
    {
     "data": {
      "text/plain": [
       "<a class=\"image\" href=\"/wiki/File:Elton_John_2011_Shankbone_2_(cropped).JPG\"><img alt=\"Elton John 2011 Shankbone 2 (cropped).JPG\" data-file-height=\"2254\" data-file-width=\"1745\" decoding=\"async\" height=\"284\" src=\"//upload.wikimedia.org/wikipedia/commons/thumb/8/80/Elton_John_2011_Shankbone_2_%28cropped%29.JPG/220px-Elton_John_2011_Shankbone_2_%28cropped%29.JPG\" srcset=\"//upload.wikimedia.org/wikipedia/commons/thumb/8/80/Elton_John_2011_Shankbone_2_%28cropped%29.JPG/330px-Elton_John_2011_Shankbone_2_%28cropped%29.JPG 1.5x, //upload.wikimedia.org/wikipedia/commons/thumb/8/80/Elton_John_2011_Shankbone_2_%28cropped%29.JPG/440px-Elton_John_2011_Shankbone_2_%28cropped%29.JPG 2x\" width=\"220\"/></a>"
      ]
     },
     "execution_count": 67,
     "metadata": {},
     "output_type": "execute_result"
    }
   ],
   "source": [
    "#instead of selecting all images, look for the class of images in the main part of article\n",
    "\n",
    "newsoup.select('.image')[0]\n",
    "\n",
    "#<img alt=\"Elton John 2011 Shankbone 2 (cropped).JPG\" src=\"//upload.wikimedia.org/wikipedia/commons/thumb/8/80/Elton_John_2011_Shankbone_2_%28cropped%29.JPG/220px-Elton_John_2011_Shankbone_2_%28cropped%29.JPG\" decoding=\"async\" width=\"220\" height=\"284\" srcset=\"//upload.wikimedia.org/wikipedia/commons/thumb/8/80/Elton_John_2011_Shankbone_2_%28cropped%29.JPG/330px-Elton_John_2011_Shankbone_2_%28cropped%29.JPG 1.5x, //upload.wikimedia.org/wikipedia/commons/thumb/8/80/Elton_John_2011_Shankbone_2_%28cropped%29.JPG/440px-Elton_John_2011_Shankbone_2_%28cropped%29.JPG 2x\" data-file-width=\"1745\" data-file-height=\"2254\">\n",
    "# this is main pic"
   ]
  },
  {
   "cell_type": "code",
   "execution_count": 73,
   "metadata": {},
   "outputs": [
    {
     "data": {
      "text/plain": [
       "'//upload.wikimedia.org/wikipedia/commons/thumb/8/80/Elton_John_2011_Shankbone_2_%28cropped%29.JPG/220px-Elton_John_2011_Shankbone_2_%28cropped%29.JPG'"
      ]
     },
     "execution_count": 73,
     "metadata": {},
     "output_type": "execute_result"
    }
   ],
   "source": [
    "pic = newsoup.select('img')[1]\n",
    "#want to grab particular portion\n",
    "pic['src']"
   ]
  },
  {
   "cell_type": "code",
   "execution_count": null,
   "metadata": {},
   "outputs": [],
   "source": [
    "#use markdown"
   ]
  },
  {
   "cell_type": "markdown",
   "metadata": {},
   "source": [
    "<!-- <img\n",
    "src = \"//upload.wikimedia.org/wikipedia/commons/thumb/8/80/Elton_John_2011_Shankbone_2_%28cropped%29.JPG/220px-Elton_John_2011_Shankbone_2_%28cropped%29.JPG\"> -->"
   ]
  },
  {
   "cell_type": "markdown",
   "metadata": {},
   "source": [
    "<img\n",
    "src = \"//upload.wikimedia.org/wikipedia/commons/thumb/8/80/Elton_John_2011_Shankbone_2_%28cropped%29.JPG/220px-Elton_John_2011_Shankbone_2_%28cropped%29.JPG\">"
   ]
  },
  {
   "cell_type": "code",
   "execution_count": 76,
   "metadata": {},
   "outputs": [],
   "source": [
    "image_link = requests.get(\"https://upload.wikimedia.org/wikipedia/commons/thumb/8/80/Elton_John_2011_Shankbone_2_%28cropped%29.JPG/220px-Elton_John_2011_Shankbone_2_%28cropped%29.JPG\")\n",
    "# image_link.content - binary file\n",
    "#create new file --> write binary to it --> close file"
   ]
  }
 ],
 "metadata": {
  "kernelspec": {
   "display_name": "Python 3.10.5 64-bit (windows store)",
   "language": "python",
   "name": "python3"
  },
  "language_info": {
   "codemirror_mode": {
    "name": "ipython",
    "version": 3
   },
   "file_extension": ".py",
   "mimetype": "text/x-python",
   "name": "python",
   "nbconvert_exporter": "python",
   "pygments_lexer": "ipython3",
   "version": "3.10.5"
  },
  "orig_nbformat": 4,
  "vscode": {
   "interpreter": {
    "hash": "dd239d5c88ed0fbbea2f22807422df04200bb900720e85b0ada3495c01ab65a0"
   }
  }
 },
 "nbformat": 4,
 "nbformat_minor": 2
}
