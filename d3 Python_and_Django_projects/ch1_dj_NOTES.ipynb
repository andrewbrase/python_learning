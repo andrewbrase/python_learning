{
 "cells": [
  {
   "cell_type": "code",
   "execution_count": null,
   "metadata": {},
   "outputs": [],
   "source": [
    "# curriculum for this course\n",
    "# html,css and javascript\n",
    "# DOM and jQuery\n",
    "# Python\n",
    "# Django and SQL\n",
    "# Website creation practice"
   ]
  },
  {
   "cell_type": "code",
   "execution_count": null,
   "metadata": {},
   "outputs": [],
   "source": [
    "# ch1\n",
    "# (optional) pip install django==1.11\n",
    "\n",
    "# Front End \n",
    "# html \n",
    "# css \n",
    "# javascript \n",
    "\n",
    "# the Back End has three components\n",
    "# chosen components for these projects\n",
    "\n",
    "# the language - Python\n",
    "# the framework - Django\n",
    "# the database - SQLite"
   ]
  },
  {
   "cell_type": "code",
   "execution_count": null,
   "metadata": {},
   "outputs": [],
   "source": [
    "# Html topics\n",
    "\n",
    "# HTML Basics\n",
    "# Tagging\n",
    "# Lists\n",
    "# Divs and Spans \n",
    "# Attributes"
   ]
  },
  {
   "cell_type": "code",
   "execution_count": null,
   "metadata": {},
   "outputs": [],
   "source": [
    "# html notes\n",
    "\n",
    "# note to anyone reading this - in school I've already \n",
    "# went over html topics so the notes will be geared \n",
    "# towards things that I need a refresh on\n",
    "\n",
    "# https://www.w3schools.com/ is a very large reference site for front end development\n",
    "# mozilla.org as well\n",
    "\n",
    "# <!DOCTYPE html>\n",
    "# <html>\n",
    "# <head> tag - great for linking other things , ex. css javascript etc.\n",
    "#     <meta charset>\n",
    "#     <title>\n",
    "# <head>\n",
    "# <body>\n",
    "# <h1>\n",
    "# </html>"
   ]
  },
  {
   "cell_type": "code",
   "execution_count": 1,
   "metadata": {},
   "outputs": [],
   "source": [
    "# html has two types of lists\n",
    "# ordered\n",
    "# unordered"
   ]
  },
  {
   "cell_type": "code",
   "execution_count": null,
   "metadata": {},
   "outputs": [],
   "source": [
    "# use div and span tags to group together blocks of html"
   ]
  }
 ],
 "metadata": {
  "kernelspec": {
   "display_name": "Python 3.10.5 64-bit (windows store)",
   "language": "python",
   "name": "python3"
  },
  "language_info": {
   "codemirror_mode": {
    "name": "ipython",
    "version": 3
   },
   "file_extension": ".py",
   "mimetype": "text/x-python",
   "name": "python",
   "nbconvert_exporter": "python",
   "pygments_lexer": "ipython3",
   "version": "3.10.5"
  },
  "orig_nbformat": 4,
  "vscode": {
   "interpreter": {
    "hash": "dd239d5c88ed0fbbea2f22807422df04200bb900720e85b0ada3495c01ab65a0"
   }
  }
 },
 "nbformat": 4,
 "nbformat_minor": 2
}
