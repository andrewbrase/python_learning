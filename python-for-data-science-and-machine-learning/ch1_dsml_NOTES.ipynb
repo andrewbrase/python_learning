{
 "cells": [
  {
   "cell_type": "code",
   "execution_count": null,
   "metadata": {},
   "outputs": [],
   "source": [
    "# Learn how to use NumPy, Pandas, Seaborn , Matplotlib , Plotly , Scikit-Learn , Machine Learning, Tensorflow , and more"
   ]
  },
  {
   "cell_type": "code",
   "execution_count": null,
   "metadata": {},
   "outputs": [],
   "source": [
    "#ch1"
   ]
  },
  {
   "cell_type": "code",
   "execution_count": 32,
   "metadata": {},
   "outputs": [
    {
     "name": "stdout",
     "output_type": "stream",
     "text": [
      "1\n",
      "3\n",
      "5\n"
     ]
    }
   ],
   "source": [
    "#python crash course\n",
    "\n",
    "#data types\n",
    "\n",
    "#numbers\n",
    "\n",
    "#strings\n",
    "\n",
    "#printing\n",
    "# num = 7\n",
    "# name = 'andrew'\n",
    "# print('my number is {one} and my name is {two}, more info {one}'.format(one=num,two=name))\n",
    "# my number is 7 and my name is andrew, more info 7\n",
    "\n",
    "#lists\n",
    "\n",
    "#dictionaries\n",
    "# d = {'k1':{'innerkey':[1,2,3]}}\n",
    "# d['k1']['innerkey'][1]\n",
    "# 2\n",
    "\n",
    "#booleans\n",
    "\n",
    "#tuples - items cannot be reassigned like in a list\n",
    "\n",
    "#sets - only unique elements {1,1,1,2,2,2,3,3,3}\n",
    "# {1,2,3}\n",
    "# .add() - like append but for sets\n",
    "\n",
    "#comparison operators - 1 > 2 false\n",
    "\n",
    "#if,elif,else statements\n",
    "\n",
    "#for loops\n",
    "\n",
    "#while loops\n",
    "\n",
    "#range() - for x in range(0,5):\n",
    "# list(range(10))\n",
    "# [0,1,2,3,4,5,6,7,8,9]\n",
    "\n",
    "#list comprehensions - create a new list based on the values of an existing list\n",
    "# x=[1,2,3,4]\n",
    "# [num**2 for num in x]\n",
    "# [1, 4, 9, 16]\n",
    "\n",
    "# x=[1,2,3,4]\n",
    "# out = [num**2 for num in x]\n",
    "# out\n",
    "# [1, 4, 9, 16]\n",
    "\n",
    "#functions\n",
    "# def square(num):\n",
    "#     \"\"\"\n",
    "#     THIS IS A DOCSTRING\n",
    "#     CAN GO MULTIPLE LINES.\n",
    "#     THIS FUNCTION SQUARES A NUMBER\n",
    "#     \"\"\"\n",
    "#     return num **2\n",
    "\n",
    "# square(2)\n",
    "# 4\n",
    "\n",
    "#map and filter\n",
    "\n",
    "# seq = [1,2,3,4,5]\n",
    "# def times2(var):\n",
    "#     return var*2\n",
    "# times2(5)\n",
    "# 10\n",
    "\n",
    "# if you wanted to take every single element from seq and apply the times2 function,\n",
    "# you could use a loop and append to a new list but instead you can use map\n",
    "\n",
    "# seq = [1,2,3,4,5]\n",
    "# def times2(var):\n",
    "#     return var*2\n",
    "# newlist = list(map(times2,seq))\n",
    "# newlist\n",
    "# [2, 4, 6, 8, 10]\n",
    "\n",
    "\n",
    "#instead of completely defining a whole function - using map might be a one time deal - this is where lambda comes into play\n",
    "#lambda expressions\n",
    "\n",
    "# def times2(var):\n",
    "#     return var*2\n",
    "\n",
    "# this can be written on one line\n",
    "# def times2(var):return var*2\n",
    "# a lambda will try to replicate this structure but remove words not needed\n",
    "# def and return are given values\n",
    "# t = lambda var:var*2\n",
    "# t(6)\n",
    "# 12\n",
    "\n",
    "# you can use this with map\n",
    "\n",
    "# seq2=[1,2,3,4,5]\n",
    "# list(map(lambda num:num*2,seq2))\n",
    "# [2, 4, 6, 8, 10]\n",
    "\n",
    "# filter will filter out elements from a sequence\n",
    "#function that returns boolean values are needed\n",
    "# seq2=[1,2,3,4,5]\n",
    "# list(filter(lambda num:num%2==0,seq2))\n",
    "# returns even numbers in seq\n",
    "# [2, 4]\n",
    "\n",
    "#***Map will output the results of all items in a sequence being applied to that function/lambda expression\n",
    "#***Filter will return the results of the numbers in the sequence that have been applied to that lambda or function expression that checks for a boolean value\n",
    "\n",
    "#methods\n",
    "# s = 'hello my name is andrew'\n",
    "# s.split()\n",
    "# ['hello', 'my', 'name', 'is', 'andrew']\n",
    "\n",
    "# tweet = 'go sports #sports'\n",
    "# tweet.split('#')[1]\n",
    "# ['go sports ', 'sports']\n",
    "# 'sports'\n",
    "\n",
    "\n",
    "# useful methods for dictionaries\n",
    "# newdict = {'k1':1,'k2':2}\n",
    "\n",
    "# newdict.keys()\n",
    "# dict_keys(['k1', 'k2'])\n",
    "\n",
    "# newdict.items()\n",
    "# dict_items([('k1', 1), ('k2', 2)])\n",
    "\n",
    "# newdict.values()\n",
    "# dict_values([1, 2])\n",
    "\n",
    "\n",
    "#tuple unpacking\n",
    "# t1 = [(1,2),(3,4),(5,6)]\n",
    "# t1[0][0]\n",
    "# 1\n",
    "\n",
    "# for item in t1:\n",
    "#     print(item)\n",
    "# (1, 2)\n",
    "# (3, 4)\n",
    "# (5, 6)\n",
    "\n",
    "# for a,b in t1:\n",
    "#     print(a)\n",
    "# 1\n",
    "# 3\n",
    "# 5"
   ]
  },
  {
   "cell_type": "code",
   "execution_count": 10,
   "metadata": {},
   "outputs": [
    {
     "data": {
      "text/plain": [
       "5"
      ]
     },
     "execution_count": 10,
     "metadata": {},
     "output_type": "execute_result"
    }
   ],
   "source": [
    "#practice\n",
    "#Create a function that counts the number of times the word \"dog\" occurs in a string.\n",
    "\n",
    "def countdog(sent):\n",
    "    new = sent.split()\n",
    "    dogcount=0\n",
    "    for word in new:\n",
    "        if word == 'dog':\n",
    "            dogcount += 1\n",
    "    return dogcount\n",
    "\n",
    "countdog('dog dog dog cat dog dog')"
   ]
  },
  {
   "cell_type": "code",
   "execution_count": 11,
   "metadata": {},
   "outputs": [
    {
     "data": {
      "text/plain": [
       "['soup', 'salad']"
      ]
     },
     "execution_count": 11,
     "metadata": {},
     "output_type": "execute_result"
    }
   ],
   "source": [
    "# Use lambda expressions and the filter() function to filter out words from a list that don't start with the letter 's'\n",
    "\n",
    "seq = ['soup','dog','salad','cat','great']\n",
    "list(filter(lambda item:item[0]=='s',seq))"
   ]
  },
  {
   "cell_type": "code",
   "execution_count": null,
   "metadata": {},
   "outputs": [],
   "source": [
    "#NumPy section\n",
    "#data analysis library\n",
    "\n",
    "# NumPy is a linear algebra library for python, the reason it is important\n",
    "#  to data science is that almost all of the libraries in the PyData \n",
    "#  Ecosystem rely on numpy as one of their main building blocks\n",
    "\n",
    "# NumPy arrays are the main way we will use Numpy throughout the course. \n",
    "# Numpy arrays essentially come in two flavors: \n",
    "\n",
    "# vectors \n",
    "# and \n",
    "# matrices. \n",
    "\n",
    "# Vectors are strictly 1-d arrays and matrices are 2-d \n",
    "# (a matrix can still have only one row or colomn.)\n"
   ]
  },
  {
   "cell_type": "code",
   "execution_count": 14,
   "metadata": {},
   "outputs": [
    {
     "data": {
      "text/plain": [
       "array([1, 2, 3])"
      ]
     },
     "execution_count": 14,
     "metadata": {},
     "output_type": "execute_result"
    }
   ],
   "source": [
    "# numpy arrays\n",
    "# vectors and matrices\n",
    "\n",
    "import numpy as np\n",
    "\n",
    "my_list = [1,2,3]\n",
    "\n",
    "arr = np.array(my_list)\n",
    "\n",
    "arr"
   ]
  },
  {
   "cell_type": "code",
   "execution_count": 15,
   "metadata": {},
   "outputs": [
    {
     "data": {
      "text/plain": [
       "array([[1, 2, 3],\n",
       "       [4, 5, 6],\n",
       "       [7, 8, 9]])"
      ]
     },
     "execution_count": 15,
     "metadata": {},
     "output_type": "execute_result"
    }
   ],
   "source": [
    "#if you want matrix - 2d array list of lists\n",
    "my_mat = [[1,2,3],[4,5,6],[7,8,9]]\n",
    "np.array(my_mat)"
   ]
  },
  {
   "cell_type": "code",
   "execution_count": 18,
   "metadata": {},
   "outputs": [
    {
     "data": {
      "text/plain": [
       "array([ 0,  2,  4,  6,  8, 10])"
      ]
     },
     "execution_count": 18,
     "metadata": {},
     "output_type": "execute_result"
    }
   ],
   "source": [
    "#creating a numpy array\n",
    "#similar to pythons range function\n",
    "#from - to - step size\n",
    "np.arange(0,11,2)"
   ]
  }
 ],
 "metadata": {
  "kernelspec": {
   "display_name": "Python 3.10.5 64-bit (windows store)",
   "language": "python",
   "name": "python3"
  },
  "language_info": {
   "codemirror_mode": {
    "name": "ipython",
    "version": 3
   },
   "file_extension": ".py",
   "mimetype": "text/x-python",
   "name": "python",
   "nbconvert_exporter": "python",
   "pygments_lexer": "ipython3",
   "version": "3.10.5"
  },
  "orig_nbformat": 4,
  "vscode": {
   "interpreter": {
    "hash": "dd239d5c88ed0fbbea2f22807422df04200bb900720e85b0ada3495c01ab65a0"
   }
  }
 },
 "nbformat": 4,
 "nbformat_minor": 2
}
