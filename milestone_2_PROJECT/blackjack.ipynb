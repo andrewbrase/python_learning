{
 "cells": [
  {
   "cell_type": "code",
   "execution_count": null,
   "metadata": {},
   "outputs": [],
   "source": [
    "# goal\n",
    "# use OOP to creat a Blackjack game with python\n",
    "\n",
    "# ## Game Play\n",
    "# To play a hand of Blackjack the following steps must be followed:\n",
    "# 1. Create a deck of 52 cards\n",
    "# 2. Shuffle the deck\n",
    "# 3. Ask the Player for their bet\n",
    "# 4. Make sure that the Player's bet does not exceed their available chips\n",
    "# 5. Deal two cards to the Dealer and two cards to the Player\n",
    "# 6. Show only one of the Dealer's cards, the other remains hidden\n",
    "# 7. Show both of the Player's cards\n",
    "# 8. Ask the Player if they wish to Hit, and take another card\n",
    "# 9. If the Player's hand doesn't Bust (go over 21), ask if they'd like to Hit again.\n",
    "# 10. If a Player Stands, play the Dealer's hand. The dealer will always Hit until the Dealer's value meets or exceeds 17\n",
    "# 11. Determine the winner and adjust the Player's chips accordingly\n",
    "# 12. Ask the Player if they'd like to play again\n",
    "\n",
    "# special rules - face cards (Jack, Queen, King) count as 10\n",
    "# aces can count as either a 1 or 11\n",
    "\n",
    "\n",
    "import random\n",
    "\n",
    "suits = ('Hearts', 'Diamonds', 'Spades', 'Clubs')\n",
    "ranks = ('Two', 'Three', 'Four', 'Five', 'Six', 'Seven', 'Eight', 'Nine', 'Ten', 'Jack', 'Queen', 'King', 'Ace')\n",
    "values = {'Two':2, 'Three':3, 'Four':4, 'Five':5, 'Six':6, 'Seven':7, 'Eight':8, 'Nine':9, 'Ten':10, 'Jack':10,\n",
    "             'Queen':10, 'King':10, 'Ace':11}\n",
    "\n"
   ]
  }
 ],
 "metadata": {
  "language_info": {
   "name": "python"
  },
  "orig_nbformat": 4
 },
 "nbformat": 4,
 "nbformat_minor": 2
}
