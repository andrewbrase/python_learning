{
 "cells": [
  {
   "cell_type": "code",
   "execution_count": null,
   "metadata": {},
   "outputs": [],
   "source": [
    "# <!DOCTYPE html>\n",
    "#     <html>\n",
    "#         <head>\n",
    "#         <link rel= \"stylesheet\" href=\"styles.css\">\n",
    "#         <title> Some Title </title>\n",
    "#         </head>\n",
    "#         <body>\n",
    "                #id call inside css file - style choices\n",
    "#             <p id='para2'> Some Text </p>\n",
    "#         </body>\n",
    "#     </html>\n",
    "\n",
    "# ex of style in style.css file:\n",
    "\n",
    "#para2 {\n",
    "#   color: red;\n",
    "# }\n",
    "\n",
    "#instead of <p id='para2'>\n",
    "#it could have been a class\n",
    "\n",
    "# <p class='newclass'> Some Text </p>\n",
    "\n",
    "#class in css file\n",
    "# .newclass {\n",
    "#   color:red;\n",
    "#   font-family: verdana;\n",
    "# }\n",
    "\n",
    "###\n",
    "#could look like this\n",
    "\n",
    "# p{\n",
    "#     color: red;\n",
    "#     font-family: courier;\n",
    "#     font-size: 160%;\n",
    "# }\n",
    "# .someclass{\n",
    "#     color: green;\n",
    "#     font-family: verdana;\n",
    "#     font-size: 300%;\n",
    "# }\n",
    "# #someid{\n",
    "# #   color: blue;\n",
    "# # }"
   ]
  }
 ],
 "metadata": {
  "language_info": {
   "name": "python"
  },
  "orig_nbformat": 4
 },
 "nbformat": 4,
 "nbformat_minor": 2
}
