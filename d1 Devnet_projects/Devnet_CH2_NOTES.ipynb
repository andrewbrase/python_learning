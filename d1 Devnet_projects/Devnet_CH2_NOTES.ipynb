{
 "cells": [
  {
   "cell_type": "code",
   "execution_count": null,
   "metadata": {},
   "outputs": [],
   "source": [
    "# sudo apt-get update\n",
    "\n",
    "# cd / - changes directory to root directory\n",
    "# cd/home/username - changes directory to the /home/username directory\n",
    "# cd test - changes directory to the test folder\n",
    "# cd .. - moves up one directory\n",
    "\n",
    "# pwd - print current working directory\n",
    "\n",
    "# ls - lists files and directories in the current working directory\n",
    "# ls -a - lists everything in the current directory, including hidden files\n",
    "# ls /home/username - lists everything in /home/username directory\n",
    "# ls -l - list permissions , user and group ownership\n",
    "# ls -F - displays files and directories and denotes which are which\n",
    "\n",
    "# mkdir test - makes a new directory called test in the current working directory if you have the permission\n",
    "# mkdir /home/username/test - makes a new directory called test at /home/username/test "
   ]
  }
 ],
 "metadata": {
  "language_info": {
   "name": "python"
  },
  "orig_nbformat": 4
 },
 "nbformat": 4,
 "nbformat_minor": 2
}
