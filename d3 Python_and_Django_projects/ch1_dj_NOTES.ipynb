{
 "cells": [
  {
   "cell_type": "code",
   "execution_count": null,
   "metadata": {},
   "outputs": [],
   "source": [
    "# curriculum for this course\n",
    "# html,css and javascript\n",
    "# DOM and jQuery\n",
    "# Python\n",
    "# Django and SQL\n",
    "# Website creation practice"
   ]
  },
  {
   "cell_type": "code",
   "execution_count": null,
   "metadata": {},
   "outputs": [],
   "source": [
    "# ch1\n",
    "# (optional) pip install django==1.11\n",
    "\n",
    "# Front End \n",
    "# html \n",
    "# css \n",
    "# javascript \n",
    "\n",
    "# the Back End has three components\n",
    "# chosen components for these projects\n",
    "\n",
    "# the language - Python\n",
    "# the framework - Django\n",
    "# the database - SQLite"
   ]
  },
  {
   "cell_type": "code",
   "execution_count": null,
   "metadata": {},
   "outputs": [],
   "source": [
    "# Html ch 1\n",
    "\n",
    "# HTML Basics\n",
    "# Tagging\n",
    "# Lists\n",
    "# Divs and Spans \n",
    "# Attributes"
   ]
  }
 ],
 "metadata": {
  "kernelspec": {
   "display_name": "Python 3.10.5 64-bit (windows store)",
   "language": "python",
   "name": "python3"
  },
  "language_info": {
   "name": "python",
   "version": "3.10.5"
  },
  "orig_nbformat": 4,
  "vscode": {
   "interpreter": {
    "hash": "dd239d5c88ed0fbbea2f22807422df04200bb900720e85b0ada3495c01ab65a0"
   }
  }
 },
 "nbformat": 4,
 "nbformat_minor": 2
}
