{
 "cells": [
  {
   "cell_type": "code",
   "execution_count": 12,
   "metadata": {},
   "outputs": [],
   "source": [
    "#ch5"
   ]
  },
  {
   "cell_type": "code",
   "execution_count": 13,
   "metadata": {},
   "outputs": [],
   "source": [
    "#object oriented programming,\n",
    "#allows programmers to create their own objects that have methods and attributes\n",
    "#.method_name()"
   ]
  },
  {
   "cell_type": "code",
   "execution_count": 14,
   "metadata": {},
   "outputs": [],
   "source": [
    "#class keyword\n",
    "\n",
    "#camel cassing Name Of Class\n",
    "#class NameOfClass():\n",
    "#\n",
    "#   def _init_(self,param1,param2):\n",
    "#       self.param1 = param1\n",
    "#       self.param2 = param2\n",
    "#\n",
    "#   def some_method(self):\n",
    "#       perform some action\n",
    "#       print(self,param1)"
   ]
  },
  {
   "cell_type": "code",
   "execution_count": 15,
   "metadata": {},
   "outputs": [
    {
     "name": "stdout",
     "output_type": "stream",
     "text": [
      "False\n",
      "poodle\n",
      "sammy\n"
     ]
    }
   ],
   "source": [
    "class Dog():\n",
    "    \n",
    "    #method , init method called upon when an instance of the class is created\n",
    "    #self or anything else\n",
    "    def __init__(self,breed,name,spots):\n",
    "        #self connects the method to the instance of the class, alls it to refer to itself\n",
    "\n",
    "        #attributes characteristics of the object\n",
    "        #we take in the argument, mybreed and assign it using self.attribute_name\n",
    "        self.breed = breed\n",
    "        self.name = name\n",
    "\n",
    "        #expect boolean T/F\n",
    "        self.spots = spots\n",
    "\n",
    "\n",
    "mydog = Dog(breed = 'poodle', name = 'sammy',spots = False)\n",
    "\n",
    "#can call upon \n",
    "print(mydog.spots)\n",
    "print(mydog.breed)\n",
    "print(mydog.name)"
   ]
  },
  {
   "cell_type": "code",
   "execution_count": 16,
   "metadata": {},
   "outputs": [],
   "source": [
    "#class object attributes attributes are the same for ANY instances of the class\n",
    "#methods - actions that are performed with the object"
   ]
  },
  {
   "cell_type": "code",
   "execution_count": 25,
   "metadata": {},
   "outputs": [
    {
     "name": "stdout",
     "output_type": "stream",
     "text": [
      "my car is red\n",
      "Ford\n"
     ]
    }
   ],
   "source": [
    "class Vehicle():\n",
    "\n",
    "    #class object attribute, same for any instance of a class\n",
    "    #dont use self keyword\n",
    "    manufacturer = 'Ford'\n",
    "\n",
    "    #USER defined attributes\n",
    "    def __init__(self,color,type):\n",
    "\n",
    "        self.color = color\n",
    "        self.type = type\n",
    "\n",
    "my_car = Vehicle(color = 'red',type = 'car')\n",
    "\n",
    "print(f'my car is {my_car.color}')\n",
    "print(my_car.manufacturer)"
   ]
  }
 ],
 "metadata": {
  "interpreter": {
   "hash": "79607b36fb8dc03ee352315c3f810266520521b71bf1299f5791854579885cc3"
  },
  "kernelspec": {
   "display_name": "Python 3.10.4 64-bit",
   "language": "python",
   "name": "python3"
  },
  "language_info": {
   "codemirror_mode": {
    "name": "ipython",
    "version": 3
   },
   "file_extension": ".py",
   "mimetype": "text/x-python",
   "name": "python",
   "nbconvert_exporter": "python",
   "pygments_lexer": "ipython3",
   "version": "3.10.4"
  },
  "orig_nbformat": 4
 },
 "nbformat": 4,
 "nbformat_minor": 2
}
