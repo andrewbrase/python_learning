{
 "cells": [
  {
   "cell_type": "code",
   "execution_count": null,
   "metadata": {},
   "outputs": [],
   "source": [
    "# Learn how to use NumPy, Pandas, Seaborn , Matplotlib , Plotly , Scikit-Learn , Machine Learning, Tensorflow , and more"
   ]
  },
  {
   "cell_type": "code",
   "execution_count": null,
   "metadata": {},
   "outputs": [],
   "source": [
    "#ch1 Numpy"
   ]
  },
  {
   "cell_type": "code",
   "execution_count": 32,
   "metadata": {},
   "outputs": [
    {
     "name": "stdout",
     "output_type": "stream",
     "text": [
      "1\n",
      "3\n",
      "5\n"
     ]
    }
   ],
   "source": [
    "#python crash course\n",
    "\n",
    "#data types\n",
    "\n",
    "#numbers\n",
    "\n",
    "#strings\n",
    "\n",
    "#printing\n",
    "# num = 7\n",
    "# name = 'andrew'\n",
    "# print('my number is {one} and my name is {two}, more info {one}'.format(one=num,two=name))\n",
    "# my number is 7 and my name is andrew, more info 7\n",
    "\n",
    "#lists\n",
    "\n",
    "#dictionaries\n",
    "# d = {'k1':{'innerkey':[1,2,3]}}\n",
    "# d['k1']['innerkey'][1]\n",
    "# 2\n",
    "\n",
    "#booleans\n",
    "\n",
    "#tuples - items cannot be reassigned like in a list\n",
    "\n",
    "#sets - only unique elements {1,1,1,2,2,2,3,3,3}\n",
    "# {1,2,3}\n",
    "# .add() - like append but for sets\n",
    "\n",
    "#comparison operators - 1 > 2 false\n",
    "\n",
    "#if,elif,else statements\n",
    "\n",
    "#for loops\n",
    "\n",
    "#while loops\n",
    "\n",
    "#range() - for x in range(0,5):\n",
    "# list(range(10))\n",
    "# [0,1,2,3,4,5,6,7,8,9]\n",
    "\n",
    "#list comprehensions - create a new list based on the values of an existing list\n",
    "# x=[1,2,3,4]\n",
    "# [num**2 for num in x]\n",
    "# [1, 4, 9, 16]\n",
    "\n",
    "# x=[1,2,3,4]\n",
    "# out = [num**2 for num in x]\n",
    "# out\n",
    "# [1, 4, 9, 16]\n",
    "\n",
    "#functions\n",
    "# def square(num):\n",
    "#     \"\"\"\n",
    "#     THIS IS A DOCSTRING\n",
    "#     CAN GO MULTIPLE LINES.\n",
    "#     THIS FUNCTION SQUARES A NUMBER\n",
    "#     \"\"\"\n",
    "#     return num **2\n",
    "\n",
    "# square(2)\n",
    "# 4\n",
    "\n",
    "#map and filter\n",
    "\n",
    "# seq = [1,2,3,4,5]\n",
    "# def times2(var):\n",
    "#     return var*2\n",
    "# times2(5)\n",
    "# 10\n",
    "\n",
    "# if you wanted to take every single element from seq and apply the times2 function,\n",
    "# you could use a loop and append to a new list but instead you can use map\n",
    "\n",
    "# seq = [1,2,3,4,5]\n",
    "# def times2(var):\n",
    "#     return var*2\n",
    "# newlist = list(map(times2,seq))\n",
    "# newlist\n",
    "# [2, 4, 6, 8, 10]\n",
    "\n",
    "\n",
    "#instead of completely defining a whole function - using map might be a one time deal - this is where lambda comes into play\n",
    "#lambda expressions\n",
    "\n",
    "# def times2(var):\n",
    "#     return var*2\n",
    "\n",
    "# this can be written on one line\n",
    "# def times2(var):return var*2\n",
    "# a lambda will try to replicate this structure but remove words not needed\n",
    "# def and return are given values\n",
    "# t = lambda var:var*2\n",
    "# t(6)\n",
    "# 12\n",
    "\n",
    "# you can use this with map\n",
    "\n",
    "# seq2=[1,2,3,4,5]\n",
    "# list(map(lambda num:num*2,seq2))\n",
    "# [2, 4, 6, 8, 10]\n",
    "\n",
    "# filter will filter out elements from a sequence\n",
    "#function that returns boolean values are needed\n",
    "# seq2=[1,2,3,4,5]\n",
    "# list(filter(lambda num:num%2==0,seq2))\n",
    "# returns even numbers in seq\n",
    "# [2, 4]\n",
    "\n",
    "#***Map will output the results of all items in a sequence being applied to that function/lambda expression\n",
    "#***Filter will return the results of the numbers in the sequence that have been applied to that lambda or function expression that checks for a boolean value\n",
    "\n",
    "#methods\n",
    "# s = 'hello my name is andrew'\n",
    "# s.split()\n",
    "# ['hello', 'my', 'name', 'is', 'andrew']\n",
    "\n",
    "# tweet = 'go sports #sports'\n",
    "# tweet.split('#')[1]\n",
    "# ['go sports ', 'sports']\n",
    "# 'sports'\n",
    "\n",
    "\n",
    "# useful methods for dictionaries\n",
    "# newdict = {'k1':1,'k2':2}\n",
    "\n",
    "# newdict.keys()\n",
    "# dict_keys(['k1', 'k2'])\n",
    "\n",
    "# newdict.items()\n",
    "# dict_items([('k1', 1), ('k2', 2)])\n",
    "\n",
    "# newdict.values()\n",
    "# dict_values([1, 2])\n",
    "\n",
    "\n",
    "#tuple unpacking\n",
    "# t1 = [(1,2),(3,4),(5,6)]\n",
    "# t1[0][0]\n",
    "# 1\n",
    "\n",
    "# for item in t1:\n",
    "#     print(item)\n",
    "# (1, 2)\n",
    "# (3, 4)\n",
    "# (5, 6)\n",
    "\n",
    "# for a,b in t1:\n",
    "#     print(a)\n",
    "# 1\n",
    "# 3\n",
    "# 5"
   ]
  },
  {
   "cell_type": "code",
   "execution_count": 10,
   "metadata": {},
   "outputs": [
    {
     "data": {
      "text/plain": [
       "5"
      ]
     },
     "execution_count": 10,
     "metadata": {},
     "output_type": "execute_result"
    }
   ],
   "source": [
    "#practice\n",
    "#Create a function that counts the number of times the word \"dog\" occurs in a string.\n",
    "\n",
    "def countdog(sent):\n",
    "    new = sent.split()\n",
    "    dogcount=0\n",
    "    for word in new:\n",
    "        if word == 'dog':\n",
    "            dogcount += 1\n",
    "    return dogcount\n",
    "\n",
    "countdog('dog dog dog cat dog dog')"
   ]
  },
  {
   "cell_type": "code",
   "execution_count": 11,
   "metadata": {},
   "outputs": [
    {
     "data": {
      "text/plain": [
       "['soup', 'salad']"
      ]
     },
     "execution_count": 11,
     "metadata": {},
     "output_type": "execute_result"
    }
   ],
   "source": [
    "# Use lambda expressions and the filter() function to filter out words from a list that don't start with the letter 's'\n",
    "\n",
    "seq = ['soup','dog','salad','cat','great']\n",
    "list(filter(lambda item:item[0]=='s',seq))"
   ]
  },
  {
   "cell_type": "code",
   "execution_count": null,
   "metadata": {},
   "outputs": [],
   "source": [
    "#NumPy section\n",
    "#data analysis library\n",
    "\n",
    "# NumPy is a linear algebra library for python, the reason it is important\n",
    "#  to data science is that almost all of the libraries in the PyData \n",
    "#  Ecosystem rely on numpy as one of their main building blocks\n",
    "\n",
    "# NumPy arrays are the main way we will use Numpy throughout the course. \n",
    "# Numpy arrays essentially come in two flavors: \n",
    "\n",
    "# vectors \n",
    "# and \n",
    "# matrices. \n",
    "\n",
    "# Vectors are strictly 1-d arrays and matrices are 2-d \n",
    "# (a matrix can still have only one row or colomn.)\n"
   ]
  },
  {
   "cell_type": "code",
   "execution_count": 14,
   "metadata": {},
   "outputs": [
    {
     "data": {
      "text/plain": [
       "array([1, 2, 3])"
      ]
     },
     "execution_count": 14,
     "metadata": {},
     "output_type": "execute_result"
    }
   ],
   "source": [
    "# numpy arrays\n",
    "# vectors and matrices\n",
    "\n",
    "import numpy as np\n",
    "\n",
    "my_list = [1,2,3]\n",
    "\n",
    "arr = np.array(my_list)\n",
    "\n",
    "arr"
   ]
  },
  {
   "cell_type": "code",
   "execution_count": 15,
   "metadata": {},
   "outputs": [
    {
     "data": {
      "text/plain": [
       "array([[1, 2, 3],\n",
       "       [4, 5, 6],\n",
       "       [7, 8, 9]])"
      ]
     },
     "execution_count": 15,
     "metadata": {},
     "output_type": "execute_result"
    }
   ],
   "source": [
    "#if you want matrix - 2d array list of lists\n",
    "my_mat = [[1,2,3],[4,5,6],[7,8,9]]\n",
    "np.array(my_mat)"
   ]
  },
  {
   "cell_type": "code",
   "execution_count": 18,
   "metadata": {},
   "outputs": [
    {
     "data": {
      "text/plain": [
       "array([ 0,  2,  4,  6,  8, 10])"
      ]
     },
     "execution_count": 18,
     "metadata": {},
     "output_type": "execute_result"
    }
   ],
   "source": [
    "#creating a numpy array\n",
    "#similar to pythons range function\n",
    "#from - to - step size\n",
    "np.arange(0,11,2)"
   ]
  },
  {
   "cell_type": "code",
   "execution_count": 20,
   "metadata": {},
   "outputs": [
    {
     "data": {
      "text/plain": [
       "array([0., 0., 0., 0., 0.])"
      ]
     },
     "execution_count": 20,
     "metadata": {},
     "output_type": "execute_result"
    }
   ],
   "source": [
    "np.zeros(5)\n",
    "#returns 1d vector"
   ]
  },
  {
   "cell_type": "code",
   "execution_count": 22,
   "metadata": {},
   "outputs": [
    {
     "data": {
      "text/plain": [
       "array([[0., 0., 0., 0., 0.],\n",
       "       [0., 0., 0., 0., 0.],\n",
       "       [0., 0., 0., 0., 0.],\n",
       "       [0., 0., 0., 0., 0.],\n",
       "       [0., 0., 0., 0., 0.]])"
      ]
     },
     "execution_count": 22,
     "metadata": {},
     "output_type": "execute_result"
    }
   ],
   "source": [
    "        #rows,columns\n",
    "np.zeros((5,5))\n",
    "# returns 2d matrix"
   ]
  },
  {
   "cell_type": "code",
   "execution_count": 23,
   "metadata": {},
   "outputs": [
    {
     "data": {
      "text/plain": [
       "array([[1., 1., 1., 1., 1., 1., 1., 1., 1.],\n",
       "       [1., 1., 1., 1., 1., 1., 1., 1., 1.],\n",
       "       [1., 1., 1., 1., 1., 1., 1., 1., 1.]])"
      ]
     },
     "execution_count": 23,
     "metadata": {},
     "output_type": "execute_result"
    }
   ],
   "source": [
    "np.ones((3,9))"
   ]
  },
  {
   "cell_type": "code",
   "execution_count": 24,
   "metadata": {},
   "outputs": [
    {
     "data": {
      "text/plain": [
       "array([0.        , 0.55555556, 1.11111111, 1.66666667, 2.22222222,\n",
       "       2.77777778, 3.33333333, 3.88888889, 4.44444444, 5.        ])"
      ]
     },
     "execution_count": 24,
     "metadata": {},
     "output_type": "execute_result"
    }
   ],
   "source": [
    "# linspace function - turns evenly spaced numbers over a specified interval\n",
    "#going to take in an argument of how many points you want\n",
    "\n",
    "            #start - stop - number\n",
    "            #you want to get 10 EVENLY spaced points BETWEEN 0 and 5\n",
    "np.linspace(0,5,10)\n",
    "# returns back a 1 demensional vector of 10 EVENLY spaced points BETWEEN 0 and 5"
   ]
  },
  {
   "cell_type": "code",
   "execution_count": null,
   "metadata": {},
   "outputs": [],
   "source": [
    "# array([ - one bracket means one demensional\n",
    "# array([[ = two bracket means two demensional array\n",
    "# three demensions will have 3 brackets etc"
   ]
  },
  {
   "cell_type": "code",
   "execution_count": 25,
   "metadata": {},
   "outputs": [
    {
     "data": {
      "text/plain": [
       "array([[1., 0., 0., 0.],\n",
       "       [0., 1., 0., 0.],\n",
       "       [0., 0., 1., 0.],\n",
       "       [0., 0., 0., 1.]])"
      ]
     },
     "execution_count": 25,
     "metadata": {},
     "output_type": "execute_result"
    }
   ],
   "source": [
    "#identity matrix\n",
    "np.eye(4)\n",
    "\n",
    "# useful with linear algebra problems\n",
    "# 2 dimensional square matrix - SAME number of rows is = to the SAME number of columns "
   ]
  },
  {
   "cell_type": "code",
   "execution_count": 26,
   "metadata": {},
   "outputs": [
    {
     "data": {
      "text/plain": [
       "array([[1., 0., 0., 0., 0., 0.],\n",
       "       [0., 1., 0., 0., 0., 0.],\n",
       "       [0., 0., 1., 0., 0., 0.],\n",
       "       [0., 0., 0., 1., 0., 0.],\n",
       "       [0., 0., 0., 0., 1., 0.],\n",
       "       [0., 0., 0., 0., 0., 1.]])"
      ]
     },
     "execution_count": 26,
     "metadata": {},
     "output_type": "execute_result"
    }
   ],
   "source": [
    "np.eye(6)"
   ]
  },
  {
   "cell_type": "code",
   "execution_count": 27,
   "metadata": {},
   "outputs": [
    {
     "data": {
      "text/plain": [
       "array([0.19815499, 0.78298399, 0.72267546, 0.81359062])"
      ]
     },
     "execution_count": 27,
     "metadata": {},
     "output_type": "execute_result"
    }
   ],
   "source": [
    "# numpy has ways of creating arrays of random numbers\n",
    "np.random.rand(4)\n",
    "#random samples from a uniform distribution over 0 - 1\n",
    "# if you want a 1 dimensional array of random numbers random from 0 - 1"
   ]
  },
  {
   "cell_type": "code",
   "execution_count": 30,
   "metadata": {},
   "outputs": [
    {
     "data": {
      "text/plain": [
       "array([[0.89913149, 0.58657893, 0.18832296],\n",
       "       [0.05348721, 0.28594569, 0.87219429],\n",
       "       [0.55794817, 0.77435286, 0.90583638],\n",
       "       [0.11566235, 0.21297028, 0.13924996],\n",
       "       [0.90745965, 0.27884058, 0.4179274 ]])"
      ]
     },
     "execution_count": 30,
     "metadata": {},
     "output_type": "execute_result"
    }
   ],
   "source": [
    "#if you want it to be 2 dimensional\n",
    "#instead of passing in a tuple - pass in the dimensions of the seperate arguments\n",
    "\n",
    "                #(make 5 rows #sample 3 numbers from 0 - 1)\n",
    "np.random.rand(5,3)"
   ]
  },
  {
   "cell_type": "code",
   "execution_count": 32,
   "metadata": {},
   "outputs": [
    {
     "data": {
      "text/plain": [
       "array([-0.08899884,  1.53325019])"
      ]
     },
     "execution_count": 32,
     "metadata": {},
     "output_type": "execute_result"
    }
   ],
   "source": [
    "# if you want to return a sample or many samples from the standard normal distribution\n",
    "# instead of using rand - you can use randn\n",
    "\n",
    "np.random.randn(2)\n",
    "#this will return numbers not from a uniform ditribution from 0 - 1 but instead\n",
    "# from a normal distribution centered around 0\n",
    "\n",
    "#look up gaussian distribution"
   ]
  },
  {
   "cell_type": "code",
   "execution_count": 33,
   "metadata": {},
   "outputs": [
    {
     "data": {
      "text/plain": [
       "array([[ 0.94146782,  0.06388578, -2.02805717, -1.49061844],\n",
       "       [ 0.3204236 ,  0.98464978, -0.37511418,  3.47788607],\n",
       "       [-1.46815863, -2.55828146,  0.77763494,  0.60496953],\n",
       "       [-0.25849772, -0.17934867, -0.76283008, -1.63316356]])"
      ]
     },
     "execution_count": 33,
     "metadata": {},
     "output_type": "execute_result"
    }
   ],
   "source": [
    "np.random.randn(4,4)"
   ]
  },
  {
   "cell_type": "code",
   "execution_count": 34,
   "metadata": {},
   "outputs": [
    {
     "data": {
      "text/plain": [
       "28"
      ]
     },
     "execution_count": 34,
     "metadata": {},
     "output_type": "execute_result"
    }
   ],
   "source": [
    "#final random method of creating an array is rand int\n",
    "# returns random integers from a low to a high number\n",
    "np.random.randint(1,100)\n",
    "#random int from 1 to 100"
   ]
  },
  {
   "cell_type": "code",
   "execution_count": 35,
   "metadata": {},
   "outputs": [
    {
     "data": {
      "text/plain": [
       "array([54, 51, 84])"
      ]
     },
     "execution_count": 35,
     "metadata": {},
     "output_type": "execute_result"
    }
   ],
   "source": [
    "#if you want multiple random integers\n",
    "                        #how many\n",
    "np.random.randint(1,100,3)\n",
    "#includes 1\n",
    "#doesn't include 100"
   ]
  },
  {
   "cell_type": "code",
   "execution_count": 67,
   "metadata": {},
   "outputs": [
    {
     "data": {
      "text/plain": [
       "array([[ 0,  1,  2,  3,  4],\n",
       "       [ 5,  6,  7,  8,  9],\n",
       "       [10, 11, 12, 13, 14],\n",
       "       [15, 16, 17, 18, 19],\n",
       "       [20, 21, 22, 23, 24]])"
      ]
     },
     "execution_count": 67,
     "metadata": {},
     "output_type": "execute_result"
    }
   ],
   "source": [
    "#useful attributes of an array\n",
    "#create 2 array objects\n",
    "\n",
    "arr1=np.arange(25)\n",
    "\n",
    "ranarr = np.random.randint(0,50,25)\n",
    "\n",
    "#useful methods to use on arrays\n",
    "#reshape method\n",
    "#same data new shape\n",
    "\n",
    "            #dimensions\n",
    "arr1.reshape(5,5)\n",
    "#if the matrix isn't completely filled, you will recieve an error"
   ]
  },
  {
   "cell_type": "code",
   "execution_count": 90,
   "metadata": {},
   "outputs": [
    {
     "data": {
      "text/plain": [
       "array([ 1, 27, 15, 11, 46, 30, 34,  7, 10,  2,  3, 32, 32, 34, 47, 29, 22,\n",
       "        9, 29, 10, 13, 37, 19, 19, 32])"
      ]
     },
     "execution_count": 90,
     "metadata": {},
     "output_type": "execute_result"
    }
   ],
   "source": [
    "ranarr"
   ]
  },
  {
   "cell_type": "code",
   "execution_count": 68,
   "metadata": {},
   "outputs": [
    {
     "data": {
      "text/plain": [
       "47"
      ]
     },
     "execution_count": 68,
     "metadata": {},
     "output_type": "execute_result"
    }
   ],
   "source": [
    "#call the max value in array\n",
    "ranarr.max()"
   ]
  },
  {
   "cell_type": "code",
   "execution_count": 69,
   "metadata": {},
   "outputs": [
    {
     "data": {
      "text/plain": [
       "0"
      ]
     },
     "execution_count": 69,
     "metadata": {},
     "output_type": "execute_result"
    }
   ],
   "source": [
    "arr1.min()"
   ]
  },
  {
   "cell_type": "code",
   "execution_count": 70,
   "metadata": {},
   "outputs": [
    {
     "data": {
      "text/plain": [
       "array([ 1, 27, 15, 11, 46, 30, 34,  7, 10,  2,  3, 32, 32, 34, 47, 29, 22,\n",
       "        9, 29, 10, 13, 37, 19, 19, 32])"
      ]
     },
     "execution_count": 70,
     "metadata": {},
     "output_type": "execute_result"
    }
   ],
   "source": [
    "ranarr"
   ]
  },
  {
   "cell_type": "code",
   "execution_count": 74,
   "metadata": {},
   "outputs": [
    {
     "name": "stdout",
     "output_type": "stream",
     "text": [
      "14 \n",
      " 0\n"
     ]
    }
   ],
   "source": [
    "#if you want to know at what index value is that max/min number\n",
    "print(ranarr.argmax(),'\\n',ranarr.argmin())\n",
    "#14 is the location of the max value"
   ]
  },
  {
   "cell_type": "code",
   "execution_count": 76,
   "metadata": {},
   "outputs": [
    {
     "data": {
      "text/plain": [
       "(25,)"
      ]
     },
     "execution_count": 76,
     "metadata": {},
     "output_type": "execute_result"
    }
   ],
   "source": [
    "#if you want to figure out the shape of a vector\n",
    "arr1.shape\n",
    "#indicates that that array is a 1 dimensional vector"
   ]
  },
  {
   "cell_type": "code",
   "execution_count": 79,
   "metadata": {},
   "outputs": [
    {
     "data": {
      "text/plain": [
       "array([[-0.1918129 , -0.20762776,  0.28041738],\n",
       "       [ 0.43743278,  0.53940329, -0.06285846],\n",
       "       [-1.86729123, -0.43904174, -0.71737762]])"
      ]
     },
     "execution_count": 79,
     "metadata": {},
     "output_type": "execute_result"
    }
   ],
   "source": [
    "arr2=np.random.randn(3,3)\n",
    "arr2"
   ]
  },
  {
   "cell_type": "code",
   "execution_count": 80,
   "metadata": {},
   "outputs": [
    {
     "data": {
      "text/plain": [
       "(3, 3)"
      ]
     },
     "execution_count": 80,
     "metadata": {},
     "output_type": "execute_result"
    }
   ],
   "source": [
    "arr2.shape\n",
    "#indicates that that array is a 2 dimensional matrix"
   ]
  },
  {
   "cell_type": "code",
   "execution_count": 81,
   "metadata": {},
   "outputs": [
    {
     "data": {
      "text/plain": [
       "(25,)"
      ]
     },
     "execution_count": 81,
     "metadata": {},
     "output_type": "execute_result"
    }
   ],
   "source": [
    "arr1.shape"
   ]
  },
  {
   "cell_type": "code",
   "execution_count": 83,
   "metadata": {},
   "outputs": [
    {
     "data": {
      "text/plain": [
       "array([[ 0,  1,  2,  3,  4],\n",
       "       [ 5,  6,  7,  8,  9],\n",
       "       [10, 11, 12, 13, 14],\n",
       "       [15, 16, 17, 18, 19],\n",
       "       [20, 21, 22, 23, 24]])"
      ]
     },
     "execution_count": 83,
     "metadata": {},
     "output_type": "execute_result"
    }
   ],
   "source": [
    "newarr = arr1.reshape(5,5)\n",
    "newarr"
   ]
  },
  {
   "cell_type": "code",
   "execution_count": 84,
   "metadata": {},
   "outputs": [
    {
     "data": {
      "text/plain": [
       "(5, 5)"
      ]
     },
     "execution_count": 84,
     "metadata": {},
     "output_type": "execute_result"
    }
   ],
   "source": [
    "newarr.shape"
   ]
  },
  {
   "cell_type": "code",
   "execution_count": 86,
   "metadata": {},
   "outputs": [
    {
     "data": {
      "text/plain": [
       "dtype('int32')"
      ]
     },
     "execution_count": 86,
     "metadata": {},
     "output_type": "execute_result"
    }
   ],
   "source": [
    "#how to figure out data type\n",
    "newarr.dtype"
   ]
  },
  {
   "cell_type": "code",
   "execution_count": 89,
   "metadata": {},
   "outputs": [
    {
     "data": {
      "text/plain": [
       "8"
      ]
     },
     "execution_count": 89,
     "metadata": {},
     "output_type": "execute_result"
    }
   ],
   "source": [
    "#if you dont want to type out np.random.randn\n",
    "from numpy.random import randint\n",
    "randint(2,10)"
   ]
  },
  {
   "cell_type": "code",
   "execution_count": null,
   "metadata": {},
   "outputs": [],
   "source": [
    "# np.array(my_list) - uses my list to make a numpy array\n",
    "# array([1, 2, 3])\n",
    "\n",
    "\n",
    "# np.arange(x,y,z) - creating a numpy array similar to pythons RANGE function: from x, to y, step size z\n",
    "# array([ 0,  2,  4,  6,  8, 10])\n",
    "\n",
    "\n",
    "# np.linspace(x,y,z) - turns evenly spaced numbers over a specified interval - returns back a 1 demensional vector of z EVENLY spaced points BETWEEN x and y\n",
    "# array([0.        , 0.55555556, 1.11111111, 1.66666667, 2.22222222,\n",
    "#        2.77777778, 3.33333333, 3.88888889, 4.44444444, 5.        ])\n",
    "\n",
    "\n",
    "# np.zeros(x) - creates an array of x zeros or any other number after np. ex. 'one'\n",
    "# array([0., 0., 0., 0., 0.])\n",
    "\n",
    "\n",
    "# np.ones((x,y)) - creates a matrix of 'ones' x by y \n",
    "# array([[1., 1., 1., 1., 1., 1., 1., 1., 1.],\n",
    "#        [1., 1., 1., 1., 1., 1., 1., 1., 1.],\n",
    "#        [1., 1., 1., 1., 1., 1., 1., 1., 1.]])\n",
    "\n",
    "\n",
    "# np.eye(x) - creates x by x matrix 'square'\n",
    "# array([[1., 0., 0., 0.],\n",
    "#        [0., 1., 0., 0.],\n",
    "#        [0., 0., 1., 0.],\n",
    "#        [0., 0., 0., 1.]])\n",
    "\n",
    "\n",
    "# np.random.rand(x) - x amount of random numbers\n",
    "# array([0.19815499, 0.78298399, 0.72267546, 0.81359062])\n",
    "\n",
    "\n",
    "# np.random.randn(x,y) x by y amount of random numbers\n",
    "# array([[0.89913149, 0.58657893, 0.18832296],\n",
    "#        [0.05348721, 0.28594569, 0.87219429],\n",
    "#        [0.55794817, 0.77435286, 0.90583638],\n",
    "#        [0.11566235, 0.21297028, 0.13924996],\n",
    "#        [0.90745965, 0.27884058, 0.4179274 ]])\n",
    "\n",
    "# np.random.randint(x,y) - random int between x and y\n",
    "# 28\n",
    "\n",
    "# np.random.randint(x,y,z) - z amount random ints between x and y\n",
    "# array([ 1, 27, 15, 11, 46, 30, 34,  7, 10,  2,  3, 32, 32, 34, 47, 29, 22,\n",
    "#         9, 29, 10, 13, 37, 19, 19, 32])\n",
    "\n",
    "# arr.reshape(x,y) - *reshape an array of 25 into 5,5 matrix\n",
    "# array([[ 0,  1,  2,  3,  4],\n",
    "#        [ 5,  6,  7,  8,  9],\n",
    "#        [10, 11, 12, 13, 14],\n",
    "#        [15, 16, 17, 18, 19],\n",
    "#        [20, 21, 22, 23, 24]])\n",
    "\n",
    "\n",
    "# arr.max() - finds max in array\n",
    "\n",
    "\n",
    "# arr.min() - finds min in array\n",
    "\n",
    "\n",
    "# arr.shape - finds shape of matrices\n",
    "# (5, 5)\n",
    "\n",
    "# arr.dtype - finds datatype\n",
    "# dtype('int32')\n"
   ]
  },
  {
   "cell_type": "code",
   "execution_count": 2,
   "metadata": {},
   "outputs": [
    {
     "data": {
      "text/plain": [
       "array([ 0,  1,  2,  3,  4,  5,  6,  7,  8,  9, 10])"
      ]
     },
     "execution_count": 2,
     "metadata": {},
     "output_type": "execute_result"
    }
   ],
   "source": [
    "# selecting elements or groups of elements from a numpy array\n",
    "\n",
    "import numpy as np\n",
    "arr = np.arange(0,11)\n",
    "arr"
   ]
  },
  {
   "cell_type": "code",
   "execution_count": 92,
   "metadata": {},
   "outputs": [
    {
     "data": {
      "text/plain": [
       "8"
      ]
     },
     "execution_count": 92,
     "metadata": {},
     "output_type": "execute_result"
    }
   ],
   "source": [
    "arr[8]"
   ]
  },
  {
   "cell_type": "code",
   "execution_count": 93,
   "metadata": {},
   "outputs": [
    {
     "data": {
      "text/plain": [
       "array([1, 2, 3, 4])"
      ]
     },
     "execution_count": 93,
     "metadata": {},
     "output_type": "execute_result"
    }
   ],
   "source": [
    "arr[1:5]"
   ]
  },
  {
   "cell_type": "code",
   "execution_count": 94,
   "metadata": {},
   "outputs": [
    {
     "data": {
      "text/plain": [
       "array([0, 1, 2, 3, 4, 5])"
      ]
     },
     "execution_count": 94,
     "metadata": {},
     "output_type": "execute_result"
    }
   ],
   "source": [
    "arr[:6]"
   ]
  },
  {
   "cell_type": "code",
   "execution_count": 95,
   "metadata": {},
   "outputs": [
    {
     "data": {
      "text/plain": [
       "array([ 5,  6,  7,  8,  9, 10])"
      ]
     },
     "execution_count": 95,
     "metadata": {},
     "output_type": "execute_result"
    }
   ],
   "source": [
    "arr[5:]"
   ]
  },
  {
   "cell_type": "code",
   "execution_count": 96,
   "metadata": {},
   "outputs": [
    {
     "data": {
      "text/plain": [
       "array([ 0,  2,  4,  6,  8, 10])"
      ]
     },
     "execution_count": 96,
     "metadata": {},
     "output_type": "execute_result"
    }
   ],
   "source": [
    "arr[::2]"
   ]
  },
  {
   "cell_type": "code",
   "execution_count": 5,
   "metadata": {},
   "outputs": [
    {
     "data": {
      "text/plain": [
       "array([100, 100, 100, 100, 100,   5,   6,   7,   8,   9,  10])"
      ]
     },
     "execution_count": 5,
     "metadata": {},
     "output_type": "execute_result"
    }
   ],
   "source": [
    "# numpy arrays differ from a normal python list because of their ability\n",
    "# to broadcast\n",
    "\n",
    "arr[0:5] = 100\n",
    "arr\n",
    "\n",
    "#broadcast to those 5 digits to be equal to 100"
   ]
  },
  {
   "cell_type": "code",
   "execution_count": 7,
   "metadata": {},
   "outputs": [
    {
     "data": {
      "text/plain": [
       "array([ 0,  1,  2,  3,  4,  5,  6,  7,  8,  9, 10])"
      ]
     },
     "execution_count": 7,
     "metadata": {},
     "output_type": "execute_result"
    }
   ],
   "source": [
    "arr = np.arange(0,11)\n",
    "arr"
   ]
  },
  {
   "cell_type": "code",
   "execution_count": 8,
   "metadata": {},
   "outputs": [
    {
     "data": {
      "text/plain": [
       "array([0, 1, 2, 3, 4, 5])"
      ]
     },
     "execution_count": 8,
     "metadata": {},
     "output_type": "execute_result"
    }
   ],
   "source": [
    "slice_of_arr = arr[0:6]\n",
    "slice_of_arr"
   ]
  },
  {
   "cell_type": "code",
   "execution_count": 11,
   "metadata": {},
   "outputs": [
    {
     "data": {
      "text/plain": [
       "array([99, 99, 99, 99, 99, 99])"
      ]
     },
     "execution_count": 11,
     "metadata": {},
     "output_type": "execute_result"
    }
   ],
   "source": [
    "slice_of_arr[:] = 99\n",
    "slice_of_arr"
   ]
  },
  {
   "cell_type": "code",
   "execution_count": 13,
   "metadata": {},
   "outputs": [
    {
     "data": {
      "text/plain": [
       "array([99, 99, 99, 99, 99, 99,  6,  7,  8,  9, 10])"
      ]
     },
     "execution_count": 13,
     "metadata": {},
     "output_type": "execute_result"
    }
   ],
   "source": [
    "arr\n",
    "#the original array was also changed, not just the slice"
   ]
  },
  {
   "cell_type": "code",
   "execution_count": null,
   "metadata": {},
   "outputs": [],
   "source": [
    "#data is not copied, it is just a view of the original array\n",
    "#numpy does this to avoid memory issues with very large arrays"
   ]
  },
  {
   "cell_type": "code",
   "execution_count": 16,
   "metadata": {},
   "outputs": [
    {
     "data": {
      "text/plain": [
       "array([100, 100, 100, 100, 100, 100, 100, 100, 100, 100, 100])"
      ]
     },
     "execution_count": 16,
     "metadata": {},
     "output_type": "execute_result"
    }
   ],
   "source": [
    "#if you want to make a copy - you can specify\n",
    "arr_copy = arr.copy()\n",
    "arr_copy[:] = 100\n",
    "arr_copy"
   ]
  },
  {
   "cell_type": "code",
   "execution_count": 18,
   "metadata": {},
   "outputs": [
    {
     "name": "stdout",
     "output_type": "stream",
     "text": [
      "[99 99 99 99 99 99  6  7  8  9 10] \n",
      " [100 100 100 100 100 100 100 100 100 100 100]\n"
     ]
    }
   ],
   "source": [
    "print(arr,'\\n',arr_copy)"
   ]
  },
  {
   "cell_type": "code",
   "execution_count": 21,
   "metadata": {},
   "outputs": [
    {
     "data": {
      "text/plain": [
       "array([[ 5,  6,  7],\n",
       "       [ 8,  9, 10],\n",
       "       [11, 12, 13]])"
      ]
     },
     "execution_count": 21,
     "metadata": {},
     "output_type": "execute_result"
    }
   ],
   "source": [
    "#indexing a 2d array / martix\n",
    "arr_2d = np.array([[5,6,7],[8,9,10],[11,12,13]])\n",
    "arr_2d"
   ]
  },
  {
   "cell_type": "code",
   "execution_count": 27,
   "metadata": {},
   "outputs": [],
   "source": [
    "# 2 formats for grabbing elements from a matrix\n",
    "#double bracket format\n",
    "# arr_2d[0][0]\n",
    "# 5\n",
    "\n",
    "# arr_2d[2][2]\n",
    "# 13\n",
    "    #row -> and column v\n",
    "\n",
    "#single bracket format * recommended\n",
    "# arr_2d[1,2]\n",
    "# 10"
   ]
  },
  {
   "cell_type": "code",
   "execution_count": 30,
   "metadata": {},
   "outputs": [
    {
     "data": {
      "text/plain": [
       "array([[ 6,  7],\n",
       "       [ 9, 10]])"
      ]
     },
     "execution_count": 30,
     "metadata": {},
     "output_type": "execute_result"
    }
   ],
   "source": [
    "#if you want submatrices from this matrix\n",
    "\n",
    "# array([[ 5,  6,  7],\n",
    "#        [ 8,  9, 10],\n",
    "#        [11, 12, 13]])\n",
    "\n",
    "arr_2d[:2,1:]\n",
    "#up to but not including 2\n",
    "\n",
    "# 0\n",
    "# 1\n",
    "# ---\n",
    "# 2"
   ]
  },
  {
   "cell_type": "code",
   "execution_count": 34,
   "metadata": {},
   "outputs": [
    {
     "data": {
      "text/plain": [
       "array([[ 5,  6,  7],\n",
       "       [ 8,  9, 10],\n",
       "       [11, 12, 13]])"
      ]
     },
     "execution_count": 34,
     "metadata": {},
     "output_type": "execute_result"
    }
   ],
   "source": [
    "arr_2d"
   ]
  },
  {
   "cell_type": "code",
   "execution_count": 46,
   "metadata": {},
   "outputs": [
    {
     "data": {
      "text/plain": [
       "array([[ 8,  9],\n",
       "       [11, 12]])"
      ]
     },
     "execution_count": 46,
     "metadata": {},
     "output_type": "execute_result"
    }
   ],
   "source": [
    "arr_2d[1:3,0:2]"
   ]
  },
  {
   "cell_type": "code",
   "execution_count": 50,
   "metadata": {},
   "outputs": [
    {
     "data": {
      "text/plain": [
       "(array([False,  True, False,  True, False,  True, False,  True, False,\n",
       "         True]),)"
      ]
     },
     "execution_count": 50,
     "metadata": {},
     "output_type": "execute_result"
    }
   ],
   "source": [
    "#conditional selection\n",
    "arrnew = np.arange(1,11)\n",
    "arrnew\n",
    "#take this array and combine it with comparison operators\n",
    "# to get a full boolean array\n",
    "\n",
    "bool_arr = arrnew %2 == 0,\n",
    "bool_arr"
   ]
  },
  {
   "cell_type": "code",
   "execution_count": 52,
   "metadata": {},
   "outputs": [
    {
     "data": {
      "text/plain": [
       "array([ 2,  4,  6,  8, 10])"
      ]
     },
     "execution_count": 52,
     "metadata": {},
     "output_type": "execute_result"
    }
   ],
   "source": [
    "arrnew[bool_arr]\n",
    "#original array arrnew\n",
    "# indexing elements from arrnew with True bool values"
   ]
  },
  {
   "cell_type": "code",
   "execution_count": 53,
   "metadata": {},
   "outputs": [
    {
     "data": {
      "text/plain": [
       "array([ 2,  4,  6,  8, 10])"
      ]
     },
     "execution_count": 53,
     "metadata": {},
     "output_type": "execute_result"
    }
   ],
   "source": [
    "#this is how you would simplify that\n",
    "#conditional selection\n",
    "arrbool = np.arange(1,11)\n",
    "arrbool[arrbool%2==0]"
   ]
  },
  {
   "cell_type": "code",
   "execution_count": 56,
   "metadata": {},
   "outputs": [
    {
     "data": {
      "text/plain": [
       "array([[ 0,  1,  2,  3,  4,  5,  6,  7,  8,  9],\n",
       "       [10, 11, 12, 13, 14, 15, 16, 17, 18, 19],\n",
       "       [20, 21, 22, 23, 24, 25, 26, 27, 28, 29],\n",
       "       [30, 31, 32, 33, 34, 35, 36, 37, 38, 39],\n",
       "       [40, 41, 42, 43, 44, 45, 46, 47, 48, 49]])"
      ]
     },
     "execution_count": 56,
     "metadata": {},
     "output_type": "execute_result"
    }
   ],
   "source": [
    "arr_new = np.arange(50).reshape(5,10)\n",
    "arr_new"
   ]
  },
  {
   "cell_type": "code",
   "execution_count": 1,
   "metadata": {},
   "outputs": [
    {
     "data": {
      "text/plain": [
       "array([ 0,  2,  4,  6,  8, 10, 12, 14, 16, 18, 20])"
      ]
     },
     "execution_count": 1,
     "metadata": {},
     "output_type": "execute_result"
    }
   ],
   "source": [
    "#numpy operations\n",
    "#operations with arrays\n",
    "\n",
    "# array with array\n",
    "# array with scalars\n",
    "# universal array functions\n",
    "\n",
    "import numpy as np\n",
    "\n",
    "array = np.arange(0,11)\n",
    "array + array"
   ]
  },
  {
   "cell_type": "code",
   "execution_count": 2,
   "metadata": {},
   "outputs": [
    {
     "data": {
      "text/plain": [
       "array([0, 0, 0, 0, 0, 0, 0, 0, 0, 0, 0])"
      ]
     },
     "execution_count": 2,
     "metadata": {},
     "output_type": "execute_result"
    }
   ],
   "source": [
    "array - array"
   ]
  },
  {
   "cell_type": "code",
   "execution_count": 4,
   "metadata": {},
   "outputs": [
    {
     "data": {
      "text/plain": [
       "array([100, 101, 102, 103, 104, 105, 106, 107, 108, 109, 110])"
      ]
     },
     "execution_count": 4,
     "metadata": {},
     "output_type": "execute_result"
    }
   ],
   "source": [
    "#scalars are a single number that is broadcasted to every element in the array\n",
    "\n",
    "array + 100"
   ]
  },
  {
   "cell_type": "code",
   "execution_count": 5,
   "metadata": {},
   "outputs": [
    {
     "data": {
      "text/plain": [
       "array([ 0,  1,  2,  3,  4,  5,  6,  7,  8,  9, 10])"
      ]
     },
     "execution_count": 5,
     "metadata": {},
     "output_type": "execute_result"
    }
   ],
   "source": [
    "# does not change array values\n",
    "array"
   ]
  },
  {
   "cell_type": "code",
   "execution_count": 6,
   "metadata": {},
   "outputs": [
    {
     "ename": "ZeroDivisionError",
     "evalue": "division by zero",
     "output_type": "error",
     "traceback": [
      "\u001b[1;31m---------------------------------------------------------------------------\u001b[0m",
      "\u001b[1;31mZeroDivisionError\u001b[0m                         Traceback (most recent call last)",
      "\u001b[1;32mc:\\Users\\brasea\\Desktop\\Workspace\\python_learning\\python-for-data-science-and-machine-learning\\ch1_dsml_NOTES.ipynb Cell 65'\u001b[0m in \u001b[0;36m<cell line: 1>\u001b[1;34m()\u001b[0m\n\u001b[1;32m----> <a href='vscode-notebook-cell:/c%3A/Users/brasea/Desktop/Workspace/python_learning/python-for-data-science-and-machine-learning/ch1_dsml_NOTES.ipynb#ch0000064?line=0'>1</a>\u001b[0m \u001b[39m1\u001b[39;49m\u001b[39m/\u001b[39;49m\u001b[39m0\u001b[39;49m\n",
      "\u001b[1;31mZeroDivisionError\u001b[0m: division by zero"
     ]
    }
   ],
   "source": [
    "1/0"
   ]
  },
  {
   "cell_type": "code",
   "execution_count": 7,
   "metadata": {},
   "outputs": [
    {
     "name": "stderr",
     "output_type": "stream",
     "text": [
      "C:\\Users\\brasea\\AppData\\Local\\Temp\\ipykernel_14140\\3681233016.py:1: RuntimeWarning: invalid value encountered in divide\n",
      "  array / array\n"
     ]
    },
    {
     "data": {
      "text/plain": [
       "array([nan,  1.,  1.,  1.,  1.,  1.,  1.,  1.,  1.,  1.,  1.])"
      ]
     },
     "execution_count": 7,
     "metadata": {},
     "output_type": "execute_result"
    }
   ],
   "source": [
    "array / array"
   ]
  },
  {
   "cell_type": "code",
   "execution_count": null,
   "metadata": {},
   "outputs": [],
   "source": [
    "#executed and returned a nan value"
   ]
  },
  {
   "cell_type": "code",
   "execution_count": 8,
   "metadata": {},
   "outputs": [
    {
     "name": "stderr",
     "output_type": "stream",
     "text": [
      "C:\\Users\\brasea\\AppData\\Local\\Temp\\ipykernel_14140\\1508088032.py:1: RuntimeWarning: divide by zero encountered in divide\n",
      "  1 / array\n"
     ]
    },
    {
     "data": {
      "text/plain": [
       "array([       inf, 1.        , 0.5       , 0.33333333, 0.25      ,\n",
       "       0.2       , 0.16666667, 0.14285714, 0.125     , 0.11111111,\n",
       "       0.1       ])"
      ]
     },
     "execution_count": 8,
     "metadata": {},
     "output_type": "execute_result"
    }
   ],
   "source": [
    "1 / array"
   ]
  },
  {
   "cell_type": "code",
   "execution_count": null,
   "metadata": {},
   "outputs": [],
   "source": [
    "#if you try to devide another number by zero in the array , it will return back infity -inf"
   ]
  },
  {
   "cell_type": "code",
   "execution_count": 9,
   "metadata": {},
   "outputs": [
    {
     "data": {
      "text/plain": [
       "array([0.        , 1.        , 1.41421356, 1.73205081, 2.        ,\n",
       "       2.23606798, 2.44948974, 2.64575131, 2.82842712, 3.        ,\n",
       "       3.16227766])"
      ]
     },
     "execution_count": 9,
     "metadata": {},
     "output_type": "execute_result"
    }
   ],
   "source": [
    "# universal array functions - mathmatical operations you can use to perform the operations and broadcast it\n",
    "# across the entire array \n",
    "\n",
    "#square root of every element in array\n",
    "np.sqrt(array)"
   ]
  },
  {
   "cell_type": "code",
   "execution_count": 10,
   "metadata": {},
   "outputs": [
    {
     "data": {
      "text/plain": [
       "array([1.00000000e+00, 2.71828183e+00, 7.38905610e+00, 2.00855369e+01,\n",
       "       5.45981500e+01, 1.48413159e+02, 4.03428793e+02, 1.09663316e+03,\n",
       "       2.98095799e+03, 8.10308393e+03, 2.20264658e+04])"
      ]
     },
     "execution_count": 10,
     "metadata": {},
     "output_type": "execute_result"
    }
   ],
   "source": [
    "np.exp(array)"
   ]
  },
  {
   "cell_type": "code",
   "execution_count": 11,
   "metadata": {},
   "outputs": [
    {
     "data": {
      "text/plain": [
       "10"
      ]
     },
     "execution_count": 11,
     "metadata": {},
     "output_type": "execute_result"
    }
   ],
   "source": [
    "#for maximum\n",
    "np.max(array)"
   ]
  },
  {
   "cell_type": "code",
   "execution_count": 13,
   "metadata": {},
   "outputs": [
    {
     "data": {
      "text/plain": [
       "10"
      ]
     },
     "execution_count": 13,
     "metadata": {},
     "output_type": "execute_result"
    }
   ],
   "source": [
    "# OR you can call the max method\n",
    "array.max()"
   ]
  },
  {
   "cell_type": "code",
   "execution_count": 12,
   "metadata": {},
   "outputs": [
    {
     "data": {
      "text/plain": [
       "array([ 0.        ,  0.84147098,  0.90929743,  0.14112001, -0.7568025 ,\n",
       "       -0.95892427, -0.2794155 ,  0.6569866 ,  0.98935825,  0.41211849,\n",
       "       -0.54402111])"
      ]
     },
     "execution_count": 12,
     "metadata": {},
     "output_type": "execute_result"
    }
   ],
   "source": [
    "# can do trigonometric functions \n",
    "np.sin(array)"
   ]
  },
  {
   "cell_type": "code",
   "execution_count": 15,
   "metadata": {},
   "outputs": [
    {
     "name": "stderr",
     "output_type": "stream",
     "text": [
      "C:\\Users\\brasea\\AppData\\Local\\Temp\\ipykernel_14140\\299125506.py:1: RuntimeWarning: divide by zero encountered in log\n",
      "  np.log(array)\n"
     ]
    },
    {
     "data": {
      "text/plain": [
       "array([      -inf, 0.        , 0.69314718, 1.09861229, 1.38629436,\n",
       "       1.60943791, 1.79175947, 1.94591015, 2.07944154, 2.19722458,\n",
       "       2.30258509])"
      ]
     },
     "execution_count": 15,
     "metadata": {},
     "output_type": "execute_result"
    }
   ],
   "source": [
    "np.log(array)\n",
    "#-inf for first value"
   ]
  },
  {
   "cell_type": "code",
   "execution_count": null,
   "metadata": {},
   "outputs": [],
   "source": [
    "# https://numpy.org/doc/stable/reference/ufuncs.html\n",
    "# more universal array documentaion"
   ]
  }
 ],
 "metadata": {
  "kernelspec": {
   "display_name": "Python 3.10.5 64-bit (windows store)",
   "language": "python",
   "name": "python3"
  },
  "language_info": {
   "codemirror_mode": {
    "name": "ipython",
    "version": 3
   },
   "file_extension": ".py",
   "mimetype": "text/x-python",
   "name": "python",
   "nbconvert_exporter": "python",
   "pygments_lexer": "ipython3",
   "version": "3.10.5"
  },
  "orig_nbformat": 4,
  "vscode": {
   "interpreter": {
    "hash": "dd239d5c88ed0fbbea2f22807422df04200bb900720e85b0ada3495c01ab65a0"
   }
  }
 },
 "nbformat": 4,
 "nbformat_minor": 2
}
