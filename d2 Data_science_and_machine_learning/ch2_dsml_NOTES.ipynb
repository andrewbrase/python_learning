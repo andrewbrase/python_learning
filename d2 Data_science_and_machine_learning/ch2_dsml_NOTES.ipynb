{
 "cells": [
  {
   "cell_type": "code",
   "execution_count": null,
   "metadata": {},
   "outputs": [],
   "source": [
    "#ch2 Pandas"
   ]
  },
  {
   "cell_type": "code",
   "execution_count": null,
   "metadata": {},
   "outputs": [],
   "source": [
    "# pandas is an open source library built on top of numpy\n",
    "# it allows for fast analysis and data cleaning and preparation\n",
    "# it excels in performance and productivity\n",
    "# it also has built-in visualization features\n",
    "# it can work with data from a wide variety of sources\n",
    "\n",
    "# pip install pandas"
   ]
  },
  {
   "cell_type": "code",
   "execution_count": null,
   "metadata": {},
   "outputs": [],
   "source": [
    "# Series\n",
    "# DataFrames\n",
    "# Missing Data\n",
    "# GroupBy\n",
    "# Merging,Joining,and Concatinating\n",
    "# Operations\n",
    "# Data Input and Output"
   ]
  },
  {
   "cell_type": "code",
   "execution_count": null,
   "metadata": {},
   "outputs": [],
   "source": [
    "# Series is simular to a numpy array"
   ]
  }
 ],
 "metadata": {
  "language_info": {
   "name": "python"
  },
  "orig_nbformat": 4
 },
 "nbformat": 4,
 "nbformat_minor": 2
}
