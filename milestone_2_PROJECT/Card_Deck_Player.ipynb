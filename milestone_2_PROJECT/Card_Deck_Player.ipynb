{
 "cells": [
  {
   "cell_type": "code",
   "execution_count": 15,
   "metadata": {},
   "outputs": [
    {
     "name": "stdout",
     "output_type": "stream",
     "text": [
      "Jack of Clubs\n",
      "51\n"
     ]
    }
   ],
   "source": [
    "import random\n",
    "\n",
    "suits = ('Hearts', 'Diamonds', 'Spades', 'Clubs')\n",
    "ranks = ('Two', 'Three', 'Four', 'Five', 'Six', 'Seven', 'Eight', 'Nine', 'Ten', 'Jack', 'Queen', 'King', 'Ace')\n",
    "values = {'Two':2, 'Three':3, 'Four':4, 'Five':5, 'Six':6, 'Seven':7, 'Eight':8, \n",
    "            'Nine':9, 'Ten':10, 'Jack':11, 'Queen':12, 'King':13, 'Ace':14}\n",
    "\n",
    "class Card:\n",
    "    \n",
    "    def __init__(self,suit,rank):\n",
    "        self.suit = suit\n",
    "        self.rank = rank\n",
    "        self.value = values[rank]\n",
    "\n",
    "    def __str__(self):\n",
    "        return self.rank + ' of ' + self.suit\n",
    "\n",
    "class Deck:\n",
    "\n",
    "    def __init__(self):\n",
    "        #user input not required to create a new deck,\n",
    "        # self instantiated \n",
    "        self.all_cards = []\n",
    "        #returns back rank and suit\n",
    "\n",
    "        for suit in suits:\n",
    "            for rank in ranks:\n",
    "                #create card object\n",
    "                created_card = Card(suit,rank)\n",
    "                self.all_cards.append(created_card)\n",
    "\n",
    "    def shuffle(self):\n",
    "        random.shuffle(self.all_cards)\n",
    "\n",
    "    def deal_one(self):\n",
    "        #pops off one card from the list of cards and returns it\n",
    "        return self.all_cards.pop()\n",
    "\n",
    "\n",
    "new_deck = Deck()\n",
    "\n",
    "# bottom_card = new_deck.all_cards[-1]\n",
    "# print(bottom_card)\n",
    "\n",
    "###result\n",
    "# Ace of Clubs\n",
    "\n",
    "\n",
    "# #USING SHUFFLE from def shuffle(self):\n",
    "new_deck.shuffle() \n",
    "# print(new_deck.all_cards[-1])\n",
    "\n",
    "###result\n",
    "# Two of Spades\n",
    "\n",
    "# for card_object in new_deck.all_cards:\n",
    "#     print(card_object)\n",
    "\n",
    "mycard = new_deck.deal_one()\n",
    "print(mycard)\n",
    "\n",
    "print(len(new_deck.all_cards))\n",
    "#one card was popped off with the deal_one .pop()"
   ]
  },
  {
   "cell_type": "code",
   "execution_count": 16,
   "metadata": {},
   "outputs": [
    {
     "name": "stdout",
     "output_type": "stream",
     "text": [
      "Queen of Diamonds\n",
      "50\n"
     ]
    }
   ],
   "source": [
    "mycard = new_deck.deal_one()\n",
    "print(mycard)\n",
    "\n",
    "print(len(new_deck.all_cards))"
   ]
  },
  {
   "cell_type": "code",
   "execution_count": 2,
   "metadata": {},
   "outputs": [
    {
     "name": "stdout",
     "output_type": "stream",
     "text": [
      "player jose has 0 cards\n"
     ]
    }
   ],
   "source": [
    "#Player Class\n",
    "# used to hold a players current list of cards\n",
    "# a player should be able to add or remove cards from their hand\n",
    "# (list of card objects)\n",
    "\n",
    "#translating a deck or hand of cards with a top and bottom,\n",
    "# to a python list, python list goes from left to right\n",
    "# we can use indexing \n",
    "\n",
    "#.pop(0) can be used for the top of the list\n",
    "#.append('x') can be used for the bottom of a list\n",
    "# first_list .extend('second_list') can add one list to another\n",
    "\n",
    "#if append is used on two lists one of them will\n",
    "# be a nested list and will return an entire list instead\n",
    "# of just one value\n",
    "\n",
    "class Player:\n",
    "\n",
    "    def __init__(self,name):\n",
    "\n",
    "        self.name = name\n",
    "        self.all_cards = []\n",
    "    \n",
    "    def remove_one(self):\n",
    "        return self.all_cards.pop(0)\n",
    "\n",
    "    def add_cards(self,new_cards):\n",
    "        if type(new_cards) == type([]):\n",
    "            #list of multiple card objects\n",
    "            #extend\n",
    "            self.all_cards.extend(new_cards)\n",
    "        else:\n",
    "            #single card object\n",
    "            #append\n",
    "            self.all_cards.append(new_cards)\n",
    "            \n",
    "\n",
    "    def __str__(self):\n",
    "        return f'player {self.name} has {len(self.all_cards)} cards'\n",
    "\n",
    "    \n",
    "new_player = Player('jose')\n",
    "print(new_player)\n",
    "\n"
   ]
  }
 ],
 "metadata": {
  "kernelspec": {
   "display_name": "Python 3.10.5 64-bit (windows store)",
   "language": "python",
   "name": "python3"
  },
  "language_info": {
   "codemirror_mode": {
    "name": "ipython",
    "version": 3
   },
   "file_extension": ".py",
   "mimetype": "text/x-python",
   "name": "python",
   "nbconvert_exporter": "python",
   "pygments_lexer": "ipython3",
   "version": "3.10.5"
  },
  "orig_nbformat": 4,
  "vscode": {
   "interpreter": {
    "hash": "dd239d5c88ed0fbbea2f22807422df04200bb900720e85b0ada3495c01ab65a0"
   }
  }
 },
 "nbformat": 4,
 "nbformat_minor": 2
}
