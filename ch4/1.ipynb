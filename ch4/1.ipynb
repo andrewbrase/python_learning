{
 "cells": [
  {
   "cell_type": "code",
   "execution_count": 298,
   "metadata": {},
   "outputs": [],
   "source": [
    "#ch4"
   ]
  },
  {
   "cell_type": "code",
   "execution_count": 299,
   "metadata": {},
   "outputs": [
    {
     "name": "stdout",
     "output_type": "stream",
     "text": [
      "original string : heLLO worlD\n",
      "lowercase string 6\n",
      "uppercase string 4\n"
     ]
    }
   ],
   "source": [
    "s = 'heLLO worlD'\n",
    "\n",
    "def upperlowercheck(a):\n",
    "    lowercase = 0\n",
    "    uppercase = 0\n",
    "\n",
    "    for _ in s:\n",
    "        if _.isupper():\n",
    "            uppercase += 1\n",
    "        elif _.islower():\n",
    "            lowercase += 1\n",
    "        else:\n",
    "            pass\n",
    "\n",
    "    print(f'original string : {s}')\n",
    "    print(f'lowercase string {lowercase}')\n",
    "    print(f'uppercase string {uppercase}')\n",
    "\n",
    "upperlowercheck(s)"
   ]
  },
  {
   "cell_type": "code",
   "execution_count": 300,
   "metadata": {},
   "outputs": [
    {
     "name": "stdout",
     "output_type": "stream",
     "text": [
      "original string : heLLO worlD\n",
      "lowercase string 6\n",
      "uppercase string 4\n"
     ]
    }
   ],
   "source": [
    "#dictionary method\n",
    "\n",
    "def upperlowercheck(a):\n",
    "    d = {'upper':0,'lower':0}\n",
    "\n",
    "    for _ in s:\n",
    "        if _.isupper():\n",
    "            d['upper'] += 1\n",
    "        elif _.islower():\n",
    "            d['lower'] += 1\n",
    "        else:\n",
    "            pass\n",
    "\n",
    "    print(f'original string : {s}')\n",
    "    print(f\"lowercase string {d['lower']}\")\n",
    "    print(f\"uppercase string {d['upper']}\")\n",
    "\n",
    "upperlowercheck(s)"
   ]
  },
  {
   "cell_type": "code",
   "execution_count": 301,
   "metadata": {},
   "outputs": [
    {
     "data": {
      "text/plain": [
       "5040"
      ]
     },
     "execution_count": 301,
     "metadata": {},
     "output_type": "execute_result"
    }
   ],
   "source": [
    "#function that multiplies everything\n",
    "#in given list\n",
    "\n",
    "def mult(a):\n",
    "    total = 1\n",
    "    for _ in a:\n",
    "        total = total * _\n",
    "    return total\n",
    "\n",
    "mult([1,2,3,4,5,6,7])"
   ]
  },
  {
   "cell_type": "code",
   "execution_count": 302,
   "metadata": {},
   "outputs": [
    {
     "data": {
      "text/plain": [
       "True"
      ]
     },
     "execution_count": 302,
     "metadata": {},
     "output_type": "execute_result"
    }
   ],
   "source": [
    "#function that checks if palindrome\n",
    "\n",
    "def palindrome(name):\n",
    "    name = name.replace(' ','')\n",
    "    #.replace replaces('spaces','nospaces)\n",
    "    return name == name[::-1]\n",
    "\n",
    "palindrome('nurses run')\n",
    "\n"
   ]
  },
  {
   "cell_type": "code",
   "execution_count": 303,
   "metadata": {},
   "outputs": [
    {
     "data": {
      "text/plain": [
       "True"
      ]
     },
     "execution_count": 303,
     "metadata": {},
     "output_type": "execute_result"
    }
   ],
   "source": [
    "#function checks whether a string is a pangram\n",
    "#sentence uses every letter of the alphabet\n",
    "\n",
    "import string\n",
    "\n",
    "def ispangram(str1, alphabet=string.ascii_lowercase):\n",
    "    # create a set of the alphabet\n",
    "    alphaset = set(alphabet)\n",
    "    # remove any spcaes from the input string\n",
    "    str1 = str1.replace(' ','')\n",
    "    # convert into all lowercase\n",
    "    str1 = str1.lower()\n",
    "    # grab all unique letters from the string set()\n",
    "    str1 = set(str1)\n",
    "    #alphabet set == string set input\n",
    "    return str1 == alphaset\n",
    "\n",
    "ispangram('The Quick Brown Fox Jumps Over The Lazy Dog')\n"
   ]
  },
  {
   "cell_type": "code",
   "execution_count": 304,
   "metadata": {},
   "outputs": [],
   "source": [
    "#milestone project goal - tic tac toe\n",
    "\n",
    "#grab user input, manipulate input, return back \n",
    "#adjusted variable\n",
    "\n",
    "#need visual representation of what user sees\n",
    "#user input would be like choose top right\n",
    "#input sent to function\n",
    "#visual appearance updated\n",
    "\n"
   ]
  },
  {
   "cell_type": "code",
   "execution_count": 305,
   "metadata": {},
   "outputs": [
    {
     "name": "stdout",
     "output_type": "stream",
     "text": [
      "[1, 2, 3]\n",
      "[4, 5, 6]\n",
      "[7, 8, 9]\n"
     ]
    }
   ],
   "source": [
    "# displaying information\n",
    "\n",
    "print([1,2,3])\n",
    "print([4,5,6])\n",
    "print([7,8,9])"
   ]
  },
  {
   "cell_type": "code",
   "execution_count": 306,
   "metadata": {},
   "outputs": [],
   "source": [
    "#this can be simplified\n",
    "\n",
    "def display(row1,row2,row3):\n",
    "    print(row1)\n",
    "    print(row2)\n",
    "    print(row3)\n"
   ]
  },
  {
   "cell_type": "code",
   "execution_count": 307,
   "metadata": {},
   "outputs": [
    {
     "name": "stdout",
     "output_type": "stream",
     "text": [
      "[1, 2, 3]\n",
      "[1, 2, 3]\n",
      "[1, 2, 3]\n"
     ]
    }
   ],
   "source": [
    "example_row = [1,2,3]\n",
    "\n",
    "display(example_row,example_row,example_row)"
   ]
  },
  {
   "cell_type": "code",
   "execution_count": 308,
   "metadata": {},
   "outputs": [
    {
     "name": "stdout",
     "output_type": "stream",
     "text": [
      "['', '', '']\n",
      "['', '', '']\n",
      "['', '', '']\n"
     ]
    }
   ],
   "source": [
    "row1 = ['','','']\n",
    "row2 = ['','','']\n",
    "row3 = ['','','']\n",
    "\n",
    "display(row1,row2,row3)"
   ]
  },
  {
   "cell_type": "code",
   "execution_count": 309,
   "metadata": {},
   "outputs": [
    {
     "name": "stdout",
     "output_type": "stream",
     "text": [
      "['', '', '']\n",
      "['', 'X', '']\n",
      "['', '', '']\n"
     ]
    }
   ],
   "source": [
    "row2[1] = 'X'\n",
    "display(row1,row2,row3)"
   ]
  },
  {
   "cell_type": "code",
   "execution_count": 310,
   "metadata": {},
   "outputs": [],
   "source": [
    "#accepting user input"
   ]
  },
  {
   "cell_type": "code",
   "execution_count": 312,
   "metadata": {},
   "outputs": [
    {
     "data": {
      "text/plain": [
       "'1'"
      ]
     },
     "execution_count": 312,
     "metadata": {},
     "output_type": "execute_result"
    }
   ],
   "source": [
    "input('Enter a value: ')"
   ]
  },
  {
   "cell_type": "code",
   "execution_count": null,
   "metadata": {},
   "outputs": [
    {
     "data": {
      "text/plain": [
       "'O'"
      ]
     },
     "execution_count": 260,
     "metadata": {},
     "output_type": "execute_result"
    }
   ],
   "source": [
    "result = input('Enter a value: ')\n",
    "result"
   ]
  },
  {
   "cell_type": "code",
   "execution_count": null,
   "metadata": {},
   "outputs": [
    {
     "data": {
      "text/plain": [
       "3.124"
      ]
     },
     "execution_count": 261,
     "metadata": {},
     "output_type": "execute_result"
    }
   ],
   "source": [
    "float('3.124')"
   ]
  },
  {
   "cell_type": "code",
   "execution_count": 344,
   "metadata": {},
   "outputs": [
    {
     "data": {
      "text/plain": [
       "1"
      ]
     },
     "execution_count": 344,
     "metadata": {},
     "output_type": "execute_result"
    }
   ],
   "source": [
    "position_index = input('choose an index position')\n",
    "intpos = int(position_index)\n",
    "intpos"
   ]
  },
  {
   "cell_type": "code",
   "execution_count": null,
   "metadata": {},
   "outputs": [
    {
     "data": {
      "text/plain": [
       "['', '', '']"
      ]
     },
     "execution_count": 57,
     "metadata": {},
     "output_type": "execute_result"
    }
   ],
   "source": [
    "row1"
   ]
  },
  {
   "cell_type": "code",
   "execution_count": null,
   "metadata": {},
   "outputs": [
    {
     "data": {
      "text/plain": [
       "''"
      ]
     },
     "execution_count": 60,
     "metadata": {},
     "output_type": "execute_result"
    }
   ],
   "source": [
    "row1[1]"
   ]
  },
  {
   "cell_type": "code",
   "execution_count": null,
   "metadata": {},
   "outputs": [
    {
     "data": {
      "text/plain": [
       "2"
      ]
     },
     "execution_count": 65,
     "metadata": {},
     "output_type": "execute_result"
    }
   ],
   "source": [
    "#grabs string input and converts it to an integer then assigns\n",
    "#it to position_index\n",
    "position_index = int(input('choose an index position'))\n",
    "position_index"
   ]
  },
  {
   "cell_type": "code",
   "execution_count": null,
   "metadata": {},
   "outputs": [
    {
     "data": {
      "text/plain": [
       "''"
      ]
     },
     "execution_count": 66,
     "metadata": {},
     "output_type": "execute_result"
    }
   ],
   "source": [
    "row2[position_index]\n",
    "#selects index of that row"
   ]
  },
  {
   "cell_type": "code",
   "execution_count": null,
   "metadata": {},
   "outputs": [
    {
     "data": {
      "text/plain": [
       "9"
      ]
     },
     "execution_count": 71,
     "metadata": {},
     "output_type": "execute_result"
    }
   ],
   "source": [
    "#validating user input\n",
    "#while loop and check for data type to asky user for correct input\n",
    "\n",
    "def userch():\n",
    "    inp = input('please enter a number (0-10): ')\n",
    "    return int(inp)\n",
    "\n",
    "userch()\n",
    "#if 'nine' was entered, there would be an error\n",
    "\n"
   ]
  },
  {
   "cell_type": "code",
   "execution_count": null,
   "metadata": {},
   "outputs": [
    {
     "data": {
      "text/plain": [
       "True"
      ]
     },
     "execution_count": 91,
     "metadata": {},
     "output_type": "execute_result"
    }
   ],
   "source": [
    "some_value = '100'\n",
    "some_value.isdigit()"
   ]
  },
  {
   "cell_type": "code",
   "execution_count": null,
   "metadata": {},
   "outputs": [],
   "source": [
    "#check if input is both digits and an integer"
   ]
  },
  {
   "cell_type": "code",
   "execution_count": null,
   "metadata": {},
   "outputs": [
    {
     "name": "stdout",
     "output_type": "stream",
     "text": [
      "sorry that was not a digit, please try again\n",
      "sorry that was not a digit, please try again\n"
     ]
    },
    {
     "data": {
      "text/plain": [
       "1"
      ]
     },
     "execution_count": 94,
     "metadata": {},
     "output_type": "execute_result"
    }
   ],
   "source": [
    "def inp():\n",
    "\n",
    "    #set choice equal to a word, so that while can go until it is a digit\n",
    "    choice = 'wrong'\n",
    "\n",
    "    while choice.isdigit() == False:\n",
    "        #while an input does not equal a digit\n",
    "\n",
    "        #choice is equal to user input\n",
    "        choice = input('please enter a number (0-10)')\n",
    "        \n",
    "        #if choice is still equal to a word\n",
    "        if choice.isdigit() == False:\n",
    "            print('sorry that was not a digit, please try again')\n",
    "\n",
    "    #returns user input as an integer, can be used later on as int\n",
    "    return int(choice)\n",
    "\n",
    "inp()\n",
    "    "
   ]
  },
  {
   "cell_type": "code",
   "execution_count": null,
   "metadata": {},
   "outputs": [
    {
     "data": {
      "text/plain": [
       "True"
      ]
     },
     "execution_count": 101,
     "metadata": {},
     "output_type": "execute_result"
    }
   ],
   "source": [
    "#check if input is within 1-10\n",
    "result_value = '1'\n",
    "acceptable_values = range(0,100)\n",
    "\n",
    "int(result_value) in acceptable_values\n"
   ]
  },
  {
   "cell_type": "code",
   "execution_count": null,
   "metadata": {},
   "outputs": [
    {
     "data": {
      "text/plain": [
       "True"
      ]
     },
     "execution_count": 103,
     "metadata": {},
     "output_type": "execute_result"
    }
   ],
   "source": [
    "result_value not in acceptable_values\n",
    "#even though result value = '1' it is not an int"
   ]
  },
  {
   "cell_type": "code",
   "execution_count": null,
   "metadata": {},
   "outputs": [
    {
     "name": "stdout",
     "output_type": "stream",
     "text": [
      "sorry you are out of range (0-10)\n"
     ]
    },
    {
     "data": {
      "text/plain": [
       "1"
      ]
     },
     "execution_count": 107,
     "metadata": {},
     "output_type": "execute_result"
    }
   ],
   "source": [
    "def inp():\n",
    "\n",
    "    choice = 'wrong'\n",
    "\n",
    "    #\n",
    "    accept_range = range(0,10)\n",
    "    within_range = False\n",
    "\n",
    "    #two conditions to check\n",
    "    # while the choice is not a digit or within range = false\n",
    "    while choice.isdigit() == False or within_range == False:\n",
    "\n",
    "        choice = input('please enter a number (0-10)')\n",
    "        \n",
    "        #digit check\n",
    "        if choice.isdigit() == False:\n",
    "            print('sorry that was not a digit, please try again')\n",
    "        #range check\n",
    "        #  == checking for equallity, = is an assignment\n",
    "        if choice.isdigit() == True:\n",
    "            if int(choice) in accept_range:\n",
    "                # = assignment\n",
    "                within_range = True\n",
    "            else:\n",
    "                print('sorry you are out of range (0-10)')\n",
    "                within_range = False\n",
    "\n",
    "\n",
    "    return int(choice)\n",
    "\n",
    "inp()"
   ]
  },
  {
   "cell_type": "code",
   "execution_count": null,
   "metadata": {},
   "outputs": [
    {
     "name": "stdout",
     "output_type": "stream",
     "text": [
      "33 is within range\n"
     ]
    }
   ],
   "source": [
    "def selfrev():\n",
    "\n",
    "    inputvalue = 'this is wrong, not a digit'\n",
    "    accepted_range = range(33,40)\n",
    "    is_choice_within_range = False\n",
    "\n",
    "    while inputvalue.isdigit() == False or is_choice_within_range == False:\n",
    "        inputvalue = input('please select a digit in range (33 - 40)')\n",
    "        if inputvalue.isdigit() == False:\n",
    "            print(f'sorry {inputvalue} was incorrect, please select a digit in range (33 - 40)')\n",
    "        if inputvalue.isdigit() == True:\n",
    "            if int(inputvalue) in accepted_range:\n",
    "                is_choice_within_range = True\n",
    "            else:\n",
    "                print(f'sorry {inputvalue} was incorrect, please select in range (33 - 40)')\n",
    "                is_choice_within_range == False\n",
    "\n",
    "    print(f'{inputvalue} is within range')\n",
    "\n",
    "selfrev()\n",
    "    \n"
   ]
  },
  {
   "cell_type": "code",
   "execution_count": null,
   "metadata": {},
   "outputs": [],
   "source": [
    "#simple user interaction\n",
    "    #display a list\n",
    "    #have a user choose an index position and an input value\n",
    "    #replace value at index position with user's chosen input value\n"
   ]
  },
  {
   "cell_type": "code",
   "execution_count": null,
   "metadata": {},
   "outputs": [],
   "source": [
    "#function to display the game\n",
    "#function where user chooses the position\n",
    "#replacement choice function - user inputs string\n",
    "#function to ask if user wants to keep playing"
   ]
  },
  {
   "cell_type": "code",
   "execution_count": null,
   "metadata": {},
   "outputs": [],
   "source": [
    "############################################################################################\n",
    "#MILESTONE PROJECT\n",
    "\n",
    "#two players should be able to play the game (both sitting at the same computer)\n",
    "#the board should be printed out everytime a player makes a move\n",
    "#You should be able to accept input of the player postion and then place the symbol on the board\n",
    "\n",
    "# Q W E\n",
    "# A S D\n",
    "# Z X C\n",
    "\n",
    "#print X at location\n",
    "#print O at location"
   ]
  },
  {
   "cell_type": "code",
   "execution_count": 92,
   "metadata": {},
   "outputs": [
    {
     "name": "stdout",
     "output_type": "stream",
     "text": [
      "[' ', ' ', ' ']\n",
      "[' ', ' ', ' ']\n",
      "[' ', ' ', ' ']\n"
     ]
    }
   ],
   "source": [
    "#Write a function that can print out a board. Set up your board as a list, where each index 1-9 corresponds with a number on a number pad, so you get a 3 by 3 board representation\n",
    "\n",
    "#decided to use a dict\n",
    "board = {'Q':' ','W':' ','E':' ','A':' ','S':' ','D':' ','Z':' ','X':' ','C':' '}\n",
    "start_board = {'Q':' ','W':' ','E':' ','A':' ','S':' ','D':' ','Z':' ','X':' ','C':' '}\n",
    "\n",
    "\n",
    "def display_board(a):\n",
    "\n",
    "    the_values = list(a.values())\n",
    "\n",
    "    ticrow1 = the_values[0:3]\n",
    "    ticrow2 = the_values[3:6]\n",
    "    ticrow3 = the_values[6:9]\n",
    "\n",
    "    print(ticrow1)\n",
    "    print(ticrow2)\n",
    "    print(ticrow3)\n",
    "\n",
    "    \n",
    "display_board(board)\n"
   ]
  },
  {
   "cell_type": "code",
   "execution_count": 93,
   "metadata": {},
   "outputs": [
    {
     "data": {
      "text/plain": [
       "['O', 'A']"
      ]
     },
     "execution_count": 93,
     "metadata": {},
     "output_type": "execute_result"
    }
   ],
   "source": [
    "#Write a function that can take in a player input and assign their marker as 'X' or 'O'. Think about using *while* loops to continually ask until you get a correct answer\n",
    "\n",
    "inps = 'default'\n",
    "pos = 'default'\n",
    "\n",
    "def player_input(a,b):\n",
    " \n",
    "    while a != 'X' or a != 'O':\n",
    "        a = input('please enter X or O')\n",
    "        if a == 'X' or a == 'O':\n",
    "            #ask for position (b)\n",
    "            b = input('please enter a position')\n",
    "            #\n",
    "            return [a,b]\n",
    "        if a != 'X' or a != 'O':\n",
    "            print(f'Sorry {a} not recognized, please enter X or O')\n",
    "\n",
    "player_input(inps,pos)\n"
   ]
  },
  {
   "cell_type": "code",
   "execution_count": 98,
   "metadata": {},
   "outputs": [
    {
     "name": "stdout",
     "output_type": "stream",
     "text": [
      "['X', ' ', 'O']\n",
      "['O', ' ', ' ']\n",
      "[' ', ' ', 'X']\n",
      "player O location E selected\n"
     ]
    }
   ],
   "source": [
    "\n",
    "inps = 'default'\n",
    "pos = 'default'\n",
    "\n",
    "def player_input(a,b):\n",
    " \n",
    "    while a != 'X' or a != 'O':\n",
    "        a = input('please enter X or O')\n",
    "        if a == 'X' or a == 'O':\n",
    "            #ask for position (b)\n",
    "            b = input('please enter a position')\n",
    "            #\n",
    "            board[b] = a\n",
    "            display_board(board)\n",
    "            print(f'player {a} location {b} selected')\n",
    "            return\n",
    "        if a != 'X' or a != 'O':\n",
    "            print(f'Sorry {a} not recognized, please enter X or O')\n",
    "\n",
    "player_input(inps,pos)\n"
   ]
  }
 ],
 "metadata": {
  "interpreter": {
   "hash": "79607b36fb8dc03ee352315c3f810266520521b71bf1299f5791854579885cc3"
  },
  "kernelspec": {
   "display_name": "Python 3.10.4 64-bit",
   "language": "python",
   "name": "python3"
  },
  "language_info": {
   "codemirror_mode": {
    "name": "ipython",
    "version": 3
   },
   "file_extension": ".py",
   "mimetype": "text/x-python",
   "name": "python",
   "nbconvert_exporter": "python",
   "pygments_lexer": "ipython3",
   "version": "3.10.4"
  },
  "orig_nbformat": 4
 },
 "nbformat": 4,
 "nbformat_minor": 2
}
