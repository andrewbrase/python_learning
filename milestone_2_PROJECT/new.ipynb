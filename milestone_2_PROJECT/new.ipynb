{
 "cells": [
  {
   "cell_type": "code",
   "execution_count": null,
   "metadata": {},
   "outputs": [],
   "source": [
    "#global variables\n",
    "\n",
    "\n",
    "\n",
    "#card class\n",
    "#suit rank and int value for comparing cards\n",
    "class Card:\n",
    "\n",
    "    #take in suit and rank from global, values are based off of dict\n",
    "    def __init__(self,suit,rank):\n",
    "\n",
    "#deck class\n",
    "#uses instances of card class\n",
    "\n",
    "#player class\n",
    "#hold cards from a deck\n",
    "\n",
    "#game logic"
   ]
  }
 ],
 "metadata": {
  "language_info": {
   "name": "python"
  },
  "orig_nbformat": 4
 },
 "nbformat": 4,
 "nbformat_minor": 2
}
